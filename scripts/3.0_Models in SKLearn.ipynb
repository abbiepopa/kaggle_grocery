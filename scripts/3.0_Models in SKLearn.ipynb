{
 "cells": [
  {
   "cell_type": "code",
   "execution_count": 1,
   "metadata": {},
   "outputs": [],
   "source": [
    "import pandas as pd\n",
    "from scipy import stats\n",
    "import numpy as np\n",
    "%matplotlib inline\n",
    "import seaborn as sns\n",
    "import matplotlib.pyplot as plt\n",
    "import dask.dataframe as dd\n",
    "from datetime import datetime\n",
    "import random\n",
    "\n",
    "import sys\n",
    "\n",
    "from dateutil.parser import parse\n",
    "from matplotlib import dates\n",
    "\n",
    "from sklearn import preprocessing, neighbors, linear_model, model_selection, ensemble"
   ]
  },
  {
   "cell_type": "code",
   "execution_count": 2,
   "metadata": {},
   "outputs": [],
   "source": [
    "d = pd.read_csv('../data/2016_subset_all_tables.csv', index_col = 0)"
   ]
  },
  {
   "cell_type": "code",
   "execution_count": 3,
   "metadata": {},
   "outputs": [
    {
     "data": {
      "text/html": [
       "<div>\n",
       "<style scoped>\n",
       "    .dataframe tbody tr th:only-of-type {\n",
       "        vertical-align: middle;\n",
       "    }\n",
       "\n",
       "    .dataframe tbody tr th {\n",
       "        vertical-align: top;\n",
       "    }\n",
       "\n",
       "    .dataframe thead th {\n",
       "        text-align: right;\n",
       "    }\n",
       "</style>\n",
       "<table border=\"1\" class=\"dataframe\">\n",
       "  <thead>\n",
       "    <tr style=\"text-align: right;\">\n",
       "      <th></th>\n",
       "      <th>date</th>\n",
       "      <th>store_nbr</th>\n",
       "      <th>item_nbr</th>\n",
       "      <th>unit_sales</th>\n",
       "      <th>onpromotion</th>\n",
       "      <th>family</th>\n",
       "      <th>class</th>\n",
       "      <th>perishable</th>\n",
       "      <th>dcoilwtico</th>\n",
       "      <th>city</th>\n",
       "      <th>state</th>\n",
       "      <th>type</th>\n",
       "      <th>cluster</th>\n",
       "      <th>transactions</th>\n",
       "      <th>holitype</th>\n",
       "    </tr>\n",
       "    <tr>\n",
       "      <th>id</th>\n",
       "      <th></th>\n",
       "      <th></th>\n",
       "      <th></th>\n",
       "      <th></th>\n",
       "      <th></th>\n",
       "      <th></th>\n",
       "      <th></th>\n",
       "      <th></th>\n",
       "      <th></th>\n",
       "      <th></th>\n",
       "      <th></th>\n",
       "      <th></th>\n",
       "      <th></th>\n",
       "      <th></th>\n",
       "      <th></th>\n",
       "    </tr>\n",
       "  </thead>\n",
       "  <tbody>\n",
       "    <tr>\n",
       "      <th>71278985</th>\n",
       "      <td>2016-02-22</td>\n",
       "      <td>6</td>\n",
       "      <td>1464027</td>\n",
       "      <td>3.0</td>\n",
       "      <td>False</td>\n",
       "      <td>BEVERAGES</td>\n",
       "      <td>1148</td>\n",
       "      <td>0</td>\n",
       "      <td>31.37</td>\n",
       "      <td>Quito</td>\n",
       "      <td>Pichincha</td>\n",
       "      <td>D</td>\n",
       "      <td>13</td>\n",
       "      <td>1630</td>\n",
       "      <td>No_Holiday</td>\n",
       "    </tr>\n",
       "    <tr>\n",
       "      <th>82077989</th>\n",
       "      <td>2016-06-14</td>\n",
       "      <td>6</td>\n",
       "      <td>1913600</td>\n",
       "      <td>1.0</td>\n",
       "      <td>False</td>\n",
       "      <td>PERSONAL CARE</td>\n",
       "      <td>4118</td>\n",
       "      <td>0</td>\n",
       "      <td>48.49</td>\n",
       "      <td>Quito</td>\n",
       "      <td>Pichincha</td>\n",
       "      <td>D</td>\n",
       "      <td>13</td>\n",
       "      <td>1603</td>\n",
       "      <td>No_Holiday</td>\n",
       "    </tr>\n",
       "    <tr>\n",
       "      <th>92852321</th>\n",
       "      <td>2016-10-04</td>\n",
       "      <td>6</td>\n",
       "      <td>881701</td>\n",
       "      <td>2.0</td>\n",
       "      <td>False</td>\n",
       "      <td>GROCERY I</td>\n",
       "      <td>1042</td>\n",
       "      <td>0</td>\n",
       "      <td>48.67</td>\n",
       "      <td>Quito</td>\n",
       "      <td>Pichincha</td>\n",
       "      <td>D</td>\n",
       "      <td>13</td>\n",
       "      <td>1605</td>\n",
       "      <td>No_Holiday</td>\n",
       "    </tr>\n",
       "    <tr>\n",
       "      <th>72713582</th>\n",
       "      <td>2016-03-08</td>\n",
       "      <td>6</td>\n",
       "      <td>1150954</td>\n",
       "      <td>2.0</td>\n",
       "      <td>False</td>\n",
       "      <td>BEVERAGES</td>\n",
       "      <td>1124</td>\n",
       "      <td>0</td>\n",
       "      <td>36.67</td>\n",
       "      <td>Quito</td>\n",
       "      <td>Pichincha</td>\n",
       "      <td>D</td>\n",
       "      <td>13</td>\n",
       "      <td>1732</td>\n",
       "      <td>No_Holiday</td>\n",
       "    </tr>\n",
       "    <tr>\n",
       "      <th>72714342</th>\n",
       "      <td>2016-03-08</td>\n",
       "      <td>6</td>\n",
       "      <td>1898960</td>\n",
       "      <td>5.0</td>\n",
       "      <td>False</td>\n",
       "      <td>BEVERAGES</td>\n",
       "      <td>1126</td>\n",
       "      <td>0</td>\n",
       "      <td>36.67</td>\n",
       "      <td>Quito</td>\n",
       "      <td>Pichincha</td>\n",
       "      <td>D</td>\n",
       "      <td>13</td>\n",
       "      <td>1732</td>\n",
       "      <td>No_Holiday</td>\n",
       "    </tr>\n",
       "  </tbody>\n",
       "</table>\n",
       "</div>"
      ],
      "text/plain": [
       "                date  store_nbr  item_nbr  unit_sales  onpromotion  \\\n",
       "id                                                                   \n",
       "71278985  2016-02-22          6   1464027         3.0        False   \n",
       "82077989  2016-06-14          6   1913600         1.0        False   \n",
       "92852321  2016-10-04          6    881701         2.0        False   \n",
       "72713582  2016-03-08          6   1150954         2.0        False   \n",
       "72714342  2016-03-08          6   1898960         5.0        False   \n",
       "\n",
       "                 family  class  perishable  dcoilwtico   city      state type  \\\n",
       "id                                                                              \n",
       "71278985      BEVERAGES   1148           0       31.37  Quito  Pichincha    D   \n",
       "82077989  PERSONAL CARE   4118           0       48.49  Quito  Pichincha    D   \n",
       "92852321      GROCERY I   1042           0       48.67  Quito  Pichincha    D   \n",
       "72713582      BEVERAGES   1124           0       36.67  Quito  Pichincha    D   \n",
       "72714342      BEVERAGES   1126           0       36.67  Quito  Pichincha    D   \n",
       "\n",
       "          cluster  transactions    holitype  \n",
       "id                                           \n",
       "71278985       13          1630  No_Holiday  \n",
       "82077989       13          1603  No_Holiday  \n",
       "92852321       13          1605  No_Holiday  \n",
       "72713582       13          1732  No_Holiday  \n",
       "72714342       13          1732  No_Holiday  "
      ]
     },
     "execution_count": 3,
     "metadata": {},
     "output_type": "execute_result"
    }
   ],
   "source": [
    "d.head()"
   ]
  },
  {
   "cell_type": "code",
   "execution_count": 4,
   "metadata": {},
   "outputs": [],
   "source": [
    "d['date_as_datetime'] = [parse(x) for x in d['date']]\n",
    "d['date_as_num'] = [dates.date2num(x) for x in d['date_as_datetime']]"
   ]
  },
  {
   "cell_type": "code",
   "execution_count": 5,
   "metadata": {},
   "outputs": [
    {
     "data": {
      "text/html": [
       "<div>\n",
       "<style scoped>\n",
       "    .dataframe tbody tr th:only-of-type {\n",
       "        vertical-align: middle;\n",
       "    }\n",
       "\n",
       "    .dataframe tbody tr th {\n",
       "        vertical-align: top;\n",
       "    }\n",
       "\n",
       "    .dataframe thead th {\n",
       "        text-align: right;\n",
       "    }\n",
       "</style>\n",
       "<table border=\"1\" class=\"dataframe\">\n",
       "  <thead>\n",
       "    <tr style=\"text-align: right;\">\n",
       "      <th></th>\n",
       "      <th>date</th>\n",
       "      <th>store_nbr</th>\n",
       "      <th>item_nbr</th>\n",
       "      <th>unit_sales</th>\n",
       "      <th>onpromotion</th>\n",
       "      <th>family</th>\n",
       "      <th>class</th>\n",
       "      <th>perishable</th>\n",
       "      <th>dcoilwtico</th>\n",
       "      <th>city</th>\n",
       "      <th>state</th>\n",
       "      <th>type</th>\n",
       "      <th>cluster</th>\n",
       "      <th>transactions</th>\n",
       "      <th>holitype</th>\n",
       "      <th>date_as_datetime</th>\n",
       "      <th>date_as_num</th>\n",
       "    </tr>\n",
       "    <tr>\n",
       "      <th>id</th>\n",
       "      <th></th>\n",
       "      <th></th>\n",
       "      <th></th>\n",
       "      <th></th>\n",
       "      <th></th>\n",
       "      <th></th>\n",
       "      <th></th>\n",
       "      <th></th>\n",
       "      <th></th>\n",
       "      <th></th>\n",
       "      <th></th>\n",
       "      <th></th>\n",
       "      <th></th>\n",
       "      <th></th>\n",
       "      <th></th>\n",
       "      <th></th>\n",
       "      <th></th>\n",
       "    </tr>\n",
       "  </thead>\n",
       "  <tbody>\n",
       "    <tr>\n",
       "      <th>71278985</th>\n",
       "      <td>2016-02-22</td>\n",
       "      <td>6</td>\n",
       "      <td>1464027</td>\n",
       "      <td>3.0</td>\n",
       "      <td>False</td>\n",
       "      <td>BEVERAGES</td>\n",
       "      <td>1148</td>\n",
       "      <td>0</td>\n",
       "      <td>31.37</td>\n",
       "      <td>Quito</td>\n",
       "      <td>Pichincha</td>\n",
       "      <td>D</td>\n",
       "      <td>13</td>\n",
       "      <td>1630</td>\n",
       "      <td>No_Holiday</td>\n",
       "      <td>2016-02-22</td>\n",
       "      <td>736016.0</td>\n",
       "    </tr>\n",
       "    <tr>\n",
       "      <th>82077989</th>\n",
       "      <td>2016-06-14</td>\n",
       "      <td>6</td>\n",
       "      <td>1913600</td>\n",
       "      <td>1.0</td>\n",
       "      <td>False</td>\n",
       "      <td>PERSONAL CARE</td>\n",
       "      <td>4118</td>\n",
       "      <td>0</td>\n",
       "      <td>48.49</td>\n",
       "      <td>Quito</td>\n",
       "      <td>Pichincha</td>\n",
       "      <td>D</td>\n",
       "      <td>13</td>\n",
       "      <td>1603</td>\n",
       "      <td>No_Holiday</td>\n",
       "      <td>2016-06-14</td>\n",
       "      <td>736129.0</td>\n",
       "    </tr>\n",
       "    <tr>\n",
       "      <th>92852321</th>\n",
       "      <td>2016-10-04</td>\n",
       "      <td>6</td>\n",
       "      <td>881701</td>\n",
       "      <td>2.0</td>\n",
       "      <td>False</td>\n",
       "      <td>GROCERY I</td>\n",
       "      <td>1042</td>\n",
       "      <td>0</td>\n",
       "      <td>48.67</td>\n",
       "      <td>Quito</td>\n",
       "      <td>Pichincha</td>\n",
       "      <td>D</td>\n",
       "      <td>13</td>\n",
       "      <td>1605</td>\n",
       "      <td>No_Holiday</td>\n",
       "      <td>2016-10-04</td>\n",
       "      <td>736241.0</td>\n",
       "    </tr>\n",
       "    <tr>\n",
       "      <th>72713582</th>\n",
       "      <td>2016-03-08</td>\n",
       "      <td>6</td>\n",
       "      <td>1150954</td>\n",
       "      <td>2.0</td>\n",
       "      <td>False</td>\n",
       "      <td>BEVERAGES</td>\n",
       "      <td>1124</td>\n",
       "      <td>0</td>\n",
       "      <td>36.67</td>\n",
       "      <td>Quito</td>\n",
       "      <td>Pichincha</td>\n",
       "      <td>D</td>\n",
       "      <td>13</td>\n",
       "      <td>1732</td>\n",
       "      <td>No_Holiday</td>\n",
       "      <td>2016-03-08</td>\n",
       "      <td>736031.0</td>\n",
       "    </tr>\n",
       "    <tr>\n",
       "      <th>72714342</th>\n",
       "      <td>2016-03-08</td>\n",
       "      <td>6</td>\n",
       "      <td>1898960</td>\n",
       "      <td>5.0</td>\n",
       "      <td>False</td>\n",
       "      <td>BEVERAGES</td>\n",
       "      <td>1126</td>\n",
       "      <td>0</td>\n",
       "      <td>36.67</td>\n",
       "      <td>Quito</td>\n",
       "      <td>Pichincha</td>\n",
       "      <td>D</td>\n",
       "      <td>13</td>\n",
       "      <td>1732</td>\n",
       "      <td>No_Holiday</td>\n",
       "      <td>2016-03-08</td>\n",
       "      <td>736031.0</td>\n",
       "    </tr>\n",
       "  </tbody>\n",
       "</table>\n",
       "</div>"
      ],
      "text/plain": [
       "                date  store_nbr  item_nbr  unit_sales  onpromotion  \\\n",
       "id                                                                   \n",
       "71278985  2016-02-22          6   1464027         3.0        False   \n",
       "82077989  2016-06-14          6   1913600         1.0        False   \n",
       "92852321  2016-10-04          6    881701         2.0        False   \n",
       "72713582  2016-03-08          6   1150954         2.0        False   \n",
       "72714342  2016-03-08          6   1898960         5.0        False   \n",
       "\n",
       "                 family  class  perishable  dcoilwtico   city      state type  \\\n",
       "id                                                                              \n",
       "71278985      BEVERAGES   1148           0       31.37  Quito  Pichincha    D   \n",
       "82077989  PERSONAL CARE   4118           0       48.49  Quito  Pichincha    D   \n",
       "92852321      GROCERY I   1042           0       48.67  Quito  Pichincha    D   \n",
       "72713582      BEVERAGES   1124           0       36.67  Quito  Pichincha    D   \n",
       "72714342      BEVERAGES   1126           0       36.67  Quito  Pichincha    D   \n",
       "\n",
       "          cluster  transactions    holitype date_as_datetime  date_as_num  \n",
       "id                                                                         \n",
       "71278985       13          1630  No_Holiday       2016-02-22     736016.0  \n",
       "82077989       13          1603  No_Holiday       2016-06-14     736129.0  \n",
       "92852321       13          1605  No_Holiday       2016-10-04     736241.0  \n",
       "72713582       13          1732  No_Holiday       2016-03-08     736031.0  \n",
       "72714342       13          1732  No_Holiday       2016-03-08     736031.0  "
      ]
     },
     "execution_count": 5,
     "metadata": {},
     "output_type": "execute_result"
    }
   ],
   "source": [
    "d.head()"
   ]
  },
  {
   "cell_type": "code",
   "execution_count": 6,
   "metadata": {},
   "outputs": [],
   "source": [
    "d = d.join(pd.get_dummies(d['family'], prefix = 'family'))\n",
    "d = d.join(pd.get_dummies(d['type'], prefix = 'type'))\n",
    "d = d.join(pd.get_dummies(d['city'], prefix = 'city'))\n",
    "d = d.join(pd.get_dummies(d['holitype'], prefix = 'holitype'))"
   ]
  },
  {
   "cell_type": "code",
   "execution_count": 7,
   "metadata": {},
   "outputs": [],
   "source": [
    "d = d.dropna()"
   ]
  },
  {
   "cell_type": "code",
   "execution_count": 8,
   "metadata": {},
   "outputs": [],
   "source": [
    "v_train, v_test = model_selection.train_test_split(d, test_size = 0.25)"
   ]
  },
  {
   "cell_type": "code",
   "execution_count": 9,
   "metadata": {},
   "outputs": [
    {
     "name": "stdout",
     "output_type": "stream",
     "text": [
      "0.0543199883553\n"
     ]
    }
   ],
   "source": [
    "v_train_cols = ['onpromotion', 'perishable', 'dcoilwtico',\n",
    "       'transactions',\n",
    "       'family_AUTOMOTIVE', 'family_BABY CARE', 'family_BEAUTY',\n",
    "       'family_BEVERAGES', 'family_BOOKS', 'family_BREAD/BAKERY',\n",
    "       'family_CELEBRATION', 'family_CLEANING', 'family_DAIRY', 'family_DELI',\n",
    "       'family_EGGS', 'family_FROZEN FOODS', 'family_GROCERY I',\n",
    "       'family_GROCERY II', 'family_HARDWARE', 'family_HOME AND KITCHEN I',\n",
    "       'family_HOME AND KITCHEN II', 'family_HOME CARE', 'family_LADIESWEAR',\n",
    "       'family_LAWN AND GARDEN', 'family_LINGERIE', 'family_LIQUOR,WINE,BEER',\n",
    "       'family_MAGAZINES', 'family_MEATS', 'family_PERSONAL CARE',\n",
    "       'family_PET SUPPLIES', 'family_PLAYERS AND ELECTRONICS',\n",
    "       'family_POULTRY', 'family_PREPARED FOODS', 'family_PRODUCE',\n",
    "       'family_SCHOOL AND OFFICE SUPPLIES', 'family_SEAFOOD', 'type_A',\n",
    "       'type_B', 'type_C', 'type_D', 'type_E', 'city_Ambato', 'city_Babahoyo',\n",
    "       'city_Cayambe', 'city_Cuenca', 'city_Daule', 'city_El Carmen',\n",
    "       'city_Esmeraldas', 'city_Guaranda', 'city_Guayaquil', 'city_Ibarra',\n",
    "       'city_Latacunga', 'city_Libertad', 'city_Loja', 'city_Machala',\n",
    "       'city_Manta', 'city_Playas', 'city_Puyo', 'city_Quevedo', 'city_Quito',\n",
    "       'city_Riobamba', 'city_Salinas', 'city_Santo Domingo',\n",
    "       'holitype_Additional', 'holitype_Bridge', 'holitype_Event',\n",
    "       'holitype_Holiday', 'holitype_No_Holiday', 'holitype_Transfer']\n",
    "\n",
    "lin_reg = linear_model.LinearRegression()\n",
    "lin_reg.fit(v_train.loc[:, v_train_cols], v_train.loc[:, ['unit_sales']])\n",
    "\n",
    "print(lin_reg.score(v_test.loc[:,v_train_cols], v_test.loc[:, ['unit_sales']]))\n",
    "all_lin = lin_reg.score(v_test.loc[:,v_train_cols], v_test.loc[:, ['unit_sales']])"
   ]
  },
  {
   "cell_type": "code",
   "execution_count": 10,
   "metadata": {},
   "outputs": [
    {
     "name": "stdout",
     "output_type": "stream",
     "text": [
      "[ -3.11541453e+00  -1.31350639e-01  -3.22547469e-02  -2.45190352e-02\n",
      "  -1.71727255e-02  -2.39468217e-02  -4.63219001e-03  -2.53733022e-04\n",
      "   4.01732100e-03   8.88332336e-03   1.39571513e-02   1.25266290e-02\n",
      "   1.20885826e-02   1.50273056e-02   1.58907732e-02   1.66193718e-02\n",
      "   1.84112358e-02   1.87312793e-02   1.76065287e-02   1.88462854e-02]\n",
      "[-0.18425602 -0.01261413  0.01395321  0.0475413   0.03875041  0.03945202\n",
      "  0.03502822  0.03206176  0.03060998  0.03100981  0.03029816  0.02859598\n",
      "  0.02819052  0.02788254  0.02700116  0.0258452   0.02537602  0.02562899\n",
      "  0.0257373   0.02610299]\n",
      "[-1.67450879 -0.07295276 -0.04202912  0.03096643  0.03068195  0.03220809\n",
      "  0.02285318  0.0293928   0.03530113  0.03391191  0.0349604   0.0358115\n",
      "  0.03648696  0.03621666  0.03483657  0.03511892  0.03570716  0.03530716\n",
      "  0.03418021  0.03532773]\n"
     ]
    }
   ],
   "source": [
    "knn = neighbors.KNeighborsRegressor()\n",
    "\n",
    "knn_param_grid = [\n",
    "    {'n_neighbors': range(1,200, 10)}\n",
    "]\n",
    "\n",
    "knn_grid = model_selection.GridSearchCV(knn, param_grid = knn_param_grid)\n",
    "knn_grid.fit(v_train.loc[:, v_train_cols], v_train.loc[:, ['unit_sales']])\n",
    "\n",
    "\n",
    "print(knn_grid.cv_results_['split0_test_score'])\n",
    "print(knn_grid.cv_results_['split1_test_score'])\n",
    "print(knn_grid.cv_results_['split2_test_score'])"
   ]
  },
  {
   "cell_type": "code",
   "execution_count": 11,
   "metadata": {},
   "outputs": [
    {
     "data": {
      "image/png": "[encoded data removed]",
      "text/plain": [
       "<matplotlib.figure.Figure at 0x119b62a58>"
      ]
     },
     "metadata": {},
     "output_type": "display_data"
    }
   ],
   "source": [
    "\n",
    "sp0 = sns.regplot(np.array(range(1, 200, 10)), knn_grid.cv_results_['split0_test_score'], fit_reg = False, label = 'split0').set(xlabel = 'n_neighbors', ylabel = 'accuracy')\n",
    "sp1 = sns.regplot(np.array(range(1, 200, 10)), knn_grid.cv_results_['split1_test_score'], fit_reg = False, label = 'split1')\n",
    "sp2 = sns.regplot(np.array(range(1, 200, 10)), knn_grid.cv_results_['split2_test_score'], fit_reg = False, label = 'split2')\n",
    "\n",
    "plt.show()\n"
   ]
  },
  {
   "cell_type": "code",
   "execution_count": 12,
   "metadata": {},
   "outputs": [
    {
     "data": {
      "text/plain": [
       "0.026808146877675632"
      ]
     },
     "execution_count": 12,
     "metadata": {},
     "output_type": "execute_result"
    }
   ],
   "source": [
    "knn_200 = neighbors.KNeighborsRegressor(n_neighbors = 200)\n",
    "knn_200.fit(v_train.loc[:, v_train_cols], v_train.loc[:, ['unit_sales']])\n",
    "knn_200.score(v_test.loc[:,v_train_cols], v_test.loc[:, ['unit_sales']])"
   ]
  },
  {
   "cell_type": "code",
   "execution_count": 13,
   "metadata": {},
   "outputs": [
    {
     "name": "stderr",
     "output_type": "stream",
     "text": [
      "/anaconda/lib/python3.5/site-packages/ipykernel_launcher.py:2: DataConversionWarning: A column-vector y was passed when a 1d array was expected. Please change the shape of y to (n_samples,), for example using ravel().\n",
      "  \n"
     ]
    },
    {
     "data": {
      "text/plain": [
       "-0.029690131007828136"
      ]
     },
     "execution_count": 13,
     "metadata": {},
     "output_type": "execute_result"
    }
   ],
   "source": [
    "rf = ensemble.RandomForestRegressor()\n",
    "rf.fit(v_train.loc[:, v_train_cols], v_train.loc[:, ['unit_sales']])\n",
    "rf.score(v_test.loc[:,v_train_cols], v_test.loc[:, ['unit_sales']])"
   ]
  },
  {
   "cell_type": "code",
   "execution_count": 14,
   "metadata": {},
   "outputs": [
    {
     "name": "stdout",
     "output_type": "stream",
     "text": [
      "0.0500518038934\n"
     ]
    }
   ],
   "source": [
    "#ugghhhh the huge number of one-hot columns is causing me troubles!\n",
    "#maybe it's time to switch to H2O!\n",
    "\n",
    "#for now linear regression is performing best, but lets see if it needs the categorical stuff\n",
    "\n",
    "v_train_cols = ['onpromotion', 'perishable', 'dcoilwtico',\n",
    "       'transactions',\n",
    "       'family_AUTOMOTIVE', 'family_BABY CARE', 'family_BEAUTY',\n",
    "       'family_BEVERAGES', 'family_BOOKS', 'family_BREAD/BAKERY',\n",
    "       'family_CELEBRATION', 'family_CLEANING', 'family_DAIRY', 'family_DELI',\n",
    "       'family_EGGS', 'family_FROZEN FOODS', 'family_GROCERY I',\n",
    "       'family_GROCERY II', 'family_HARDWARE', 'family_HOME AND KITCHEN I',\n",
    "       'family_HOME AND KITCHEN II', 'family_HOME CARE', 'family_LADIESWEAR',\n",
    "       'family_LAWN AND GARDEN', 'family_LINGERIE', 'family_LIQUOR,WINE,BEER',\n",
    "       'family_MAGAZINES', 'family_MEATS', 'family_PERSONAL CARE',\n",
    "       'family_PET SUPPLIES', 'family_PLAYERS AND ELECTRONICS',\n",
    "       'family_POULTRY', 'family_PREPARED FOODS', 'family_PRODUCE',\n",
    "       'family_SCHOOL AND OFFICE SUPPLIES', 'family_SEAFOOD', \n",
    "        'type_A',\n",
    "       'type_B', 'type_C', 'type_D', 'type_E', \n",
    "   #     'city_Ambato', 'city_Babahoyo',\n",
    "    #   'city_Cayambe', 'city_Cuenca', 'city_Daule', 'city_El Carmen',\n",
    "     #  'city_Esmeraldas', 'city_Guaranda', 'city_Guayaquil', 'city_Ibarra',\n",
    "     #  'city_Latacunga', 'city_Libertad', 'city_Loja', 'city_Machala',\n",
    "      # 'city_Manta', 'city_Playas', 'city_Puyo', 'city_Quevedo', 'city_Quito',\n",
    "       #'city_Riobamba', 'city_Salinas', 'city_Santo Domingo',\n",
    "       'holitype_Additional', 'holitype_Bridge', 'holitype_Event',\n",
    "       'holitype_Holiday', 'holitype_No_Holiday', 'holitype_Transfer']\n",
    "\n",
    "lin_reg = linear_model.LinearRegression()\n",
    "lin_reg.fit(v_train.loc[:, v_train_cols], v_train.loc[:, ['unit_sales']])\n",
    "\n",
    "\n",
    "print(lin_reg.score(v_test.loc[:,v_train_cols], v_test.loc[:, ['unit_sales']]))\n",
    "no_city_lin = lin_reg.score(v_test.loc[:,v_train_cols], v_test.loc[:, ['unit_sales']])"
   ]
  },
  {
   "cell_type": "code",
   "execution_count": 15,
   "metadata": {},
   "outputs": [
    {
     "name": "stdout",
     "output_type": "stream",
     "text": [
      "0.0464191187684\n"
     ]
    }
   ],
   "source": [
    "#for now linear regression is performing best, but lets see if it needs the categorical stuff\n",
    "\n",
    "v_train_cols = ['onpromotion', 'perishable', 'dcoilwtico',\n",
    "       'transactions',\n",
    "     #  'family_AUTOMOTIVE', 'family_BABY CARE', 'family_BEAUTY',\n",
    "     #  'family_BEVERAGES', 'family_BOOKS', 'family_BREAD/BAKERY',\n",
    "     #  'family_CELEBRATION', 'family_CLEANING', 'family_DAIRY', 'family_DELI',\n",
    "     #  'family_EGGS', 'family_FROZEN FOODS', 'family_GROCERY I',\n",
    "     #  'family_GROCERY II', 'family_HARDWARE', 'family_HOME AND KITCHEN I',\n",
    "     #  'family_HOME AND KITCHEN II', 'family_HOME CARE', 'family_LADIESWEAR',\n",
    "     #  'family_LAWN AND GARDEN', 'family_LINGERIE', 'family_LIQUOR,WINE,BEER',\n",
    "     #  'family_MAGAZINES', 'family_MEATS', 'family_PERSONAL CARE',\n",
    "     #  'family_PET SUPPLIES', 'family_PLAYERS AND ELECTRONICS',\n",
    "     #  'family_POULTRY', 'family_PREPARED FOODS', 'family_PRODUCE',\n",
    "     #  'family_SCHOOL AND OFFICE SUPPLIES', 'family_SEAFOOD', \n",
    "        'type_A',\n",
    "       'type_B', 'type_C', 'type_D', 'type_E', \n",
    "        'city_Ambato', 'city_Babahoyo',\n",
    "       'city_Cayambe', 'city_Cuenca', 'city_Daule', 'city_El Carmen',\n",
    "      'city_Esmeraldas', 'city_Guaranda', 'city_Guayaquil', 'city_Ibarra',\n",
    "       'city_Latacunga', 'city_Libertad', 'city_Loja', 'city_Machala',\n",
    "       'city_Manta', 'city_Playas', 'city_Puyo', 'city_Quevedo', 'city_Quito',\n",
    "       'city_Riobamba', 'city_Salinas', 'city_Santo Domingo',\n",
    "       'holitype_Additional', 'holitype_Bridge', 'holitype_Event',\n",
    "       'holitype_Holiday', 'holitype_No_Holiday', 'holitype_Transfer']\n",
    "\n",
    "lin_reg = linear_model.LinearRegression()\n",
    "lin_reg.fit(v_train.loc[:, v_train_cols], v_train.loc[:, ['unit_sales']])\n",
    "\n",
    "\n",
    "print(lin_reg.score(v_test.loc[:,v_train_cols], v_test.loc[:, ['unit_sales']]))\n",
    "no_family_lin = lin_reg.score(v_test.loc[:,v_train_cols], v_test.loc[:, ['unit_sales']])"
   ]
  },
  {
   "cell_type": "code",
   "execution_count": 16,
   "metadata": {},
   "outputs": [
    {
     "name": "stdout",
     "output_type": "stream",
     "text": [
      "0.0527865644515\n"
     ]
    }
   ],
   "source": [
    "#for now linear regression is performing best, but lets see if it needs the categorical stuff\n",
    "\n",
    "v_train_cols = ['onpromotion', 'perishable', 'dcoilwtico',\n",
    "       'transactions',\n",
    "       'family_AUTOMOTIVE', 'family_BABY CARE', 'family_BEAUTY',\n",
    "       'family_BEVERAGES', 'family_BOOKS', 'family_BREAD/BAKERY',\n",
    "       'family_CELEBRATION', 'family_CLEANING', 'family_DAIRY', 'family_DELI',\n",
    "       'family_EGGS', 'family_FROZEN FOODS', 'family_GROCERY I',\n",
    "       'family_GROCERY II', 'family_HARDWARE', 'family_HOME AND KITCHEN I',\n",
    "       'family_HOME AND KITCHEN II', 'family_HOME CARE', 'family_LADIESWEAR',\n",
    "       'family_LAWN AND GARDEN', 'family_LINGERIE', 'family_LIQUOR,WINE,BEER',\n",
    "       'family_MAGAZINES', 'family_MEATS', 'family_PERSONAL CARE',\n",
    "       'family_PET SUPPLIES', 'family_PLAYERS AND ELECTRONICS',\n",
    "       'family_POULTRY', 'family_PREPARED FOODS', 'family_PRODUCE',\n",
    "       'family_SCHOOL AND OFFICE SUPPLIES', 'family_SEAFOOD', \n",
    "    #    'type_A',\n",
    "    #   'type_B', 'type_C', 'type_D', 'type_E', \n",
    "        'city_Ambato', 'city_Babahoyo',\n",
    "       'city_Cayambe', 'city_Cuenca', 'city_Daule', 'city_El Carmen',\n",
    "       'city_Esmeraldas', 'city_Guaranda', 'city_Guayaquil', 'city_Ibarra',\n",
    "       'city_Latacunga', 'city_Libertad', 'city_Loja', 'city_Machala',\n",
    "       'city_Manta', 'city_Playas', 'city_Puyo', 'city_Quevedo', 'city_Quito',\n",
    "       'city_Riobamba', 'city_Salinas', 'city_Santo Domingo',\n",
    "       'holitype_Additional', 'holitype_Bridge', 'holitype_Event',\n",
    "       'holitype_Holiday', 'holitype_No_Holiday', 'holitype_Transfer']\n",
    "\n",
    "lin_reg = linear_model.LinearRegression()\n",
    "lin_reg.fit(v_train.loc[:, v_train_cols], v_train.loc[:, ['unit_sales']])\n",
    "\n",
    "\n",
    "print(lin_reg.score(v_test.loc[:,v_train_cols], v_test.loc[:, ['unit_sales']]))\n",
    "no_type_lin = lin_reg.score(v_test.loc[:,v_train_cols], v_test.loc[:, ['unit_sales']])"
   ]
  },
  {
   "cell_type": "code",
   "execution_count": 17,
   "metadata": {},
   "outputs": [
    {
     "name": "stdout",
     "output_type": "stream",
     "text": [
      "0.0580994249987\n"
     ]
    }
   ],
   "source": [
    "#for now linear regression is performing best, but lets see if it needs the categorical stuff\n",
    "\n",
    "v_train_cols = ['onpromotion', 'perishable', 'dcoilwtico',\n",
    "       'transactions',\n",
    "       'family_AUTOMOTIVE', 'family_BABY CARE', 'family_BEAUTY',\n",
    "       'family_BEVERAGES', 'family_BOOKS', 'family_BREAD/BAKERY',\n",
    "       'family_CELEBRATION', 'family_CLEANING', 'family_DAIRY', 'family_DELI',\n",
    "       'family_EGGS', 'family_FROZEN FOODS', 'family_GROCERY I',\n",
    "       'family_GROCERY II', 'family_HARDWARE', 'family_HOME AND KITCHEN I',\n",
    "       'family_HOME AND KITCHEN II', 'family_HOME CARE', 'family_LADIESWEAR',\n",
    "       'family_LAWN AND GARDEN', 'family_LINGERIE', 'family_LIQUOR,WINE,BEER',\n",
    "       'family_MAGAZINES', 'family_MEATS', 'family_PERSONAL CARE',\n",
    "       'family_PET SUPPLIES', 'family_PLAYERS AND ELECTRONICS',\n",
    "       'family_POULTRY', 'family_PREPARED FOODS', 'family_PRODUCE',\n",
    "       'family_SCHOOL AND OFFICE SUPPLIES', 'family_SEAFOOD', \n",
    "        'type_A',\n",
    "       'type_B', 'type_C', 'type_D', 'type_E', \n",
    "        'city_Ambato', 'city_Babahoyo',\n",
    "       'city_Cayambe', 'city_Cuenca', 'city_Daule', 'city_El Carmen',\n",
    "      'city_Esmeraldas', 'city_Guaranda', 'city_Guayaquil', 'city_Ibarra',\n",
    "       'city_Latacunga', 'city_Libertad', 'city_Loja', 'city_Machala',\n",
    "       'city_Manta', 'city_Playas', 'city_Puyo', 'city_Quevedo', 'city_Quito',\n",
    "       'city_Riobamba', 'city_Salinas', 'city_Santo Domingo'\n",
    "       #         ,\n",
    "      # 'holitype_Additional', 'holitype_Bridge', 'holitype_Event',\n",
    "     #  'holitype_Holiday', 'holitype_No_Holiday', 'holitype_Transfer'\n",
    "               ]\n",
    "\n",
    "lin_reg = linear_model.LinearRegression()\n",
    "lin_reg.fit(v_train.loc[:, v_train_cols], v_train.loc[:, ['unit_sales']])\n",
    "\n",
    "\n",
    "print(lin_reg.score(v_test.loc[:,v_train_cols], v_test.loc[:, ['unit_sales']]))\n",
    "no_holi_lin = lin_reg.score(v_test.loc[:,v_train_cols], v_test.loc[:, ['unit_sales']])"
   ]
  },
  {
   "cell_type": "code",
   "execution_count": 18,
   "metadata": {},
   "outputs": [
    {
     "data": {
      "text/plain": [
       "<matplotlib.axes._subplots.AxesSubplot at 0x10b70f630>"
      ]
     },
     "execution_count": 18,
     "metadata": {},
     "output_type": "execute_result"
    },
    {
     "data": {
      "image/png": "[encoded data removed]",
      "text/plain": [
       "<matplotlib.figure.Figure at 0x10b63c6a0>"
      ]
     },
     "metadata": {},
     "output_type": "display_data"
    }
   ],
   "source": [
    "sns.barplot(['all', 'no family', 'no_holiday', 'no type', 'no city'], \n",
    "            [all_lin, no_family_lin, no_holi_lin, no_type_lin, no_city_lin])"
   ]
  },
  {
   "cell_type": "code",
   "execution_count": 19,
   "metadata": {},
   "outputs": [
    {
     "name": "stdout",
     "output_type": "stream",
     "text": [
      "0.052023351308\n"
     ]
    }
   ],
   "source": [
    "v_train_cols = [\n",
    "        'onpromotion', \n",
    "        'perishable', \n",
    "        'dcoilwtico',\n",
    "       'transactions',\n",
    "       'family_AUTOMOTIVE', 'family_BABY CARE', 'family_BEAUTY',\n",
    "       'family_BEVERAGES', 'family_BOOKS', 'family_BREAD/BAKERY',\n",
    "       'family_CELEBRATION', 'family_CLEANING', 'family_DAIRY', 'family_DELI',\n",
    "       'family_EGGS', 'family_FROZEN FOODS', 'family_GROCERY I',\n",
    "       'family_GROCERY II', 'family_HARDWARE', 'family_HOME AND KITCHEN I',\n",
    "       'family_HOME AND KITCHEN II', 'family_HOME CARE', 'family_LADIESWEAR',\n",
    "       'family_LAWN AND GARDEN', 'family_LINGERIE', 'family_LIQUOR,WINE,BEER',\n",
    "       'family_MAGAZINES', 'family_MEATS', 'family_PERSONAL CARE',\n",
    "       'family_PET SUPPLIES', 'family_PLAYERS AND ELECTRONICS',\n",
    "       'family_POULTRY', 'family_PREPARED FOODS', 'family_PRODUCE',\n",
    "       'family_SCHOOL AND OFFICE SUPPLIES', 'family_SEAFOOD' \n",
    "        ]\n",
    "\n",
    "lin_reg = linear_model.LinearRegression()\n",
    "lin_reg.fit(v_train.loc[:, v_train_cols], v_train.loc[:, ['unit_sales']])\n",
    "\n",
    "\n",
    "print(lin_reg.score(v_test.loc[:,v_train_cols], v_test.loc[:, ['unit_sales']]))\n",
    "fam_all_lin = lin_reg.score(v_test.loc[:,v_train_cols], v_test.loc[:, ['unit_sales']])"
   ]
  },
  {
   "cell_type": "code",
   "execution_count": 20,
   "metadata": {},
   "outputs": [
    {
     "name": "stdout",
     "output_type": "stream",
     "text": [
      "0.0520483948646\n"
     ]
    }
   ],
   "source": [
    "v_train_cols = [\n",
    "        'onpromotion', \n",
    "        'perishable', \n",
    "        #'dcoilwtico',\n",
    "       'transactions',\n",
    "       'family_AUTOMOTIVE', 'family_BABY CARE', 'family_BEAUTY',\n",
    "       'family_BEVERAGES', 'family_BOOKS', 'family_BREAD/BAKERY',\n",
    "       'family_CELEBRATION', 'family_CLEANING', 'family_DAIRY', 'family_DELI',\n",
    "       'family_EGGS', 'family_FROZEN FOODS', 'family_GROCERY I',\n",
    "       'family_GROCERY II', 'family_HARDWARE', 'family_HOME AND KITCHEN I',\n",
    "       'family_HOME AND KITCHEN II', 'family_HOME CARE', 'family_LADIESWEAR',\n",
    "       'family_LAWN AND GARDEN', 'family_LINGERIE', 'family_LIQUOR,WINE,BEER',\n",
    "       'family_MAGAZINES', 'family_MEATS', 'family_PERSONAL CARE',\n",
    "       'family_PET SUPPLIES', 'family_PLAYERS AND ELECTRONICS',\n",
    "       'family_POULTRY', 'family_PREPARED FOODS', 'family_PRODUCE',\n",
    "       'family_SCHOOL AND OFFICE SUPPLIES', 'family_SEAFOOD' \n",
    "        ]\n",
    "\n",
    "lin_reg = linear_model.LinearRegression()\n",
    "lin_reg.fit(v_train.loc[:, v_train_cols], v_train.loc[:, ['unit_sales']])\n",
    "\n",
    "\n",
    "print(lin_reg.score(v_test.loc[:,v_train_cols], v_test.loc[:, ['unit_sales']]))\n",
    "no_oil_lin = lin_reg.score(v_test.loc[:,v_train_cols], v_test.loc[:, ['unit_sales']])"
   ]
  },
  {
   "cell_type": "code",
   "execution_count": 21,
   "metadata": {},
   "outputs": [
    {
     "name": "stdout",
     "output_type": "stream",
     "text": [
      "0.052027112529\n"
     ]
    }
   ],
   "source": [
    "v_train_cols = [\n",
    "        'onpromotion', \n",
    "        #'perishable', \n",
    "        'dcoilwtico',\n",
    "       'transactions',\n",
    "       'family_AUTOMOTIVE', 'family_BABY CARE', 'family_BEAUTY',\n",
    "       'family_BEVERAGES', 'family_BOOKS', 'family_BREAD/BAKERY',\n",
    "       'family_CELEBRATION', 'family_CLEANING', 'family_DAIRY', 'family_DELI',\n",
    "       'family_EGGS', 'family_FROZEN FOODS', 'family_GROCERY I',\n",
    "       'family_GROCERY II', 'family_HARDWARE', 'family_HOME AND KITCHEN I',\n",
    "       'family_HOME AND KITCHEN II', 'family_HOME CARE', 'family_LADIESWEAR',\n",
    "       'family_LAWN AND GARDEN', 'family_LINGERIE', 'family_LIQUOR,WINE,BEER',\n",
    "       'family_MAGAZINES', 'family_MEATS', 'family_PERSONAL CARE',\n",
    "       'family_PET SUPPLIES', 'family_PLAYERS AND ELECTRONICS',\n",
    "       'family_POULTRY', 'family_PREPARED FOODS', 'family_PRODUCE',\n",
    "       'family_SCHOOL AND OFFICE SUPPLIES', 'family_SEAFOOD' \n",
    "        ]\n",
    "\n",
    "lin_reg = linear_model.LinearRegression()\n",
    "lin_reg.fit(v_train.loc[:, v_train_cols], v_train.loc[:, ['unit_sales']])\n",
    "\n",
    "\n",
    "print(lin_reg.score(v_test.loc[:,v_train_cols], v_test.loc[:, ['unit_sales']]))\n",
    "no_perish_lin = lin_reg.score(v_test.loc[:,v_train_cols], v_test.loc[:, ['unit_sales']])"
   ]
  },
  {
   "cell_type": "code",
   "execution_count": 22,
   "metadata": {},
   "outputs": [
    {
     "name": "stdout",
     "output_type": "stream",
     "text": [
      "-6.64577526869e+15\n"
     ]
    }
   ],
   "source": [
    "v_train_cols = [\n",
    "        #'onpromotion', \n",
    "        'perishable', \n",
    "        'dcoilwtico',\n",
    "       'transactions',\n",
    "       'family_AUTOMOTIVE', 'family_BABY CARE', 'family_BEAUTY',\n",
    "       'family_BEVERAGES', 'family_BOOKS', 'family_BREAD/BAKERY',\n",
    "       'family_CELEBRATION', 'family_CLEANING', 'family_DAIRY', 'family_DELI',\n",
    "       'family_EGGS', 'family_FROZEN FOODS', 'family_GROCERY I',\n",
    "       'family_GROCERY II', 'family_HARDWARE', 'family_HOME AND KITCHEN I',\n",
    "       'family_HOME AND KITCHEN II', 'family_HOME CARE', 'family_LADIESWEAR',\n",
    "       'family_LAWN AND GARDEN', 'family_LINGERIE', 'family_LIQUOR,WINE,BEER',\n",
    "       'family_MAGAZINES', 'family_MEATS', 'family_PERSONAL CARE',\n",
    "       'family_PET SUPPLIES', 'family_PLAYERS AND ELECTRONICS',\n",
    "       'family_POULTRY', 'family_PREPARED FOODS', 'family_PRODUCE',\n",
    "       'family_SCHOOL AND OFFICE SUPPLIES', 'family_SEAFOOD' \n",
    "        ]\n",
    "\n",
    "lin_reg = linear_model.LinearRegression()\n",
    "lin_reg.fit(v_train.loc[:, v_train_cols], v_train.loc[:, ['unit_sales']])\n",
    "\n",
    "\n",
    "print(lin_reg.score(v_test.loc[:,v_train_cols], v_test.loc[:, ['unit_sales']]))\n",
    "no_promo_lin = lin_reg.score(v_test.loc[:,v_train_cols], v_test.loc[:, ['unit_sales']])"
   ]
  },
  {
   "cell_type": "code",
   "execution_count": 23,
   "metadata": {},
   "outputs": [
    {
     "name": "stdout",
     "output_type": "stream",
     "text": [
      "-3.26401714102e+15\n"
     ]
    }
   ],
   "source": [
    "v_train_cols = [\n",
    "        'onpromotion', \n",
    "        'perishable', \n",
    "        'dcoilwtico',\n",
    "       #'transactions',\n",
    "       'family_AUTOMOTIVE', 'family_BABY CARE', 'family_BEAUTY',\n",
    "       'family_BEVERAGES', 'family_BOOKS', 'family_BREAD/BAKERY',\n",
    "       'family_CELEBRATION', 'family_CLEANING', 'family_DAIRY', 'family_DELI',\n",
    "       'family_EGGS', 'family_FROZEN FOODS', 'family_GROCERY I',\n",
    "       'family_GROCERY II', 'family_HARDWARE', 'family_HOME AND KITCHEN I',\n",
    "       'family_HOME AND KITCHEN II', 'family_HOME CARE', 'family_LADIESWEAR',\n",
    "       'family_LAWN AND GARDEN', 'family_LINGERIE', 'family_LIQUOR,WINE,BEER',\n",
    "       'family_MAGAZINES', 'family_MEATS', 'family_PERSONAL CARE',\n",
    "       'family_PET SUPPLIES', 'family_PLAYERS AND ELECTRONICS',\n",
    "       'family_POULTRY', 'family_PREPARED FOODS', 'family_PRODUCE',\n",
    "       'family_SCHOOL AND OFFICE SUPPLIES', 'family_SEAFOOD' \n",
    "        ]\n",
    "\n",
    "lin_reg = linear_model.LinearRegression()\n",
    "lin_reg.fit(v_train.loc[:, v_train_cols], v_train.loc[:, ['unit_sales']])\n",
    "\n",
    "\n",
    "print(lin_reg.score(v_test.loc[:,v_train_cols], v_test.loc[:, ['unit_sales']]))\n",
    "no_trans_lin = lin_reg.score(v_test.loc[:,v_train_cols], v_test.loc[:, ['unit_sales']])"
   ]
  },
  {
   "cell_type": "code",
   "execution_count": 24,
   "metadata": {},
   "outputs": [
    {
     "data": {
      "text/plain": [
       "<matplotlib.axes._subplots.AxesSubplot at 0x10b68b780>"
      ]
     },
     "execution_count": 24,
     "metadata": {},
     "output_type": "execute_result"
    },
    {
     "data": {
      "image/png": "[encoded data removed]",
      "text/plain": [
       "<matplotlib.figure.Figure at 0x119b2f4e0>"
      ]
     },
     "metadata": {},
     "output_type": "display_data"
    }
   ],
   "source": [
    "sns.barplot(['family+all', 'fam - oil', 'fam - perish', 'fam - promo', 'fam-transactions'], \n",
    "            [fam_all_lin, no_oil_lin, no_perish_lin, no_promo_lin, no_trans_lin])"
   ]
  },
  {
   "cell_type": "code",
   "execution_count": 25,
   "metadata": {},
   "outputs": [
    {
     "name": "stdout",
     "output_type": "stream",
     "text": [
      "0.0520521652587\n"
     ]
    }
   ],
   "source": [
    "v_train_cols = [\n",
    "        'onpromotion', \n",
    "       'transactions',\n",
    "       'family_AUTOMOTIVE', 'family_BABY CARE', 'family_BEAUTY',\n",
    "       'family_BEVERAGES', 'family_BOOKS', 'family_BREAD/BAKERY',\n",
    "       'family_CELEBRATION', 'family_CLEANING', 'family_DAIRY', 'family_DELI',\n",
    "       'family_EGGS', 'family_FROZEN FOODS', 'family_GROCERY I',\n",
    "       'family_GROCERY II', 'family_HARDWARE', 'family_HOME AND KITCHEN I',\n",
    "       'family_HOME AND KITCHEN II', 'family_HOME CARE', 'family_LADIESWEAR',\n",
    "       'family_LAWN AND GARDEN', 'family_LINGERIE', 'family_LIQUOR,WINE,BEER',\n",
    "       'family_MAGAZINES', 'family_MEATS', 'family_PERSONAL CARE',\n",
    "       'family_PET SUPPLIES', 'family_PLAYERS AND ELECTRONICS',\n",
    "       'family_POULTRY', 'family_PREPARED FOODS', 'family_PRODUCE',\n",
    "       'family_SCHOOL AND OFFICE SUPPLIES', 'family_SEAFOOD' \n",
    "        ]\n",
    "\n",
    "lin_reg = linear_model.LinearRegression()\n",
    "lin_reg.fit(v_train.loc[:, v_train_cols], v_train.loc[:, ['unit_sales']])\n",
    "\n",
    "\n",
    "print(lin_reg.score(v_test.loc[:,v_train_cols], v_test.loc[:, ['unit_sales']]))\n",
    "promo_trans_fam_lin = lin_reg.score(v_test.loc[:,v_train_cols], v_test.loc[:, ['unit_sales']])"
   ]
  },
  {
   "cell_type": "code",
   "execution_count": 27,
   "metadata": {},
   "outputs": [
    {
     "data": {
      "text/html": [
       "<div>\n",
       "<style scoped>\n",
       "    .dataframe tbody tr th:only-of-type {\n",
       "        vertical-align: middle;\n",
       "    }\n",
       "\n",
       "    .dataframe tbody tr th {\n",
       "        vertical-align: top;\n",
       "    }\n",
       "\n",
       "    .dataframe thead th {\n",
       "        text-align: right;\n",
       "    }\n",
       "</style>\n",
       "<table border=\"1\" class=\"dataframe\">\n",
       "  <thead>\n",
       "    <tr style=\"text-align: right;\">\n",
       "      <th></th>\n",
       "      <th>id</th>\n",
       "      <th>date</th>\n",
       "      <th>store_nbr</th>\n",
       "      <th>item_nbr</th>\n",
       "      <th>onpromotion</th>\n",
       "    </tr>\n",
       "  </thead>\n",
       "  <tbody>\n",
       "    <tr>\n",
       "      <th>0</th>\n",
       "      <td>125497040</td>\n",
       "      <td>2017-08-16</td>\n",
       "      <td>1</td>\n",
       "      <td>96995</td>\n",
       "      <td>False</td>\n",
       "    </tr>\n",
       "    <tr>\n",
       "      <th>1</th>\n",
       "      <td>125497041</td>\n",
       "      <td>2017-08-16</td>\n",
       "      <td>1</td>\n",
       "      <td>99197</td>\n",
       "      <td>False</td>\n",
       "    </tr>\n",
       "    <tr>\n",
       "      <th>2</th>\n",
       "      <td>125497042</td>\n",
       "      <td>2017-08-16</td>\n",
       "      <td>1</td>\n",
       "      <td>103501</td>\n",
       "      <td>False</td>\n",
       "    </tr>\n",
       "    <tr>\n",
       "      <th>3</th>\n",
       "      <td>125497043</td>\n",
       "      <td>2017-08-16</td>\n",
       "      <td>1</td>\n",
       "      <td>103520</td>\n",
       "      <td>False</td>\n",
       "    </tr>\n",
       "    <tr>\n",
       "      <th>4</th>\n",
       "      <td>125497044</td>\n",
       "      <td>2017-08-16</td>\n",
       "      <td>1</td>\n",
       "      <td>103665</td>\n",
       "      <td>False</td>\n",
       "    </tr>\n",
       "  </tbody>\n",
       "</table>\n",
       "</div>"
      ],
      "text/plain": [
       "          id        date  store_nbr  item_nbr  onpromotion\n",
       "0  125497040  2017-08-16          1     96995        False\n",
       "1  125497041  2017-08-16          1     99197        False\n",
       "2  125497042  2017-08-16          1    103501        False\n",
       "3  125497043  2017-08-16          1    103520        False\n",
       "4  125497044  2017-08-16          1    103665        False"
      ]
     },
     "execution_count": 27,
     "metadata": {},
     "output_type": "execute_result"
    }
   ],
   "source": [
    "test = dd.read_csv('../data/raw/test.csv')\n",
    "test.head()"
   ]
  },
  {
   "cell_type": "code",
   "execution_count": 28,
   "metadata": {},
   "outputs": [],
   "source": [
    "items = dd.read_csv('../data/raw/' + 'items.csv')\n",
    "stores = dd.read_csv('../data/raw/' + 'stores.csv')\n",
    "transactions = dd.read_csv('../data/raw/' + 'transactions.csv')"
   ]
  },
  {
   "cell_type": "code",
   "execution_count": 29,
   "metadata": {},
   "outputs": [
    {
     "name": "stdout",
     "output_type": "stream",
     "text": [
      "          id        date  store_nbr  item_nbr  onpromotion     family  class  \\\n",
      "0  125497040  2017-08-16          1     96995        False  GROCERY I   1093   \n",
      "1  125500941  2017-08-16          2     96995        False  GROCERY I   1093   \n",
      "2  125504842  2017-08-16          3     96995        False  GROCERY I   1093   \n",
      "3  125508743  2017-08-16          4     96995        False  GROCERY I   1093   \n",
      "4  125512644  2017-08-16          5     96995        False  GROCERY I   1093   \n",
      "\n",
      "   perishable  \n",
      "0           0  \n",
      "1           0  \n",
      "2           0  \n",
      "3           0  \n",
      "4           0  \n",
      "          id        date  store_nbr  onpromotion     family\n",
      "0  125497040  2017-08-16          1        False  GROCERY I\n",
      "1  125500941  2017-08-16          2        False  GROCERY I\n",
      "2  125504842  2017-08-16          3        False  GROCERY I\n",
      "3  125508743  2017-08-16          4        False  GROCERY I\n",
      "4  125512644  2017-08-16          5        False  GROCERY I\n"
     ]
    }
   ],
   "source": [
    "test = test.merge(items)\n",
    "print(test.head())\n",
    "test = test.drop(['date','item_nbr', 'class', 'perishable'], axis = 1).compute()\n",
    "print(test.head())"
   ]
  },
  {
   "cell_type": "code",
   "execution_count": 30,
   "metadata": {},
   "outputs": [
    {
     "data": {
      "text/plain": [
       "dask.dataframe.core.DataFrame"
      ]
     },
     "execution_count": 30,
     "metadata": {},
     "output_type": "execute_result"
    }
   ],
   "source": [
    "type(test)\n",
    "test = dd.from_pandas(test, npartitions=10)\n",
    "type(test)"
   ]
  },
  {
   "cell_type": "code",
   "execution_count": 31,
   "metadata": {},
   "outputs": [
    {
     "name": "stdout",
     "output_type": "stream",
     "text": [
      "          id        date  store_nbr  onpromotion     family   city      state  \\\n",
      "0  125497040  2017-08-16          1        False  GROCERY I  Quito  Pichincha   \n",
      "1  127394773  2017-08-25          1        False      DAIRY  Quito  Pichincha   \n",
      "2  125707694  2017-08-17          1        False  GROCERY I  Quito  Pichincha   \n",
      "3  127605427  2017-08-26          1        False      DAIRY  Quito  Pichincha   \n",
      "4  125918348  2017-08-18          1        False  GROCERY I  Quito  Pichincha   \n",
      "\n",
      "  type  cluster  \n",
      "0    D       13  \n",
      "1    D       13  \n",
      "2    D       13  \n",
      "3    D       13  \n",
      "4    D       13  \n",
      "<class 'dask.dataframe.core.DataFrame'>\n"
     ]
    }
   ],
   "source": [
    "test = test.merge(stores)\n",
    "print(test.head())\n",
    "print(type(test))"
   ]
  },
  {
   "cell_type": "code",
   "execution_count": 32,
   "metadata": {},
   "outputs": [
    {
     "data": {
      "text/plain": [
       "pandas.core.frame.DataFrame"
      ]
     },
     "execution_count": 32,
     "metadata": {},
     "output_type": "execute_result"
    }
   ],
   "source": [
    "test = test.drop(['city','state', 'type','cluster'], axis =1).compute()\n",
    "type(test)"
   ]
  },
  {
   "cell_type": "code",
   "execution_count": 33,
   "metadata": {},
   "outputs": [
    {
     "data": {
      "text/plain": [
       "dask.dataframe.core.DataFrame"
      ]
     },
     "execution_count": 33,
     "metadata": {},
     "output_type": "execute_result"
    }
   ],
   "source": [
    "test = dd.from_pandas(test, npartitions=10)\n",
    "type(test)"
   ]
  },
  {
   "cell_type": "code",
   "execution_count": 34,
   "metadata": {},
   "outputs": [
    {
     "name": "stdout",
     "output_type": "stream",
     "text": [
      "          id        date  store_nbr  onpromotion        family\n",
      "0  125497040  2017-08-16          1        False     GROCERY I\n",
      "0  128198774  2017-08-28         45        False     GROCERY I\n",
      "0  128705171  2017-08-31         13        False      CLEANING\n",
      "0  127524297  2017-08-25         34        False       PRODUCE\n",
      "0  128515546  2017-08-30         18        False  PET SUPPLIES\n",
      "<class 'dask.dataframe.core.DataFrame'>\n"
     ]
    }
   ],
   "source": [
    "#test = dd.from_pandas(test, npartitions=10)\n",
    "test = test.drop_duplicates()\n",
    "print(test.head())\n",
    "print(type(test))"
   ]
  },
  {
   "cell_type": "code",
   "execution_count": 35,
   "metadata": {},
   "outputs": [],
   "source": [
    "#test = test.merge(transactions, on = ['date', 'store_nbr'])\n",
    "#print(test.head())\n",
    "#print(type(test))"
   ]
  },
  {
   "cell_type": "code",
   "execution_count": 37,
   "metadata": {},
   "outputs": [
    {
     "data": {
      "text/html": [
       "<div>\n",
       "<style scoped>\n",
       "    .dataframe tbody tr th:only-of-type {\n",
       "        vertical-align: middle;\n",
       "    }\n",
       "\n",
       "    .dataframe tbody tr th {\n",
       "        vertical-align: top;\n",
       "    }\n",
       "\n",
       "    .dataframe thead th {\n",
       "        text-align: right;\n",
       "    }\n",
       "</style>\n",
       "<table border=\"1\" class=\"dataframe\">\n",
       "  <thead>\n",
       "    <tr style=\"text-align: right;\">\n",
       "      <th></th>\n",
       "      <th>date</th>\n",
       "      <th>store_nbr</th>\n",
       "      <th>transactions</th>\n",
       "    </tr>\n",
       "  </thead>\n",
       "  <tbody>\n",
       "    <tr>\n",
       "      <th>0</th>\n",
       "      <td>2013-01-01</td>\n",
       "      <td>25</td>\n",
       "      <td>770</td>\n",
       "    </tr>\n",
       "    <tr>\n",
       "      <th>1</th>\n",
       "      <td>2013-01-02</td>\n",
       "      <td>1</td>\n",
       "      <td>2111</td>\n",
       "    </tr>\n",
       "    <tr>\n",
       "      <th>2</th>\n",
       "      <td>2013-01-02</td>\n",
       "      <td>2</td>\n",
       "      <td>2358</td>\n",
       "    </tr>\n",
       "    <tr>\n",
       "      <th>3</th>\n",
       "      <td>2013-01-02</td>\n",
       "      <td>3</td>\n",
       "      <td>3487</td>\n",
       "    </tr>\n",
       "    <tr>\n",
       "      <th>4</th>\n",
       "      <td>2013-01-02</td>\n",
       "      <td>4</td>\n",
       "      <td>1922</td>\n",
       "    </tr>\n",
       "  </tbody>\n",
       "</table>\n",
       "</div>"
      ],
      "text/plain": [
       "         date  store_nbr  transactions\n",
       "0  2013-01-01         25           770\n",
       "1  2013-01-02          1          2111\n",
       "2  2013-01-02          2          2358\n",
       "3  2013-01-02          3          3487\n",
       "4  2013-01-02          4          1922"
      ]
     },
     "execution_count": 37,
     "metadata": {},
     "output_type": "execute_result"
    }
   ],
   "source": [
    "transactions.head()"
   ]
  },
  {
   "cell_type": "code",
   "execution_count": 48,
   "metadata": {},
   "outputs": [
    {
     "data": {
      "text/html": [
       "<div>\n",
       "<style scoped>\n",
       "    .dataframe tbody tr th:only-of-type {\n",
       "        vertical-align: middle;\n",
       "    }\n",
       "\n",
       "    .dataframe tbody tr th {\n",
       "        vertical-align: top;\n",
       "    }\n",
       "\n",
       "    .dataframe thead th {\n",
       "        text-align: right;\n",
       "    }\n",
       "</style>\n",
       "<table border=\"1\" class=\"dataframe\">\n",
       "  <thead>\n",
       "    <tr style=\"text-align: right;\">\n",
       "      <th></th>\n",
       "      <th>transactions</th>\n",
       "      <th>store_nbr</th>\n",
       "    </tr>\n",
       "    <tr>\n",
       "      <th>store_nbr</th>\n",
       "      <th></th>\n",
       "      <th></th>\n",
       "    </tr>\n",
       "  </thead>\n",
       "  <tbody>\n",
       "    <tr>\n",
       "      <th>1</th>\n",
       "      <td>1523.844272</td>\n",
       "      <td>1</td>\n",
       "    </tr>\n",
       "    <tr>\n",
       "      <th>2</th>\n",
       "      <td>1920.036374</td>\n",
       "      <td>2</td>\n",
       "    </tr>\n",
       "    <tr>\n",
       "      <th>3</th>\n",
       "      <td>3201.879475</td>\n",
       "      <td>3</td>\n",
       "    </tr>\n",
       "    <tr>\n",
       "      <th>4</th>\n",
       "      <td>1502.987470</td>\n",
       "      <td>4</td>\n",
       "    </tr>\n",
       "    <tr>\n",
       "      <th>5</th>\n",
       "      <td>1400.045915</td>\n",
       "      <td>5</td>\n",
       "    </tr>\n",
       "  </tbody>\n",
       "</table>\n",
       "</div>"
      ],
      "text/plain": [
       "           transactions  store_nbr\n",
       "store_nbr                         \n",
       "1           1523.844272          1\n",
       "2           1920.036374          2\n",
       "3           3201.879475          3\n",
       "4           1502.987470          4\n",
       "5           1400.045915          5"
      ]
     },
     "execution_count": 48,
     "metadata": {},
     "output_type": "execute_result"
    }
   ],
   "source": [
    "#oh hmm, we can't use transactions because it's the wrong dates!\n",
    "#get the average number of transactions for each store number and assign transactions to test\n",
    "#data based on store number?\n",
    "new_trans_pd = transactions.groupby('store_nbr')['transactions'].mean().compute().to_frame()\n",
    "new_trans_pd['store_nbr'] = new_trans_pd.index\n",
    "new_trans_pd.head()"
   ]
  },
  {
   "cell_type": "code",
   "execution_count": 51,
   "metadata": {},
   "outputs": [],
   "source": [
    "new_trans = dd.from_pandas(new_trans_pd, npartitions=10)"
   ]
  },
  {
   "cell_type": "code",
   "execution_count": 52,
   "metadata": {},
   "outputs": [
    {
     "data": {
      "text/html": [
       "<div>\n",
       "<style scoped>\n",
       "    .dataframe tbody tr th:only-of-type {\n",
       "        vertical-align: middle;\n",
       "    }\n",
       "\n",
       "    .dataframe tbody tr th {\n",
       "        vertical-align: top;\n",
       "    }\n",
       "\n",
       "    .dataframe thead th {\n",
       "        text-align: right;\n",
       "    }\n",
       "</style>\n",
       "<table border=\"1\" class=\"dataframe\">\n",
       "  <thead>\n",
       "    <tr style=\"text-align: right;\">\n",
       "      <th></th>\n",
       "      <th>transactions</th>\n",
       "      <th>store_nbr</th>\n",
       "    </tr>\n",
       "    <tr>\n",
       "      <th>store_nbr</th>\n",
       "      <th></th>\n",
       "      <th></th>\n",
       "    </tr>\n",
       "  </thead>\n",
       "  <tbody>\n",
       "    <tr>\n",
       "      <th>1</th>\n",
       "      <td>1523.844272</td>\n",
       "      <td>1</td>\n",
       "    </tr>\n",
       "    <tr>\n",
       "      <th>2</th>\n",
       "      <td>1920.036374</td>\n",
       "      <td>2</td>\n",
       "    </tr>\n",
       "    <tr>\n",
       "      <th>3</th>\n",
       "      <td>3201.879475</td>\n",
       "      <td>3</td>\n",
       "    </tr>\n",
       "    <tr>\n",
       "      <th>4</th>\n",
       "      <td>1502.987470</td>\n",
       "      <td>4</td>\n",
       "    </tr>\n",
       "    <tr>\n",
       "      <th>5</th>\n",
       "      <td>1400.045915</td>\n",
       "      <td>5</td>\n",
       "    </tr>\n",
       "  </tbody>\n",
       "</table>\n",
       "</div>"
      ],
      "text/plain": [
       "           transactions  store_nbr\n",
       "store_nbr                         \n",
       "1           1523.844272          1\n",
       "2           1920.036374          2\n",
       "3           3201.879475          3\n",
       "4           1502.987470          4\n",
       "5           1400.045915          5"
      ]
     },
     "execution_count": 52,
     "metadata": {},
     "output_type": "execute_result"
    }
   ],
   "source": [
    "new_trans.head()"
   ]
  },
  {
   "cell_type": "code",
   "execution_count": 53,
   "metadata": {},
   "outputs": [
    {
     "name": "stdout",
     "output_type": "stream",
     "text": [
      "          id        date  store_nbr  onpromotion     family  transactions\n",
      "0  125497040  2017-08-16          1        False  GROCERY I   1523.844272\n",
      "1  127394773  2017-08-25          1        False      DAIRY   1523.844272\n",
      "2  125707694  2017-08-17          1        False  GROCERY I   1523.844272\n",
      "3  127605427  2017-08-26          1        False      DAIRY   1523.844272\n",
      "4  125918348  2017-08-18          1        False  GROCERY I   1523.844272\n",
      "<class 'dask.dataframe.core.DataFrame'>\n"
     ]
    }
   ],
   "source": [
    "test = test.merge(new_trans)\n",
    "print(test.head())\n",
    "print(type(test))"
   ]
  },
  {
   "cell_type": "code",
   "execution_count": 54,
   "metadata": {},
   "outputs": [
    {
     "data": {
      "text/plain": [
       "pandas.core.frame.DataFrame"
      ]
     },
     "execution_count": 54,
     "metadata": {},
     "output_type": "execute_result"
    }
   ],
   "source": [
    "type(test.compute())"
   ]
  },
  {
   "cell_type": "code",
   "execution_count": 57,
   "metadata": {},
   "outputs": [
    {
     "data": {
      "text/plain": [
       "559869432"
      ]
     },
     "execution_count": 57,
     "metadata": {},
     "output_type": "execute_result"
    }
   ],
   "source": [
    "sys.getsizeof(test.compute())"
   ]
  },
  {
   "cell_type": "code",
   "execution_count": 58,
   "metadata": {},
   "outputs": [],
   "source": [
    "test = test.compute()"
   ]
  },
  {
   "cell_type": "code",
   "execution_count": 59,
   "metadata": {},
   "outputs": [],
   "source": [
    "dumb_test = pd.get_dummies(test['family'], prefix = 'family')"
   ]
  },
  {
   "cell_type": "code",
   "execution_count": 61,
   "metadata": {},
   "outputs": [],
   "source": [
    "test = test.join(dumb_test)"
   ]
  },
  {
   "cell_type": "code",
   "execution_count": 64,
   "metadata": {},
   "outputs": [
    {
     "data": {
      "text/plain": [
       "Index(['id', 'date', 'store_nbr', 'onpromotion', 'family', 'transactions',\n",
       "       'family_AUTOMOTIVE', 'family_BABY CARE', 'family_BEAUTY',\n",
       "       'family_BEVERAGES', 'family_BOOKS', 'family_BREAD/BAKERY',\n",
       "       'family_CELEBRATION', 'family_CLEANING', 'family_DAIRY', 'family_DELI',\n",
       "       'family_EGGS', 'family_FROZEN FOODS', 'family_GROCERY I',\n",
       "       'family_GROCERY II', 'family_HARDWARE', 'family_HOME AND KITCHEN I',\n",
       "       'family_HOME AND KITCHEN II', 'family_HOME APPLIANCES',\n",
       "       'family_HOME CARE', 'family_LADIESWEAR', 'family_LAWN AND GARDEN',\n",
       "       'family_LINGERIE', 'family_LIQUOR,WINE,BEER', 'family_MAGAZINES',\n",
       "       'family_MEATS', 'family_PERSONAL CARE', 'family_PET SUPPLIES',\n",
       "       'family_PLAYERS AND ELECTRONICS', 'family_POULTRY',\n",
       "       'family_PREPARED FOODS', 'family_PRODUCE',\n",
       "       'family_SCHOOL AND OFFICE SUPPLIES', 'family_SEAFOOD'],\n",
       "      dtype='object')"
      ]
     },
     "execution_count": 64,
     "metadata": {},
     "output_type": "execute_result"
    }
   ],
   "source": [
    "test.columns"
   ]
  },
  {
   "cell_type": "code",
   "execution_count": 65,
   "metadata": {},
   "outputs": [],
   "source": [
    "out = lin_reg.predict(test.loc[:, v_train_cols])"
   ]
  },
  {
   "cell_type": "code",
   "execution_count": 66,
   "metadata": {},
   "outputs": [
    {
     "data": {
      "text/plain": [
       "numpy.ndarray"
      ]
     },
     "execution_count": 66,
     "metadata": {},
     "output_type": "execute_result"
    }
   ],
   "source": [
    "type(out)"
   ]
  },
  {
   "cell_type": "code",
   "execution_count": 67,
   "metadata": {},
   "outputs": [
    {
     "data": {
      "text/plain": [
       "array([[  5.79394531],\n",
       "       [  5.79394531],\n",
       "       [  4.56542969],\n",
       "       [  2.29736328],\n",
       "       [  2.29736328],\n",
       "       [ 15.04101562],\n",
       "       [ 23.12744141],\n",
       "       [  5.79394531],\n",
       "       [  5.79394531],\n",
       "       [  5.79394531]])"
      ]
     },
     "execution_count": 67,
     "metadata": {},
     "output_type": "execute_result"
    }
   ],
   "source": [
    "out[:10]"
   ]
  },
  {
   "cell_type": "code",
   "execution_count": 72,
   "metadata": {},
   "outputs": [],
   "source": [
    "out_pd = pd.DataFrame(out, columns = ['unit_sales'], index = test.id)"
   ]
  },
  {
   "cell_type": "code",
   "execution_count": 73,
   "metadata": {},
   "outputs": [
    {
     "data": {
      "text/html": [
       "<div>\n",
       "<style scoped>\n",
       "    .dataframe tbody tr th:only-of-type {\n",
       "        vertical-align: middle;\n",
       "    }\n",
       "\n",
       "    .dataframe tbody tr th {\n",
       "        vertical-align: top;\n",
       "    }\n",
       "\n",
       "    .dataframe thead th {\n",
       "        text-align: right;\n",
       "    }\n",
       "</style>\n",
       "<table border=\"1\" class=\"dataframe\">\n",
       "  <thead>\n",
       "    <tr style=\"text-align: right;\">\n",
       "      <th></th>\n",
       "      <th>unit_sales</th>\n",
       "    </tr>\n",
       "    <tr>\n",
       "      <th>id</th>\n",
       "      <th></th>\n",
       "    </tr>\n",
       "  </thead>\n",
       "  <tbody>\n",
       "    <tr>\n",
       "      <th>125497040</th>\n",
       "      <td>5.793945</td>\n",
       "    </tr>\n",
       "    <tr>\n",
       "      <th>125497040</th>\n",
       "      <td>5.793945</td>\n",
       "    </tr>\n",
       "    <tr>\n",
       "      <th>125497040</th>\n",
       "      <td>4.565430</td>\n",
       "    </tr>\n",
       "    <tr>\n",
       "      <th>125497040</th>\n",
       "      <td>2.297363</td>\n",
       "    </tr>\n",
       "    <tr>\n",
       "      <th>125497040</th>\n",
       "      <td>2.297363</td>\n",
       "    </tr>\n",
       "  </tbody>\n",
       "</table>\n",
       "</div>"
      ],
      "text/plain": [
       "           unit_sales\n",
       "id                   \n",
       "125497040    5.793945\n",
       "125497040    5.793945\n",
       "125497040    4.565430\n",
       "125497040    2.297363\n",
       "125497040    2.297363"
      ]
     },
     "execution_count": 73,
     "metadata": {},
     "output_type": "execute_result"
    }
   ],
   "source": [
    "out_pd.head()"
   ]
  },
  {
   "cell_type": "code",
   "execution_count": 74,
   "metadata": {},
   "outputs": [],
   "source": [
    "out_pd.to_csv('../data/first_lin_reg.csv')"
   ]
  },
  {
   "cell_type": "code",
   "execution_count": 76,
   "metadata": {},
   "outputs": [
    {
     "data": {
      "text/plain": [
       "30334176"
      ]
     },
     "execution_count": 76,
     "metadata": {},
     "output_type": "execute_result"
    }
   ],
   "source": [
    "len(out_pd)"
   ]
  },
  {
   "cell_type": "code",
   "execution_count": null,
   "metadata": {},
   "outputs": [],
   "source": []
  }
 ],
 "metadata": {
  "kernelspec": {
   "display_name": "Python 3",
   "language": "python",
   "name": "python3"
  },
  "language_info": {
   "codemirror_mode": {
    "name": "ipython",
    "version": 3
   },
   "file_extension": ".py",
   "mimetype": "text/x-python",
   "name": "python",
   "nbconvert_exporter": "python",
   "pygments_lexer": "ipython3",
   "version": "3.5.4"
  }
 },
 "nbformat": 4,
 "nbformat_minor": 2
}
