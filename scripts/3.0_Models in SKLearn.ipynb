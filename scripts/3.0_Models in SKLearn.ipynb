{
 "cells": [
  {
   "cell_type": "code",
   "execution_count": 1,
   "metadata": {},
   "outputs": [],
   "source": [
    "import pandas as pd\n",
    "from scipy import stats\n",
    "import numpy as np\n",
    "%matplotlib inline\n",
    "import seaborn as sns\n",
    "import matplotlib.pyplot as plt\n",
    "import dask.dataframe as dd\n",
    "from datetime import datetime\n",
    "import random\n",
    "\n",
    "import sys\n",
    "\n",
    "from dateutil.parser import parse\n",
    "from matplotlib import dates\n",
    "\n",
    "from sklearn import preprocessing, neighbors, linear_model, model_selection, ensemble"
   ]
  },
  {
   "cell_type": "code",
   "execution_count": 2,
   "metadata": {},
   "outputs": [],
   "source": [
    "d = pd.read_csv('../data/2016_subset_all_tables.csv', index_col = 0)"
   ]
  },
  {
   "cell_type": "code",
   "execution_count": 3,
   "metadata": {},
   "outputs": [
    {
     "data": {
      "text/html": [
       "<div>\n",
       "<style scoped>\n",
       "    .dataframe tbody tr th:only-of-type {\n",
       "        vertical-align: middle;\n",
       "    }\n",
       "\n",
       "    .dataframe tbody tr th {\n",
       "        vertical-align: top;\n",
       "    }\n",
       "\n",
       "    .dataframe thead th {\n",
       "        text-align: right;\n",
       "    }\n",
       "</style>\n",
       "<table border=\"1\" class=\"dataframe\">\n",
       "  <thead>\n",
       "    <tr style=\"text-align: right;\">\n",
       "      <th></th>\n",
       "      <th>date</th>\n",
       "      <th>store_nbr</th>\n",
       "      <th>item_nbr</th>\n",
       "      <th>unit_sales</th>\n",
       "      <th>onpromotion</th>\n",
       "      <th>family</th>\n",
       "      <th>class</th>\n",
       "      <th>perishable</th>\n",
       "      <th>dcoilwtico</th>\n",
       "      <th>city</th>\n",
       "      <th>state</th>\n",
       "      <th>type</th>\n",
       "      <th>cluster</th>\n",
       "      <th>transactions</th>\n",
       "      <th>holitype</th>\n",
       "    </tr>\n",
       "    <tr>\n",
       "      <th>id</th>\n",
       "      <th></th>\n",
       "      <th></th>\n",
       "      <th></th>\n",
       "      <th></th>\n",
       "      <th></th>\n",
       "      <th></th>\n",
       "      <th></th>\n",
       "      <th></th>\n",
       "      <th></th>\n",
       "      <th></th>\n",
       "      <th></th>\n",
       "      <th></th>\n",
       "      <th></th>\n",
       "      <th></th>\n",
       "      <th></th>\n",
       "    </tr>\n",
       "  </thead>\n",
       "  <tbody>\n",
       "    <tr>\n",
       "      <th>71278985</th>\n",
       "      <td>2016-02-22</td>\n",
       "      <td>6</td>\n",
       "      <td>1464027</td>\n",
       "      <td>3.0</td>\n",
       "      <td>False</td>\n",
       "      <td>BEVERAGES</td>\n",
       "      <td>1148</td>\n",
       "      <td>0</td>\n",
       "      <td>31.37</td>\n",
       "      <td>Quito</td>\n",
       "      <td>Pichincha</td>\n",
       "      <td>D</td>\n",
       "      <td>13</td>\n",
       "      <td>1630</td>\n",
       "      <td>No_Holiday</td>\n",
       "    </tr>\n",
       "    <tr>\n",
       "      <th>82077989</th>\n",
       "      <td>2016-06-14</td>\n",
       "      <td>6</td>\n",
       "      <td>1913600</td>\n",
       "      <td>1.0</td>\n",
       "      <td>False</td>\n",
       "      <td>PERSONAL CARE</td>\n",
       "      <td>4118</td>\n",
       "      <td>0</td>\n",
       "      <td>48.49</td>\n",
       "      <td>Quito</td>\n",
       "      <td>Pichincha</td>\n",
       "      <td>D</td>\n",
       "      <td>13</td>\n",
       "      <td>1603</td>\n",
       "      <td>No_Holiday</td>\n",
       "    </tr>\n",
       "    <tr>\n",
       "      <th>92852321</th>\n",
       "      <td>2016-10-04</td>\n",
       "      <td>6</td>\n",
       "      <td>881701</td>\n",
       "      <td>2.0</td>\n",
       "      <td>False</td>\n",
       "      <td>GROCERY I</td>\n",
       "      <td>1042</td>\n",
       "      <td>0</td>\n",
       "      <td>48.67</td>\n",
       "      <td>Quito</td>\n",
       "      <td>Pichincha</td>\n",
       "      <td>D</td>\n",
       "      <td>13</td>\n",
       "      <td>1605</td>\n",
       "      <td>No_Holiday</td>\n",
       "    </tr>\n",
       "    <tr>\n",
       "      <th>72713582</th>\n",
       "      <td>2016-03-08</td>\n",
       "      <td>6</td>\n",
       "      <td>1150954</td>\n",
       "      <td>2.0</td>\n",
       "      <td>False</td>\n",
       "      <td>BEVERAGES</td>\n",
       "      <td>1124</td>\n",
       "      <td>0</td>\n",
       "      <td>36.67</td>\n",
       "      <td>Quito</td>\n",
       "      <td>Pichincha</td>\n",
       "      <td>D</td>\n",
       "      <td>13</td>\n",
       "      <td>1732</td>\n",
       "      <td>No_Holiday</td>\n",
       "    </tr>\n",
       "    <tr>\n",
       "      <th>72714342</th>\n",
       "      <td>2016-03-08</td>\n",
       "      <td>6</td>\n",
       "      <td>1898960</td>\n",
       "      <td>5.0</td>\n",
       "      <td>False</td>\n",
       "      <td>BEVERAGES</td>\n",
       "      <td>1126</td>\n",
       "      <td>0</td>\n",
       "      <td>36.67</td>\n",
       "      <td>Quito</td>\n",
       "      <td>Pichincha</td>\n",
       "      <td>D</td>\n",
       "      <td>13</td>\n",
       "      <td>1732</td>\n",
       "      <td>No_Holiday</td>\n",
       "    </tr>\n",
       "  </tbody>\n",
       "</table>\n",
       "</div>"
      ],
      "text/plain": [
       "                date  store_nbr  item_nbr  unit_sales  onpromotion  \\\n",
       "id                                                                   \n",
       "71278985  2016-02-22          6   1464027         3.0        False   \n",
       "82077989  2016-06-14          6   1913600         1.0        False   \n",
       "92852321  2016-10-04          6    881701         2.0        False   \n",
       "72713582  2016-03-08          6   1150954         2.0        False   \n",
       "72714342  2016-03-08          6   1898960         5.0        False   \n",
       "\n",
       "                 family  class  perishable  dcoilwtico   city      state type  \\\n",
       "id                                                                              \n",
       "71278985      BEVERAGES   1148           0       31.37  Quito  Pichincha    D   \n",
       "82077989  PERSONAL CARE   4118           0       48.49  Quito  Pichincha    D   \n",
       "92852321      GROCERY I   1042           0       48.67  Quito  Pichincha    D   \n",
       "72713582      BEVERAGES   1124           0       36.67  Quito  Pichincha    D   \n",
       "72714342      BEVERAGES   1126           0       36.67  Quito  Pichincha    D   \n",
       "\n",
       "          cluster  transactions    holitype  \n",
       "id                                           \n",
       "71278985       13          1630  No_Holiday  \n",
       "82077989       13          1603  No_Holiday  \n",
       "92852321       13          1605  No_Holiday  \n",
       "72713582       13          1732  No_Holiday  \n",
       "72714342       13          1732  No_Holiday  "
      ]
     },
     "execution_count": 3,
     "metadata": {},
     "output_type": "execute_result"
    }
   ],
   "source": [
    "d.head()"
   ]
  },
  {
   "cell_type": "code",
   "execution_count": 4,
   "metadata": {},
   "outputs": [],
   "source": [
    "d['date_as_datetime'] = [parse(x) for x in d['date']]\n",
    "d['date_as_num'] = [dates.date2num(x) for x in d['date_as_datetime']]"
   ]
  },
  {
   "cell_type": "code",
   "execution_count": 5,
   "metadata": {},
   "outputs": [
    {
     "data": {
      "text/html": [
       "<div>\n",
       "<style scoped>\n",
       "    .dataframe tbody tr th:only-of-type {\n",
       "        vertical-align: middle;\n",
       "    }\n",
       "\n",
       "    .dataframe tbody tr th {\n",
       "        vertical-align: top;\n",
       "    }\n",
       "\n",
       "    .dataframe thead th {\n",
       "        text-align: right;\n",
       "    }\n",
       "</style>\n",
       "<table border=\"1\" class=\"dataframe\">\n",
       "  <thead>\n",
       "    <tr style=\"text-align: right;\">\n",
       "      <th></th>\n",
       "      <th>date</th>\n",
       "      <th>store_nbr</th>\n",
       "      <th>item_nbr</th>\n",
       "      <th>unit_sales</th>\n",
       "      <th>onpromotion</th>\n",
       "      <th>family</th>\n",
       "      <th>class</th>\n",
       "      <th>perishable</th>\n",
       "      <th>dcoilwtico</th>\n",
       "      <th>city</th>\n",
       "      <th>state</th>\n",
       "      <th>type</th>\n",
       "      <th>cluster</th>\n",
       "      <th>transactions</th>\n",
       "      <th>holitype</th>\n",
       "      <th>date_as_datetime</th>\n",
       "      <th>date_as_num</th>\n",
       "    </tr>\n",
       "    <tr>\n",
       "      <th>id</th>\n",
       "      <th></th>\n",
       "      <th></th>\n",
       "      <th></th>\n",
       "      <th></th>\n",
       "      <th></th>\n",
       "      <th></th>\n",
       "      <th></th>\n",
       "      <th></th>\n",
       "      <th></th>\n",
       "      <th></th>\n",
       "      <th></th>\n",
       "      <th></th>\n",
       "      <th></th>\n",
       "      <th></th>\n",
       "      <th></th>\n",
       "      <th></th>\n",
       "      <th></th>\n",
       "    </tr>\n",
       "  </thead>\n",
       "  <tbody>\n",
       "    <tr>\n",
       "      <th>71278985</th>\n",
       "      <td>2016-02-22</td>\n",
       "      <td>6</td>\n",
       "      <td>1464027</td>\n",
       "      <td>3.0</td>\n",
       "      <td>False</td>\n",
       "      <td>BEVERAGES</td>\n",
       "      <td>1148</td>\n",
       "      <td>0</td>\n",
       "      <td>31.37</td>\n",
       "      <td>Quito</td>\n",
       "      <td>Pichincha</td>\n",
       "      <td>D</td>\n",
       "      <td>13</td>\n",
       "      <td>1630</td>\n",
       "      <td>No_Holiday</td>\n",
       "      <td>2016-02-22</td>\n",
       "      <td>736016.0</td>\n",
       "    </tr>\n",
       "    <tr>\n",
       "      <th>82077989</th>\n",
       "      <td>2016-06-14</td>\n",
       "      <td>6</td>\n",
       "      <td>1913600</td>\n",
       "      <td>1.0</td>\n",
       "      <td>False</td>\n",
       "      <td>PERSONAL CARE</td>\n",
       "      <td>4118</td>\n",
       "      <td>0</td>\n",
       "      <td>48.49</td>\n",
       "      <td>Quito</td>\n",
       "      <td>Pichincha</td>\n",
       "      <td>D</td>\n",
       "      <td>13</td>\n",
       "      <td>1603</td>\n",
       "      <td>No_Holiday</td>\n",
       "      <td>2016-06-14</td>\n",
       "      <td>736129.0</td>\n",
       "    </tr>\n",
       "    <tr>\n",
       "      <th>92852321</th>\n",
       "      <td>2016-10-04</td>\n",
       "      <td>6</td>\n",
       "      <td>881701</td>\n",
       "      <td>2.0</td>\n",
       "      <td>False</td>\n",
       "      <td>GROCERY I</td>\n",
       "      <td>1042</td>\n",
       "      <td>0</td>\n",
       "      <td>48.67</td>\n",
       "      <td>Quito</td>\n",
       "      <td>Pichincha</td>\n",
       "      <td>D</td>\n",
       "      <td>13</td>\n",
       "      <td>1605</td>\n",
       "      <td>No_Holiday</td>\n",
       "      <td>2016-10-04</td>\n",
       "      <td>736241.0</td>\n",
       "    </tr>\n",
       "    <tr>\n",
       "      <th>72713582</th>\n",
       "      <td>2016-03-08</td>\n",
       "      <td>6</td>\n",
       "      <td>1150954</td>\n",
       "      <td>2.0</td>\n",
       "      <td>False</td>\n",
       "      <td>BEVERAGES</td>\n",
       "      <td>1124</td>\n",
       "      <td>0</td>\n",
       "      <td>36.67</td>\n",
       "      <td>Quito</td>\n",
       "      <td>Pichincha</td>\n",
       "      <td>D</td>\n",
       "      <td>13</td>\n",
       "      <td>1732</td>\n",
       "      <td>No_Holiday</td>\n",
       "      <td>2016-03-08</td>\n",
       "      <td>736031.0</td>\n",
       "    </tr>\n",
       "    <tr>\n",
       "      <th>72714342</th>\n",
       "      <td>2016-03-08</td>\n",
       "      <td>6</td>\n",
       "      <td>1898960</td>\n",
       "      <td>5.0</td>\n",
       "      <td>False</td>\n",
       "      <td>BEVERAGES</td>\n",
       "      <td>1126</td>\n",
       "      <td>0</td>\n",
       "      <td>36.67</td>\n",
       "      <td>Quito</td>\n",
       "      <td>Pichincha</td>\n",
       "      <td>D</td>\n",
       "      <td>13</td>\n",
       "      <td>1732</td>\n",
       "      <td>No_Holiday</td>\n",
       "      <td>2016-03-08</td>\n",
       "      <td>736031.0</td>\n",
       "    </tr>\n",
       "  </tbody>\n",
       "</table>\n",
       "</div>"
      ],
      "text/plain": [
       "                date  store_nbr  item_nbr  unit_sales  onpromotion  \\\n",
       "id                                                                   \n",
       "71278985  2016-02-22          6   1464027         3.0        False   \n",
       "82077989  2016-06-14          6   1913600         1.0        False   \n",
       "92852321  2016-10-04          6    881701         2.0        False   \n",
       "72713582  2016-03-08          6   1150954         2.0        False   \n",
       "72714342  2016-03-08          6   1898960         5.0        False   \n",
       "\n",
       "                 family  class  perishable  dcoilwtico   city      state type  \\\n",
       "id                                                                              \n",
       "71278985      BEVERAGES   1148           0       31.37  Quito  Pichincha    D   \n",
       "82077989  PERSONAL CARE   4118           0       48.49  Quito  Pichincha    D   \n",
       "92852321      GROCERY I   1042           0       48.67  Quito  Pichincha    D   \n",
       "72713582      BEVERAGES   1124           0       36.67  Quito  Pichincha    D   \n",
       "72714342      BEVERAGES   1126           0       36.67  Quito  Pichincha    D   \n",
       "\n",
       "          cluster  transactions    holitype date_as_datetime  date_as_num  \n",
       "id                                                                         \n",
       "71278985       13          1630  No_Holiday       2016-02-22     736016.0  \n",
       "82077989       13          1603  No_Holiday       2016-06-14     736129.0  \n",
       "92852321       13          1605  No_Holiday       2016-10-04     736241.0  \n",
       "72713582       13          1732  No_Holiday       2016-03-08     736031.0  \n",
       "72714342       13          1732  No_Holiday       2016-03-08     736031.0  "
      ]
     },
     "execution_count": 5,
     "metadata": {},
     "output_type": "execute_result"
    }
   ],
   "source": [
    "d.head()"
   ]
  },
  {
   "cell_type": "code",
   "execution_count": 6,
   "metadata": {},
   "outputs": [],
   "source": [
    "d = d.join(pd.get_dummies(d['family'], prefix = 'family'))\n",
    "d = d.join(pd.get_dummies(d['type'], prefix = 'type'))\n",
    "d = d.join(pd.get_dummies(d['city'], prefix = 'city'))\n",
    "d = d.join(pd.get_dummies(d['holitype'], prefix = 'holitype'))"
   ]
  },
  {
   "cell_type": "code",
   "execution_count": 7,
   "metadata": {},
   "outputs": [],
   "source": [
    "d = d.dropna()"
   ]
  },
  {
   "cell_type": "code",
   "execution_count": 8,
   "metadata": {},
   "outputs": [],
   "source": [
    "v_train, v_test = model_selection.train_test_split(d, test_size = 0.25)"
   ]
  },
  {
   "cell_type": "code",
   "execution_count": 9,
   "metadata": {},
   "outputs": [
    {
     "name": "stdout",
     "output_type": "stream",
     "text": [
      "0.0830482434599\n"
     ]
    }
   ],
   "source": [
    "v_train_cols = ['onpromotion', 'perishable', 'dcoilwtico',\n",
    "       'transactions',\n",
    "       'family_AUTOMOTIVE', 'family_BABY CARE', 'family_BEAUTY',\n",
    "       'family_BEVERAGES', 'family_BOOKS', 'family_BREAD/BAKERY',\n",
    "       'family_CELEBRATION', 'family_CLEANING', 'family_DAIRY', 'family_DELI',\n",
    "       'family_EGGS', 'family_FROZEN FOODS', 'family_GROCERY I',\n",
    "       'family_GROCERY II', 'family_HARDWARE', 'family_HOME AND KITCHEN I',\n",
    "       'family_HOME AND KITCHEN II', 'family_HOME CARE', 'family_LADIESWEAR',\n",
    "       'family_LAWN AND GARDEN', 'family_LINGERIE', 'family_LIQUOR,WINE,BEER',\n",
    "       'family_MAGAZINES', 'family_MEATS', 'family_PERSONAL CARE',\n",
    "       'family_PET SUPPLIES', 'family_PLAYERS AND ELECTRONICS',\n",
    "       'family_POULTRY', 'family_PREPARED FOODS', 'family_PRODUCE',\n",
    "       'family_SCHOOL AND OFFICE SUPPLIES', 'family_SEAFOOD', 'type_A',\n",
    "       'type_B', 'type_C', 'type_D', 'type_E', 'city_Ambato', 'city_Babahoyo',\n",
    "       'city_Cayambe', 'city_Cuenca', 'city_Daule', 'city_El Carmen',\n",
    "       'city_Esmeraldas', 'city_Guaranda', 'city_Guayaquil', 'city_Ibarra',\n",
    "       'city_Latacunga', 'city_Libertad', 'city_Loja', 'city_Machala',\n",
    "       'city_Manta', 'city_Playas', 'city_Puyo', 'city_Quevedo', 'city_Quito',\n",
    "       'city_Riobamba', 'city_Salinas', 'city_Santo Domingo',\n",
    "       'holitype_Additional', 'holitype_Bridge', 'holitype_Event',\n",
    "       'holitype_Holiday', 'holitype_No_Holiday', 'holitype_Transfer']\n",
    "\n",
    "lin_reg = linear_model.LinearRegression()\n",
    "lin_reg.fit(v_train.loc[:, v_train_cols], v_train.loc[:, ['unit_sales']])\n",
    "\n",
    "print(lin_reg.score(v_test.loc[:,v_train_cols], v_test.loc[:, ['unit_sales']]))\n",
    "all_lin = lin_reg.score(v_test.loc[:,v_train_cols], v_test.loc[:, ['unit_sales']])"
   ]
  },
  {
   "cell_type": "code",
   "execution_count": 10,
   "metadata": {},
   "outputs": [
    {
     "name": "stdout",
     "output_type": "stream",
     "text": [
      "[-0.26463578 -0.00527043  0.02164778  0.02008727  0.02057227  0.02249693\n",
      "  0.02251843  0.02346469  0.02168145  0.02310911  0.02279956  0.02160564\n",
      "  0.02010944  0.01961292  0.01873751  0.0204185   0.02050087  0.02028632\n",
      "  0.01984919  0.01937421]\n",
      "[-0.60688112 -0.17519369 -0.08995069 -0.08017692 -0.0483586  -0.03186336\n",
      " -0.01420613  0.01114866  0.01598922  0.02361176  0.02918425  0.0365603\n",
      "  0.04202936  0.04384746  0.04371715  0.04389289  0.04394974  0.04242702\n",
      "  0.04335093  0.04356521]\n",
      "[-0.49261903 -0.08794891 -0.09170457 -0.04716902 -0.03862553 -0.04549828\n",
      " -0.03994586 -0.03629119 -0.02485951 -0.01789678 -0.01475975 -0.00919263\n",
      " -0.00511407 -0.00300994  0.00059147  0.00250105  0.00496083  0.00702007\n",
      "  0.00791991  0.00796248]\n"
     ]
    }
   ],
   "source": [
    "knn = neighbors.KNeighborsRegressor()\n",
    "\n",
    "knn_param_grid = [\n",
    "    {'n_neighbors': range(1,200, 10)}\n",
    "]\n",
    "\n",
    "knn_grid = model_selection.GridSearchCV(knn, param_grid = knn_param_grid)\n",
    "knn_grid.fit(v_train.loc[:, v_train_cols], v_train.loc[:, ['unit_sales']])\n",
    "\n",
    "\n",
    "print(knn_grid.cv_results_['split0_test_score'])\n",
    "print(knn_grid.cv_results_['split1_test_score'])\n",
    "print(knn_grid.cv_results_['split2_test_score'])"
   ]
  },
  {
   "cell_type": "code",
   "execution_count": 11,
   "metadata": {},
   "outputs": [
    {
     "data": {
      "image/png": "[encoded data removed]",
      "text/plain": [
       "<matplotlib.figure.Figure at 0x116655710>"
      ]
     },
     "metadata": {},
     "output_type": "display_data"
    }
   ],
   "source": [
    "\n",
    "sp0 = sns.regplot(np.array(range(1, 200, 10)), knn_grid.cv_results_['split0_test_score'], fit_reg = False, label = 'split0').set(xlabel = 'n_neighbors', ylabel = 'accuracy')\n",
    "sp1 = sns.regplot(np.array(range(1, 200, 10)), knn_grid.cv_results_['split1_test_score'], fit_reg = False, label = 'split1')\n",
    "sp2 = sns.regplot(np.array(range(1, 200, 10)), knn_grid.cv_results_['split2_test_score'], fit_reg = False, label = 'split2')\n",
    "\n",
    "plt.show()\n"
   ]
  },
  {
   "cell_type": "code",
   "execution_count": 12,
   "metadata": {},
   "outputs": [
    {
     "data": {
      "text/plain": [
       "0.018612293181824224"
      ]
     },
     "execution_count": 12,
     "metadata": {},
     "output_type": "execute_result"
    }
   ],
   "source": [
    "knn_200 = neighbors.KNeighborsRegressor(n_neighbors = 200)\n",
    "knn_200.fit(v_train.loc[:, v_train_cols], v_train.loc[:, ['unit_sales']])\n",
    "knn_200.score(v_test.loc[:,v_train_cols], v_test.loc[:, ['unit_sales']])"
   ]
  },
  {
   "cell_type": "code",
   "execution_count": 13,
   "metadata": {},
   "outputs": [
    {
     "name": "stderr",
     "output_type": "stream",
     "text": [
      "/anaconda/lib/python3.5/site-packages/ipykernel_launcher.py:2: DataConversionWarning: A column-vector y was passed when a 1d array was expected. Please change the shape of y to (n_samples,), for example using ravel().\n",
      "  \n"
     ]
    },
    {
     "data": {
      "text/plain": [
       "-0.22463897029355848"
      ]
     },
     "execution_count": 13,
     "metadata": {},
     "output_type": "execute_result"
    }
   ],
   "source": [
    "rf = ensemble.RandomForestRegressor()\n",
    "rf.fit(v_train.loc[:, v_train_cols], v_train.loc[:, ['unit_sales']])\n",
    "rf.score(v_test.loc[:,v_train_cols], v_test.loc[:, ['unit_sales']])"
   ]
  },
  {
   "cell_type": "code",
   "execution_count": 14,
   "metadata": {},
   "outputs": [
    {
     "name": "stdout",
     "output_type": "stream",
     "text": [
      "0.0869588407391\n"
     ]
    }
   ],
   "source": [
    "#ugghhhh the huge number of one-hot columns is causing me troubles!\n",
    "#maybe it's time to switch to H2O!\n",
    "\n",
    "#for now linear regression is performing best, but lets see if it needs the categorical stuff\n",
    "\n",
    "v_train_cols = ['onpromotion', 'perishable', 'dcoilwtico',\n",
    "       'transactions',\n",
    "       'family_AUTOMOTIVE', 'family_BABY CARE', 'family_BEAUTY',\n",
    "       'family_BEVERAGES', 'family_BOOKS', 'family_BREAD/BAKERY',\n",
    "       'family_CELEBRATION', 'family_CLEANING', 'family_DAIRY', 'family_DELI',\n",
    "       'family_EGGS', 'family_FROZEN FOODS', 'family_GROCERY I',\n",
    "       'family_GROCERY II', 'family_HARDWARE', 'family_HOME AND KITCHEN I',\n",
    "       'family_HOME AND KITCHEN II', 'family_HOME CARE', 'family_LADIESWEAR',\n",
    "       'family_LAWN AND GARDEN', 'family_LINGERIE', 'family_LIQUOR,WINE,BEER',\n",
    "       'family_MAGAZINES', 'family_MEATS', 'family_PERSONAL CARE',\n",
    "       'family_PET SUPPLIES', 'family_PLAYERS AND ELECTRONICS',\n",
    "       'family_POULTRY', 'family_PREPARED FOODS', 'family_PRODUCE',\n",
    "       'family_SCHOOL AND OFFICE SUPPLIES', 'family_SEAFOOD', \n",
    "        'type_A',\n",
    "       'type_B', 'type_C', 'type_D', 'type_E', \n",
    "   #     'city_Ambato', 'city_Babahoyo',\n",
    "    #   'city_Cayambe', 'city_Cuenca', 'city_Daule', 'city_El Carmen',\n",
    "     #  'city_Esmeraldas', 'city_Guaranda', 'city_Guayaquil', 'city_Ibarra',\n",
    "     #  'city_Latacunga', 'city_Libertad', 'city_Loja', 'city_Machala',\n",
    "      # 'city_Manta', 'city_Playas', 'city_Puyo', 'city_Quevedo', 'city_Quito',\n",
    "       #'city_Riobamba', 'city_Salinas', 'city_Santo Domingo',\n",
    "       'holitype_Additional', 'holitype_Bridge', 'holitype_Event',\n",
    "       'holitype_Holiday', 'holitype_No_Holiday', 'holitype_Transfer']\n",
    "\n",
    "lin_reg = linear_model.LinearRegression()\n",
    "lin_reg.fit(v_train.loc[:, v_train_cols], v_train.loc[:, ['unit_sales']])\n",
    "\n",
    "\n",
    "print(lin_reg.score(v_test.loc[:,v_train_cols], v_test.loc[:, ['unit_sales']]))\n",
    "no_city_lin = lin_reg.score(v_test.loc[:,v_train_cols], v_test.loc[:, ['unit_sales']])"
   ]
  },
  {
   "cell_type": "code",
   "execution_count": 15,
   "metadata": {},
   "outputs": [
    {
     "name": "stdout",
     "output_type": "stream",
     "text": [
      "0.0407147840762\n"
     ]
    }
   ],
   "source": [
    "#for now linear regression is performing best, but lets see if it needs the categorical stuff\n",
    "\n",
    "v_train_cols = ['onpromotion', 'perishable', 'dcoilwtico',\n",
    "       'transactions',\n",
    "     #  'family_AUTOMOTIVE', 'family_BABY CARE', 'family_BEAUTY',\n",
    "     #  'family_BEVERAGES', 'family_BOOKS', 'family_BREAD/BAKERY',\n",
    "     #  'family_CELEBRATION', 'family_CLEANING', 'family_DAIRY', 'family_DELI',\n",
    "     #  'family_EGGS', 'family_FROZEN FOODS', 'family_GROCERY I',\n",
    "     #  'family_GROCERY II', 'family_HARDWARE', 'family_HOME AND KITCHEN I',\n",
    "     #  'family_HOME AND KITCHEN II', 'family_HOME CARE', 'family_LADIESWEAR',\n",
    "     #  'family_LAWN AND GARDEN', 'family_LINGERIE', 'family_LIQUOR,WINE,BEER',\n",
    "     #  'family_MAGAZINES', 'family_MEATS', 'family_PERSONAL CARE',\n",
    "     #  'family_PET SUPPLIES', 'family_PLAYERS AND ELECTRONICS',\n",
    "     #  'family_POULTRY', 'family_PREPARED FOODS', 'family_PRODUCE',\n",
    "     #  'family_SCHOOL AND OFFICE SUPPLIES', 'family_SEAFOOD', \n",
    "        'type_A',\n",
    "       'type_B', 'type_C', 'type_D', 'type_E', \n",
    "        'city_Ambato', 'city_Babahoyo',\n",
    "       'city_Cayambe', 'city_Cuenca', 'city_Daule', 'city_El Carmen',\n",
    "      'city_Esmeraldas', 'city_Guaranda', 'city_Guayaquil', 'city_Ibarra',\n",
    "       'city_Latacunga', 'city_Libertad', 'city_Loja', 'city_Machala',\n",
    "       'city_Manta', 'city_Playas', 'city_Puyo', 'city_Quevedo', 'city_Quito',\n",
    "       'city_Riobamba', 'city_Salinas', 'city_Santo Domingo',\n",
    "       'holitype_Additional', 'holitype_Bridge', 'holitype_Event',\n",
    "       'holitype_Holiday', 'holitype_No_Holiday', 'holitype_Transfer']\n",
    "\n",
    "lin_reg = linear_model.LinearRegression()\n",
    "lin_reg.fit(v_train.loc[:, v_train_cols], v_train.loc[:, ['unit_sales']])\n",
    "\n",
    "\n",
    "print(lin_reg.score(v_test.loc[:,v_train_cols], v_test.loc[:, ['unit_sales']]))\n",
    "no_family_lin = lin_reg.score(v_test.loc[:,v_train_cols], v_test.loc[:, ['unit_sales']])"
   ]
  },
  {
   "cell_type": "code",
   "execution_count": 16,
   "metadata": {},
   "outputs": [
    {
     "name": "stdout",
     "output_type": "stream",
     "text": [
      "0.0839249247992\n"
     ]
    }
   ],
   "source": [
    "#for now linear regression is performing best, but lets see if it needs the categorical stuff\n",
    "\n",
    "v_train_cols = ['onpromotion', 'perishable', 'dcoilwtico',\n",
    "       'transactions',\n",
    "       'family_AUTOMOTIVE', 'family_BABY CARE', 'family_BEAUTY',\n",
    "       'family_BEVERAGES', 'family_BOOKS', 'family_BREAD/BAKERY',\n",
    "       'family_CELEBRATION', 'family_CLEANING', 'family_DAIRY', 'family_DELI',\n",
    "       'family_EGGS', 'family_FROZEN FOODS', 'family_GROCERY I',\n",
    "       'family_GROCERY II', 'family_HARDWARE', 'family_HOME AND KITCHEN I',\n",
    "       'family_HOME AND KITCHEN II', 'family_HOME CARE', 'family_LADIESWEAR',\n",
    "       'family_LAWN AND GARDEN', 'family_LINGERIE', 'family_LIQUOR,WINE,BEER',\n",
    "       'family_MAGAZINES', 'family_MEATS', 'family_PERSONAL CARE',\n",
    "       'family_PET SUPPLIES', 'family_PLAYERS AND ELECTRONICS',\n",
    "       'family_POULTRY', 'family_PREPARED FOODS', 'family_PRODUCE',\n",
    "       'family_SCHOOL AND OFFICE SUPPLIES', 'family_SEAFOOD', \n",
    "    #    'type_A',\n",
    "    #   'type_B', 'type_C', 'type_D', 'type_E', \n",
    "        'city_Ambato', 'city_Babahoyo',\n",
    "       'city_Cayambe', 'city_Cuenca', 'city_Daule', 'city_El Carmen',\n",
    "       'city_Esmeraldas', 'city_Guaranda', 'city_Guayaquil', 'city_Ibarra',\n",
    "       'city_Latacunga', 'city_Libertad', 'city_Loja', 'city_Machala',\n",
    "       'city_Manta', 'city_Playas', 'city_Puyo', 'city_Quevedo', 'city_Quito',\n",
    "       'city_Riobamba', 'city_Salinas', 'city_Santo Domingo',\n",
    "       'holitype_Additional', 'holitype_Bridge', 'holitype_Event',\n",
    "       'holitype_Holiday', 'holitype_No_Holiday', 'holitype_Transfer']\n",
    "\n",
    "lin_reg = linear_model.LinearRegression()\n",
    "lin_reg.fit(v_train.loc[:, v_train_cols], v_train.loc[:, ['unit_sales']])\n",
    "\n",
    "\n",
    "print(lin_reg.score(v_test.loc[:,v_train_cols], v_test.loc[:, ['unit_sales']]))\n",
    "no_type_lin = lin_reg.score(v_test.loc[:,v_train_cols], v_test.loc[:, ['unit_sales']])"
   ]
  },
  {
   "cell_type": "code",
   "execution_count": 17,
   "metadata": {},
   "outputs": [
    {
     "name": "stdout",
     "output_type": "stream",
     "text": [
      "0.0887826323023\n"
     ]
    }
   ],
   "source": [
    "#for now linear regression is performing best, but lets see if it needs the categorical stuff\n",
    "\n",
    "v_train_cols = ['onpromotion', 'perishable', 'dcoilwtico',\n",
    "       'transactions',\n",
    "       'family_AUTOMOTIVE', 'family_BABY CARE', 'family_BEAUTY',\n",
    "       'family_BEVERAGES', 'family_BOOKS', 'family_BREAD/BAKERY',\n",
    "       'family_CELEBRATION', 'family_CLEANING', 'family_DAIRY', 'family_DELI',\n",
    "       'family_EGGS', 'family_FROZEN FOODS', 'family_GROCERY I',\n",
    "       'family_GROCERY II', 'family_HARDWARE', 'family_HOME AND KITCHEN I',\n",
    "       'family_HOME AND KITCHEN II', 'family_HOME CARE', 'family_LADIESWEAR',\n",
    "       'family_LAWN AND GARDEN', 'family_LINGERIE', 'family_LIQUOR,WINE,BEER',\n",
    "       'family_MAGAZINES', 'family_MEATS', 'family_PERSONAL CARE',\n",
    "       'family_PET SUPPLIES', 'family_PLAYERS AND ELECTRONICS',\n",
    "       'family_POULTRY', 'family_PREPARED FOODS', 'family_PRODUCE',\n",
    "       'family_SCHOOL AND OFFICE SUPPLIES', 'family_SEAFOOD', \n",
    "        'type_A',\n",
    "       'type_B', 'type_C', 'type_D', 'type_E', \n",
    "        'city_Ambato', 'city_Babahoyo',\n",
    "       'city_Cayambe', 'city_Cuenca', 'city_Daule', 'city_El Carmen',\n",
    "      'city_Esmeraldas', 'city_Guaranda', 'city_Guayaquil', 'city_Ibarra',\n",
    "       'city_Latacunga', 'city_Libertad', 'city_Loja', 'city_Machala',\n",
    "       'city_Manta', 'city_Playas', 'city_Puyo', 'city_Quevedo', 'city_Quito',\n",
    "       'city_Riobamba', 'city_Salinas', 'city_Santo Domingo'\n",
    "       #         ,\n",
    "      # 'holitype_Additional', 'holitype_Bridge', 'holitype_Event',\n",
    "     #  'holitype_Holiday', 'holitype_No_Holiday', 'holitype_Transfer'\n",
    "               ]\n",
    "\n",
    "lin_reg = linear_model.LinearRegression()\n",
    "lin_reg.fit(v_train.loc[:, v_train_cols], v_train.loc[:, ['unit_sales']])\n",
    "\n",
    "\n",
    "print(lin_reg.score(v_test.loc[:,v_train_cols], v_test.loc[:, ['unit_sales']]))\n",
    "no_holi_lin = lin_reg.score(v_test.loc[:,v_train_cols], v_test.loc[:, ['unit_sales']])"
   ]
  },
  {
   "cell_type": "code",
   "execution_count": 18,
   "metadata": {},
   "outputs": [
    {
     "data": {
      "text/plain": [
       "<matplotlib.axes._subplots.AxesSubplot at 0x108096940>"
      ]
     },
     "execution_count": 18,
     "metadata": {},
     "output_type": "execute_result"
    },
    {
     "data": {
      "image/png": "[encoded data removed]",
      "text/plain": [
       "<matplotlib.figure.Figure at 0x1080a2eb8>"
      ]
     },
     "metadata": {},
     "output_type": "display_data"
    }
   ],
   "source": [
    "sns.barplot(['all', 'no family', 'no_holiday', 'no type', 'no city'], \n",
    "            [all_lin, no_family_lin, no_holi_lin, no_type_lin, no_city_lin])"
   ]
  },
  {
   "cell_type": "code",
   "execution_count": 19,
   "metadata": {},
   "outputs": [
    {
     "name": "stdout",
     "output_type": "stream",
     "text": [
      "0.0930635214758\n"
     ]
    }
   ],
   "source": [
    "v_train_cols = [\n",
    "        'onpromotion', \n",
    "        'perishable', \n",
    "        'dcoilwtico',\n",
    "       'transactions',\n",
    "       'family_AUTOMOTIVE', 'family_BABY CARE', 'family_BEAUTY',\n",
    "       'family_BEVERAGES', 'family_BOOKS', 'family_BREAD/BAKERY',\n",
    "       'family_CELEBRATION', 'family_CLEANING', 'family_DAIRY', 'family_DELI',\n",
    "       'family_EGGS', 'family_FROZEN FOODS', 'family_GROCERY I',\n",
    "       'family_GROCERY II', 'family_HARDWARE', 'family_HOME AND KITCHEN I',\n",
    "       'family_HOME AND KITCHEN II', 'family_HOME CARE', 'family_LADIESWEAR',\n",
    "       'family_LAWN AND GARDEN', 'family_LINGERIE', 'family_LIQUOR,WINE,BEER',\n",
    "       'family_MAGAZINES', 'family_MEATS', 'family_PERSONAL CARE',\n",
    "       'family_PET SUPPLIES', 'family_PLAYERS AND ELECTRONICS',\n",
    "       'family_POULTRY', 'family_PREPARED FOODS', 'family_PRODUCE',\n",
    "       'family_SCHOOL AND OFFICE SUPPLIES', 'family_SEAFOOD' \n",
    "        ]\n",
    "\n",
    "lin_reg = linear_model.LinearRegression()\n",
    "lin_reg.fit(v_train.loc[:, v_train_cols], v_train.loc[:, ['unit_sales']])\n",
    "\n",
    "\n",
    "print(lin_reg.score(v_test.loc[:,v_train_cols], v_test.loc[:, ['unit_sales']]))\n",
    "fam_all_lin = lin_reg.score(v_test.loc[:,v_train_cols], v_test.loc[:, ['unit_sales']])"
   ]
  },
  {
   "cell_type": "code",
   "execution_count": 20,
   "metadata": {},
   "outputs": [
    {
     "name": "stdout",
     "output_type": "stream",
     "text": [
      "0.0930573296829\n"
     ]
    }
   ],
   "source": [
    "v_train_cols = [\n",
    "        'onpromotion', \n",
    "        'perishable', \n",
    "        #'dcoilwtico',\n",
    "       'transactions',\n",
    "       'family_AUTOMOTIVE', 'family_BABY CARE', 'family_BEAUTY',\n",
    "       'family_BEVERAGES', 'family_BOOKS', 'family_BREAD/BAKERY',\n",
    "       'family_CELEBRATION', 'family_CLEANING', 'family_DAIRY', 'family_DELI',\n",
    "       'family_EGGS', 'family_FROZEN FOODS', 'family_GROCERY I',\n",
    "       'family_GROCERY II', 'family_HARDWARE', 'family_HOME AND KITCHEN I',\n",
    "       'family_HOME AND KITCHEN II', 'family_HOME CARE', 'family_LADIESWEAR',\n",
    "       'family_LAWN AND GARDEN', 'family_LINGERIE', 'family_LIQUOR,WINE,BEER',\n",
    "       'family_MAGAZINES', 'family_MEATS', 'family_PERSONAL CARE',\n",
    "       'family_PET SUPPLIES', 'family_PLAYERS AND ELECTRONICS',\n",
    "       'family_POULTRY', 'family_PREPARED FOODS', 'family_PRODUCE',\n",
    "       'family_SCHOOL AND OFFICE SUPPLIES', 'family_SEAFOOD' \n",
    "        ]\n",
    "\n",
    "lin_reg = linear_model.LinearRegression()\n",
    "lin_reg.fit(v_train.loc[:, v_train_cols], v_train.loc[:, ['unit_sales']])\n",
    "\n",
    "\n",
    "print(lin_reg.score(v_test.loc[:,v_train_cols], v_test.loc[:, ['unit_sales']]))\n",
    "no_oil_lin = lin_reg.score(v_test.loc[:,v_train_cols], v_test.loc[:, ['unit_sales']])"
   ]
  },
  {
   "cell_type": "code",
   "execution_count": 21,
   "metadata": {},
   "outputs": [
    {
     "name": "stdout",
     "output_type": "stream",
     "text": [
      "0.0930399447462\n"
     ]
    }
   ],
   "source": [
    "v_train_cols = [\n",
    "        'onpromotion', \n",
    "        #'perishable', \n",
    "        'dcoilwtico',\n",
    "       'transactions',\n",
    "       'family_AUTOMOTIVE', 'family_BABY CARE', 'family_BEAUTY',\n",
    "       'family_BEVERAGES', 'family_BOOKS', 'family_BREAD/BAKERY',\n",
    "       'family_CELEBRATION', 'family_CLEANING', 'family_DAIRY', 'family_DELI',\n",
    "       'family_EGGS', 'family_FROZEN FOODS', 'family_GROCERY I',\n",
    "       'family_GROCERY II', 'family_HARDWARE', 'family_HOME AND KITCHEN I',\n",
    "       'family_HOME AND KITCHEN II', 'family_HOME CARE', 'family_LADIESWEAR',\n",
    "       'family_LAWN AND GARDEN', 'family_LINGERIE', 'family_LIQUOR,WINE,BEER',\n",
    "       'family_MAGAZINES', 'family_MEATS', 'family_PERSONAL CARE',\n",
    "       'family_PET SUPPLIES', 'family_PLAYERS AND ELECTRONICS',\n",
    "       'family_POULTRY', 'family_PREPARED FOODS', 'family_PRODUCE',\n",
    "       'family_SCHOOL AND OFFICE SUPPLIES', 'family_SEAFOOD' \n",
    "        ]\n",
    "\n",
    "lin_reg = linear_model.LinearRegression()\n",
    "lin_reg.fit(v_train.loc[:, v_train_cols], v_train.loc[:, ['unit_sales']])\n",
    "\n",
    "\n",
    "print(lin_reg.score(v_test.loc[:,v_train_cols], v_test.loc[:, ['unit_sales']]))\n",
    "no_perish_lin = lin_reg.score(v_test.loc[:,v_train_cols], v_test.loc[:, ['unit_sales']])"
   ]
  },
  {
   "cell_type": "code",
   "execution_count": 22,
   "metadata": {},
   "outputs": [
    {
     "name": "stdout",
     "output_type": "stream",
     "text": [
      "-8.88135097834e+14\n"
     ]
    }
   ],
   "source": [
    "v_train_cols = [\n",
    "        #'onpromotion', \n",
    "        'perishable', \n",
    "        'dcoilwtico',\n",
    "       'transactions',\n",
    "       'family_AUTOMOTIVE', 'family_BABY CARE', 'family_BEAUTY',\n",
    "       'family_BEVERAGES', 'family_BOOKS', 'family_BREAD/BAKERY',\n",
    "       'family_CELEBRATION', 'family_CLEANING', 'family_DAIRY', 'family_DELI',\n",
    "       'family_EGGS', 'family_FROZEN FOODS', 'family_GROCERY I',\n",
    "       'family_GROCERY II', 'family_HARDWARE', 'family_HOME AND KITCHEN I',\n",
    "       'family_HOME AND KITCHEN II', 'family_HOME CARE', 'family_LADIESWEAR',\n",
    "       'family_LAWN AND GARDEN', 'family_LINGERIE', 'family_LIQUOR,WINE,BEER',\n",
    "       'family_MAGAZINES', 'family_MEATS', 'family_PERSONAL CARE',\n",
    "       'family_PET SUPPLIES', 'family_PLAYERS AND ELECTRONICS',\n",
    "       'family_POULTRY', 'family_PREPARED FOODS', 'family_PRODUCE',\n",
    "       'family_SCHOOL AND OFFICE SUPPLIES', 'family_SEAFOOD' \n",
    "        ]\n",
    "\n",
    "lin_reg = linear_model.LinearRegression()\n",
    "lin_reg.fit(v_train.loc[:, v_train_cols], v_train.loc[:, ['unit_sales']])\n",
    "\n",
    "\n",
    "print(lin_reg.score(v_test.loc[:,v_train_cols], v_test.loc[:, ['unit_sales']]))\n",
    "no_promo_lin = lin_reg.score(v_test.loc[:,v_train_cols], v_test.loc[:, ['unit_sales']])"
   ]
  },
  {
   "cell_type": "code",
   "execution_count": 23,
   "metadata": {},
   "outputs": [
    {
     "name": "stdout",
     "output_type": "stream",
     "text": [
      "-2.8807606171e+18\n"
     ]
    }
   ],
   "source": [
    "v_train_cols = [\n",
    "        'onpromotion', \n",
    "        'perishable', \n",
    "        'dcoilwtico',\n",
    "       #'transactions',\n",
    "       'family_AUTOMOTIVE', 'family_BABY CARE', 'family_BEAUTY',\n",
    "       'family_BEVERAGES', 'family_BOOKS', 'family_BREAD/BAKERY',\n",
    "       'family_CELEBRATION', 'family_CLEANING', 'family_DAIRY', 'family_DELI',\n",
    "       'family_EGGS', 'family_FROZEN FOODS', 'family_GROCERY I',\n",
    "       'family_GROCERY II', 'family_HARDWARE', 'family_HOME AND KITCHEN I',\n",
    "       'family_HOME AND KITCHEN II', 'family_HOME CARE', 'family_LADIESWEAR',\n",
    "       'family_LAWN AND GARDEN', 'family_LINGERIE', 'family_LIQUOR,WINE,BEER',\n",
    "       'family_MAGAZINES', 'family_MEATS', 'family_PERSONAL CARE',\n",
    "       'family_PET SUPPLIES', 'family_PLAYERS AND ELECTRONICS',\n",
    "       'family_POULTRY', 'family_PREPARED FOODS', 'family_PRODUCE',\n",
    "       'family_SCHOOL AND OFFICE SUPPLIES', 'family_SEAFOOD' \n",
    "        ]\n",
    "\n",
    "lin_reg = linear_model.LinearRegression()\n",
    "lin_reg.fit(v_train.loc[:, v_train_cols], v_train.loc[:, ['unit_sales']])\n",
    "\n",
    "\n",
    "print(lin_reg.score(v_test.loc[:,v_train_cols], v_test.loc[:, ['unit_sales']]))\n",
    "no_trans_lin = lin_reg.score(v_test.loc[:,v_train_cols], v_test.loc[:, ['unit_sales']])"
   ]
  },
  {
   "cell_type": "code",
   "execution_count": 24,
   "metadata": {},
   "outputs": [
    {
     "data": {
      "text/plain": [
       "<matplotlib.axes._subplots.AxesSubplot at 0x108ee3470>"
      ]
     },
     "execution_count": 24,
     "metadata": {},
     "output_type": "execute_result"
    },
    {
     "data": {
      "image/png": "[encoded data removed]",
      "text/plain": [
       "<matplotlib.figure.Figure at 0x108096f98>"
      ]
     },
     "metadata": {},
     "output_type": "display_data"
    }
   ],
   "source": [
    "sns.barplot(['family+all', 'fam - oil', 'fam - perish', 'fam - promo', 'fam-transactions'], \n",
    "            [fam_all_lin, no_oil_lin, no_perish_lin, no_promo_lin, no_trans_lin])"
   ]
  },
  {
   "cell_type": "code",
   "execution_count": 25,
   "metadata": {},
   "outputs": [
    {
     "name": "stdout",
     "output_type": "stream",
     "text": [
      "0.0930337438807\n"
     ]
    }
   ],
   "source": [
    "v_train_cols = [\n",
    "        'onpromotion', \n",
    "       'transactions',\n",
    "       'family_AUTOMOTIVE', 'family_BABY CARE', 'family_BEAUTY',\n",
    "       'family_BEVERAGES', 'family_BOOKS', 'family_BREAD/BAKERY',\n",
    "       'family_CELEBRATION', 'family_CLEANING', 'family_DAIRY', 'family_DELI',\n",
    "       'family_EGGS', 'family_FROZEN FOODS', 'family_GROCERY I',\n",
    "       'family_GROCERY II', 'family_HARDWARE', 'family_HOME AND KITCHEN I',\n",
    "       'family_HOME AND KITCHEN II', 'family_HOME CARE', 'family_LADIESWEAR',\n",
    "       'family_LAWN AND GARDEN', 'family_LINGERIE', 'family_LIQUOR,WINE,BEER',\n",
    "       'family_MAGAZINES', 'family_MEATS', 'family_PERSONAL CARE',\n",
    "       'family_PET SUPPLIES', 'family_PLAYERS AND ELECTRONICS',\n",
    "       'family_POULTRY', 'family_PREPARED FOODS', 'family_PRODUCE',\n",
    "       'family_SCHOOL AND OFFICE SUPPLIES', 'family_SEAFOOD' \n",
    "        ]\n",
    "\n",
    "lin_reg = linear_model.LinearRegression()\n",
    "lin_reg.fit(v_train.loc[:, v_train_cols], v_train.loc[:, ['unit_sales']])\n",
    "\n",
    "\n",
    "print(lin_reg.score(v_test.loc[:,v_train_cols], v_test.loc[:, ['unit_sales']]))\n",
    "promo_trans_fam_lin = lin_reg.score(v_test.loc[:,v_train_cols], v_test.loc[:, ['unit_sales']])"
   ]
  },
  {
   "cell_type": "code",
   "execution_count": 26,
   "metadata": {},
   "outputs": [
    {
     "data": {
      "text/html": [
       "<div>\n",
       "<style scoped>\n",
       "    .dataframe tbody tr th:only-of-type {\n",
       "        vertical-align: middle;\n",
       "    }\n",
       "\n",
       "    .dataframe tbody tr th {\n",
       "        vertical-align: top;\n",
       "    }\n",
       "\n",
       "    .dataframe thead th {\n",
       "        text-align: right;\n",
       "    }\n",
       "</style>\n",
       "<table border=\"1\" class=\"dataframe\">\n",
       "  <thead>\n",
       "    <tr style=\"text-align: right;\">\n",
       "      <th></th>\n",
       "      <th>id</th>\n",
       "      <th>date</th>\n",
       "      <th>store_nbr</th>\n",
       "      <th>item_nbr</th>\n",
       "      <th>onpromotion</th>\n",
       "    </tr>\n",
       "  </thead>\n",
       "  <tbody>\n",
       "    <tr>\n",
       "      <th>0</th>\n",
       "      <td>125497040</td>\n",
       "      <td>2017-08-16</td>\n",
       "      <td>1</td>\n",
       "      <td>96995</td>\n",
       "      <td>False</td>\n",
       "    </tr>\n",
       "    <tr>\n",
       "      <th>1</th>\n",
       "      <td>125497041</td>\n",
       "      <td>2017-08-16</td>\n",
       "      <td>1</td>\n",
       "      <td>99197</td>\n",
       "      <td>False</td>\n",
       "    </tr>\n",
       "    <tr>\n",
       "      <th>2</th>\n",
       "      <td>125497042</td>\n",
       "      <td>2017-08-16</td>\n",
       "      <td>1</td>\n",
       "      <td>103501</td>\n",
       "      <td>False</td>\n",
       "    </tr>\n",
       "    <tr>\n",
       "      <th>3</th>\n",
       "      <td>125497043</td>\n",
       "      <td>2017-08-16</td>\n",
       "      <td>1</td>\n",
       "      <td>103520</td>\n",
       "      <td>False</td>\n",
       "    </tr>\n",
       "    <tr>\n",
       "      <th>4</th>\n",
       "      <td>125497044</td>\n",
       "      <td>2017-08-16</td>\n",
       "      <td>1</td>\n",
       "      <td>103665</td>\n",
       "      <td>False</td>\n",
       "    </tr>\n",
       "  </tbody>\n",
       "</table>\n",
       "</div>"
      ],
      "text/plain": [
       "          id        date  store_nbr  item_nbr  onpromotion\n",
       "0  125497040  2017-08-16          1     96995        False\n",
       "1  125497041  2017-08-16          1     99197        False\n",
       "2  125497042  2017-08-16          1    103501        False\n",
       "3  125497043  2017-08-16          1    103520        False\n",
       "4  125497044  2017-08-16          1    103665        False"
      ]
     },
     "execution_count": 26,
     "metadata": {},
     "output_type": "execute_result"
    }
   ],
   "source": [
    "test = dd.read_csv('../data/raw/test.csv')\n",
    "test.head()"
   ]
  },
  {
   "cell_type": "code",
   "execution_count": 27,
   "metadata": {},
   "outputs": [],
   "source": [
    "items = dd.read_csv('../data/raw/' + 'items.csv')\n",
    "stores = dd.read_csv('../data/raw/' + 'stores.csv')\n",
    "transactions = dd.read_csv('../data/raw/' + 'transactions.csv')"
   ]
  },
  {
   "cell_type": "code",
   "execution_count": 28,
   "metadata": {},
   "outputs": [
    {
     "name": "stdout",
     "output_type": "stream",
     "text": [
      "          id        date  store_nbr  item_nbr  onpromotion     family  class  \\\n",
      "0  125497040  2017-08-16          1     96995        False  GROCERY I   1093   \n",
      "1  125500941  2017-08-16          2     96995        False  GROCERY I   1093   \n",
      "2  125504842  2017-08-16          3     96995        False  GROCERY I   1093   \n",
      "3  125508743  2017-08-16          4     96995        False  GROCERY I   1093   \n",
      "4  125512644  2017-08-16          5     96995        False  GROCERY I   1093   \n",
      "\n",
      "   perishable  \n",
      "0           0  \n",
      "1           0  \n",
      "2           0  \n",
      "3           0  \n",
      "4           0  \n",
      "          id  store_nbr  onpromotion     family\n",
      "0  125497040          1        False  GROCERY I\n",
      "1  125500941          2        False  GROCERY I\n",
      "2  125504842          3        False  GROCERY I\n",
      "3  125508743          4        False  GROCERY I\n",
      "4  125512644          5        False  GROCERY I\n"
     ]
    }
   ],
   "source": [
    "test = test.merge(items)\n",
    "print(test.head())\n",
    "test = test.drop(['date','item_nbr', 'class', 'perishable'], axis = 1).compute()\n",
    "print(test.head())"
   ]
  },
  {
   "cell_type": "code",
   "execution_count": 29,
   "metadata": {},
   "outputs": [
    {
     "data": {
      "text/plain": [
       "dask.dataframe.core.DataFrame"
      ]
     },
     "execution_count": 29,
     "metadata": {},
     "output_type": "execute_result"
    }
   ],
   "source": [
    "type(test)\n",
    "test = dd.from_pandas(test, npartitions=10)\n",
    "type(test)"
   ]
  },
  {
   "cell_type": "code",
   "execution_count": 30,
   "metadata": {},
   "outputs": [
    {
     "name": "stdout",
     "output_type": "stream",
     "text": [
      "          id  store_nbr  onpromotion     family   city      state type  \\\n",
      "0  125497040          1        False  GROCERY I  Quito  Pichincha    D   \n",
      "1  127394773          1        False      DAIRY  Quito  Pichincha    D   \n",
      "2  125707694          1        False  GROCERY I  Quito  Pichincha    D   \n",
      "3  127605427          1        False      DAIRY  Quito  Pichincha    D   \n",
      "4  125918348          1        False  GROCERY I  Quito  Pichincha    D   \n",
      "\n",
      "   cluster  \n",
      "0       13  \n",
      "1       13  \n",
      "2       13  \n",
      "3       13  \n",
      "4       13  \n",
      "<class 'dask.dataframe.core.DataFrame'>\n"
     ]
    }
   ],
   "source": [
    "test = test.merge(stores)\n",
    "print(test.head())\n",
    "print(type(test))"
   ]
  },
  {
   "cell_type": "code",
   "execution_count": 31,
   "metadata": {},
   "outputs": [
    {
     "data": {
      "text/plain": [
       "pandas.core.frame.DataFrame"
      ]
     },
     "execution_count": 31,
     "metadata": {},
     "output_type": "execute_result"
    }
   ],
   "source": [
    "test = test.drop(['city','state', 'type','cluster'], axis =1).compute()\n",
    "type(test)"
   ]
  },
  {
   "cell_type": "code",
   "execution_count": 32,
   "metadata": {},
   "outputs": [
    {
     "data": {
      "text/plain": [
       "dask.dataframe.core.DataFrame"
      ]
     },
     "execution_count": 32,
     "metadata": {},
     "output_type": "execute_result"
    }
   ],
   "source": [
    "test = dd.from_pandas(test, npartitions=10)\n",
    "type(test)"
   ]
  },
  {
   "cell_type": "code",
   "execution_count": 33,
   "metadata": {},
   "outputs": [
    {
     "name": "stdout",
     "output_type": "stream",
     "text": [
      "          id  store_nbr  onpromotion        family\n",
      "0  125497040          1        False     GROCERY I\n",
      "0  128198774         45        False     GROCERY I\n",
      "0  128705171         13        False      CLEANING\n",
      "0  127524297         34        False       PRODUCE\n",
      "0  128515546         18        False  PET SUPPLIES\n",
      "<class 'dask.dataframe.core.DataFrame'>\n",
      "3370464\n"
     ]
    }
   ],
   "source": [
    "print(test.head())\n",
    "print(type(test))\n",
    "print(len(test))"
   ]
  },
  {
   "cell_type": "code",
   "execution_count": 34,
   "metadata": {},
   "outputs": [],
   "source": [
    "#test = test.merge(transactions, on = ['date', 'store_nbr'])\n",
    "#print(test.head())\n",
    "#print(type(test))"
   ]
  },
  {
   "cell_type": "code",
   "execution_count": 35,
   "metadata": {},
   "outputs": [
    {
     "data": {
      "text/html": [
       "<div>\n",
       "<style scoped>\n",
       "    .dataframe tbody tr th:only-of-type {\n",
       "        vertical-align: middle;\n",
       "    }\n",
       "\n",
       "    .dataframe tbody tr th {\n",
       "        vertical-align: top;\n",
       "    }\n",
       "\n",
       "    .dataframe thead th {\n",
       "        text-align: right;\n",
       "    }\n",
       "</style>\n",
       "<table border=\"1\" class=\"dataframe\">\n",
       "  <thead>\n",
       "    <tr style=\"text-align: right;\">\n",
       "      <th></th>\n",
       "      <th>date</th>\n",
       "      <th>store_nbr</th>\n",
       "      <th>transactions</th>\n",
       "    </tr>\n",
       "  </thead>\n",
       "  <tbody>\n",
       "    <tr>\n",
       "      <th>0</th>\n",
       "      <td>2013-01-01</td>\n",
       "      <td>25</td>\n",
       "      <td>770</td>\n",
       "    </tr>\n",
       "    <tr>\n",
       "      <th>1</th>\n",
       "      <td>2013-01-02</td>\n",
       "      <td>1</td>\n",
       "      <td>2111</td>\n",
       "    </tr>\n",
       "    <tr>\n",
       "      <th>2</th>\n",
       "      <td>2013-01-02</td>\n",
       "      <td>2</td>\n",
       "      <td>2358</td>\n",
       "    </tr>\n",
       "    <tr>\n",
       "      <th>3</th>\n",
       "      <td>2013-01-02</td>\n",
       "      <td>3</td>\n",
       "      <td>3487</td>\n",
       "    </tr>\n",
       "    <tr>\n",
       "      <th>4</th>\n",
       "      <td>2013-01-02</td>\n",
       "      <td>4</td>\n",
       "      <td>1922</td>\n",
       "    </tr>\n",
       "  </tbody>\n",
       "</table>\n",
       "</div>"
      ],
      "text/plain": [
       "         date  store_nbr  transactions\n",
       "0  2013-01-01         25           770\n",
       "1  2013-01-02          1          2111\n",
       "2  2013-01-02          2          2358\n",
       "3  2013-01-02          3          3487\n",
       "4  2013-01-02          4          1922"
      ]
     },
     "execution_count": 35,
     "metadata": {},
     "output_type": "execute_result"
    }
   ],
   "source": [
    "transactions.head()"
   ]
  },
  {
   "cell_type": "code",
   "execution_count": 36,
   "metadata": {},
   "outputs": [
    {
     "data": {
      "text/html": [
       "<div>\n",
       "<style scoped>\n",
       "    .dataframe tbody tr th:only-of-type {\n",
       "        vertical-align: middle;\n",
       "    }\n",
       "\n",
       "    .dataframe tbody tr th {\n",
       "        vertical-align: top;\n",
       "    }\n",
       "\n",
       "    .dataframe thead th {\n",
       "        text-align: right;\n",
       "    }\n",
       "</style>\n",
       "<table border=\"1\" class=\"dataframe\">\n",
       "  <thead>\n",
       "    <tr style=\"text-align: right;\">\n",
       "      <th></th>\n",
       "      <th>transactions</th>\n",
       "      <th>store_nbr</th>\n",
       "    </tr>\n",
       "    <tr>\n",
       "      <th>store_nbr</th>\n",
       "      <th></th>\n",
       "      <th></th>\n",
       "    </tr>\n",
       "  </thead>\n",
       "  <tbody>\n",
       "    <tr>\n",
       "      <th>1</th>\n",
       "      <td>1523.844272</td>\n",
       "      <td>1</td>\n",
       "    </tr>\n",
       "    <tr>\n",
       "      <th>2</th>\n",
       "      <td>1920.036374</td>\n",
       "      <td>2</td>\n",
       "    </tr>\n",
       "    <tr>\n",
       "      <th>3</th>\n",
       "      <td>3201.879475</td>\n",
       "      <td>3</td>\n",
       "    </tr>\n",
       "    <tr>\n",
       "      <th>4</th>\n",
       "      <td>1502.987470</td>\n",
       "      <td>4</td>\n",
       "    </tr>\n",
       "    <tr>\n",
       "      <th>5</th>\n",
       "      <td>1400.045915</td>\n",
       "      <td>5</td>\n",
       "    </tr>\n",
       "  </tbody>\n",
       "</table>\n",
       "</div>"
      ],
      "text/plain": [
       "           transactions  store_nbr\n",
       "store_nbr                         \n",
       "1           1523.844272          1\n",
       "2           1920.036374          2\n",
       "3           3201.879475          3\n",
       "4           1502.987470          4\n",
       "5           1400.045915          5"
      ]
     },
     "execution_count": 36,
     "metadata": {},
     "output_type": "execute_result"
    }
   ],
   "source": [
    "#oh hmm, we can't use transactions because it's the wrong dates!\n",
    "#get the average number of transactions for each store number and assign transactions to test\n",
    "#data based on store number?\n",
    "new_trans_pd = transactions.groupby('store_nbr')['transactions'].mean().compute().to_frame()\n",
    "new_trans_pd['store_nbr'] = new_trans_pd.index\n",
    "new_trans_pd.head()"
   ]
  },
  {
   "cell_type": "code",
   "execution_count": 37,
   "metadata": {},
   "outputs": [],
   "source": [
    "new_trans = dd.from_pandas(new_trans_pd, npartitions=10)"
   ]
  },
  {
   "cell_type": "code",
   "execution_count": 38,
   "metadata": {},
   "outputs": [
    {
     "data": {
      "text/html": [
       "<div>\n",
       "<style scoped>\n",
       "    .dataframe tbody tr th:only-of-type {\n",
       "        vertical-align: middle;\n",
       "    }\n",
       "\n",
       "    .dataframe tbody tr th {\n",
       "        vertical-align: top;\n",
       "    }\n",
       "\n",
       "    .dataframe thead th {\n",
       "        text-align: right;\n",
       "    }\n",
       "</style>\n",
       "<table border=\"1\" class=\"dataframe\">\n",
       "  <thead>\n",
       "    <tr style=\"text-align: right;\">\n",
       "      <th></th>\n",
       "      <th>transactions</th>\n",
       "      <th>store_nbr</th>\n",
       "    </tr>\n",
       "    <tr>\n",
       "      <th>store_nbr</th>\n",
       "      <th></th>\n",
       "      <th></th>\n",
       "    </tr>\n",
       "  </thead>\n",
       "  <tbody>\n",
       "    <tr>\n",
       "      <th>1</th>\n",
       "      <td>1523.844272</td>\n",
       "      <td>1</td>\n",
       "    </tr>\n",
       "    <tr>\n",
       "      <th>2</th>\n",
       "      <td>1920.036374</td>\n",
       "      <td>2</td>\n",
       "    </tr>\n",
       "    <tr>\n",
       "      <th>3</th>\n",
       "      <td>3201.879475</td>\n",
       "      <td>3</td>\n",
       "    </tr>\n",
       "    <tr>\n",
       "      <th>4</th>\n",
       "      <td>1502.987470</td>\n",
       "      <td>4</td>\n",
       "    </tr>\n",
       "    <tr>\n",
       "      <th>5</th>\n",
       "      <td>1400.045915</td>\n",
       "      <td>5</td>\n",
       "    </tr>\n",
       "  </tbody>\n",
       "</table>\n",
       "</div>"
      ],
      "text/plain": [
       "           transactions  store_nbr\n",
       "store_nbr                         \n",
       "1           1523.844272          1\n",
       "2           1920.036374          2\n",
       "3           3201.879475          3\n",
       "4           1502.987470          4\n",
       "5           1400.045915          5"
      ]
     },
     "execution_count": 38,
     "metadata": {},
     "output_type": "execute_result"
    }
   ],
   "source": [
    "new_trans.head()"
   ]
  },
  {
   "cell_type": "code",
   "execution_count": 39,
   "metadata": {},
   "outputs": [
    {
     "name": "stdout",
     "output_type": "stream",
     "text": [
      "          id  store_nbr  onpromotion     family  transactions\n",
      "0  125497040          1        False  GROCERY I   1523.844272\n",
      "1  127394773          1        False      DAIRY   1523.844272\n",
      "2  125707694          1        False  GROCERY I   1523.844272\n",
      "3  127605427          1        False      DAIRY   1523.844272\n",
      "4  125918348          1        False  GROCERY I   1523.844272\n",
      "<class 'dask.dataframe.core.DataFrame'>\n"
     ]
    }
   ],
   "source": [
    "test = test.merge(new_trans)\n",
    "print(test.head())\n",
    "print(type(test))"
   ]
  },
  {
   "cell_type": "code",
   "execution_count": 40,
   "metadata": {},
   "outputs": [],
   "source": [
    "test = test.compute()"
   ]
  },
  {
   "cell_type": "code",
   "execution_count": 41,
   "metadata": {},
   "outputs": [
    {
     "name": "stdout",
     "output_type": "stream",
     "text": [
      "(3370464, 5)\n",
      "3370464\n",
      "3370464\n",
      "(3370464, 5)\n",
      "3370464\n",
      "3370464\n"
     ]
    }
   ],
   "source": [
    "print(test.shape)\n",
    "print(len(test.id))\n",
    "print(len(test.id.unique()))\n",
    "test = test.drop_duplicates()\n",
    "print(test.shape)\n",
    "print(len(test.id))\n",
    "print(len(test.id.unique()))"
   ]
  },
  {
   "cell_type": "code",
   "execution_count": 76,
   "metadata": {},
   "outputs": [],
   "source": [
    "test2 = pd.concat([test, pd.get_dummies(test['family'], prefix = 'family')], axis = 1)"
   ]
  },
  {
   "cell_type": "code",
   "execution_count": 77,
   "metadata": {},
   "outputs": [
    {
     "name": "stdout",
     "output_type": "stream",
     "text": [
      "(3370464, 38)\n",
      "3370464\n",
      "3370464\n"
     ]
    }
   ],
   "source": [
    "print(test2.shape)\n",
    "print(len(test2.id))\n",
    "print(len(test2.id.unique()))"
   ]
  },
  {
   "cell_type": "code",
   "execution_count": 78,
   "metadata": {},
   "outputs": [
    {
     "data": {
      "text/html": [
       "<div>\n",
       "<style scoped>\n",
       "    .dataframe tbody tr th:only-of-type {\n",
       "        vertical-align: middle;\n",
       "    }\n",
       "\n",
       "    .dataframe tbody tr th {\n",
       "        vertical-align: top;\n",
       "    }\n",
       "\n",
       "    .dataframe thead th {\n",
       "        text-align: right;\n",
       "    }\n",
       "</style>\n",
       "<table border=\"1\" class=\"dataframe\">\n",
       "  <thead>\n",
       "    <tr style=\"text-align: right;\">\n",
       "      <th></th>\n",
       "      <th>id</th>\n",
       "      <th>store_nbr</th>\n",
       "      <th>onpromotion</th>\n",
       "      <th>family</th>\n",
       "      <th>transactions</th>\n",
       "      <th>family_AUTOMOTIVE</th>\n",
       "      <th>family_BABY CARE</th>\n",
       "      <th>family_BEAUTY</th>\n",
       "      <th>family_BEVERAGES</th>\n",
       "      <th>family_BOOKS</th>\n",
       "      <th>...</th>\n",
       "      <th>family_MAGAZINES</th>\n",
       "      <th>family_MEATS</th>\n",
       "      <th>family_PERSONAL CARE</th>\n",
       "      <th>family_PET SUPPLIES</th>\n",
       "      <th>family_PLAYERS AND ELECTRONICS</th>\n",
       "      <th>family_POULTRY</th>\n",
       "      <th>family_PREPARED FOODS</th>\n",
       "      <th>family_PRODUCE</th>\n",
       "      <th>family_SCHOOL AND OFFICE SUPPLIES</th>\n",
       "      <th>family_SEAFOOD</th>\n",
       "    </tr>\n",
       "  </thead>\n",
       "  <tbody>\n",
       "    <tr>\n",
       "      <th>0</th>\n",
       "      <td>126419211</td>\n",
       "      <td>21</td>\n",
       "      <td>True</td>\n",
       "      <td>BREAD/BAKERY</td>\n",
       "      <td>1126.859626</td>\n",
       "      <td>0</td>\n",
       "      <td>0</td>\n",
       "      <td>0</td>\n",
       "      <td>0</td>\n",
       "      <td>0</td>\n",
       "      <td>...</td>\n",
       "      <td>0</td>\n",
       "      <td>0</td>\n",
       "      <td>0</td>\n",
       "      <td>0</td>\n",
       "      <td>0</td>\n",
       "      <td>0</td>\n",
       "      <td>0</td>\n",
       "      <td>0</td>\n",
       "      <td>0</td>\n",
       "      <td>0</td>\n",
       "    </tr>\n",
       "    <tr>\n",
       "      <th>1</th>\n",
       "      <td>127895683</td>\n",
       "      <td>21</td>\n",
       "      <td>False</td>\n",
       "      <td>GROCERY I</td>\n",
       "      <td>1126.859626</td>\n",
       "      <td>0</td>\n",
       "      <td>0</td>\n",
       "      <td>0</td>\n",
       "      <td>0</td>\n",
       "      <td>0</td>\n",
       "      <td>...</td>\n",
       "      <td>0</td>\n",
       "      <td>0</td>\n",
       "      <td>0</td>\n",
       "      <td>0</td>\n",
       "      <td>0</td>\n",
       "      <td>0</td>\n",
       "      <td>0</td>\n",
       "      <td>0</td>\n",
       "      <td>0</td>\n",
       "      <td>0</td>\n",
       "    </tr>\n",
       "    <tr>\n",
       "      <th>2</th>\n",
       "      <td>126629865</td>\n",
       "      <td>21</td>\n",
       "      <td>False</td>\n",
       "      <td>BREAD/BAKERY</td>\n",
       "      <td>1126.859626</td>\n",
       "      <td>0</td>\n",
       "      <td>0</td>\n",
       "      <td>0</td>\n",
       "      <td>0</td>\n",
       "      <td>0</td>\n",
       "      <td>...</td>\n",
       "      <td>0</td>\n",
       "      <td>0</td>\n",
       "      <td>0</td>\n",
       "      <td>0</td>\n",
       "      <td>0</td>\n",
       "      <td>0</td>\n",
       "      <td>0</td>\n",
       "      <td>0</td>\n",
       "      <td>0</td>\n",
       "      <td>0</td>\n",
       "    </tr>\n",
       "    <tr>\n",
       "      <th>3</th>\n",
       "      <td>128106337</td>\n",
       "      <td>21</td>\n",
       "      <td>False</td>\n",
       "      <td>GROCERY I</td>\n",
       "      <td>1126.859626</td>\n",
       "      <td>0</td>\n",
       "      <td>0</td>\n",
       "      <td>0</td>\n",
       "      <td>0</td>\n",
       "      <td>0</td>\n",
       "      <td>...</td>\n",
       "      <td>0</td>\n",
       "      <td>0</td>\n",
       "      <td>0</td>\n",
       "      <td>0</td>\n",
       "      <td>0</td>\n",
       "      <td>0</td>\n",
       "      <td>0</td>\n",
       "      <td>0</td>\n",
       "      <td>0</td>\n",
       "      <td>0</td>\n",
       "    </tr>\n",
       "    <tr>\n",
       "      <th>4</th>\n",
       "      <td>126840519</td>\n",
       "      <td>21</td>\n",
       "      <td>False</td>\n",
       "      <td>BREAD/BAKERY</td>\n",
       "      <td>1126.859626</td>\n",
       "      <td>0</td>\n",
       "      <td>0</td>\n",
       "      <td>0</td>\n",
       "      <td>0</td>\n",
       "      <td>0</td>\n",
       "      <td>...</td>\n",
       "      <td>0</td>\n",
       "      <td>0</td>\n",
       "      <td>0</td>\n",
       "      <td>0</td>\n",
       "      <td>0</td>\n",
       "      <td>0</td>\n",
       "      <td>0</td>\n",
       "      <td>0</td>\n",
       "      <td>0</td>\n",
       "      <td>0</td>\n",
       "    </tr>\n",
       "    <tr>\n",
       "      <th>5</th>\n",
       "      <td>128316991</td>\n",
       "      <td>21</td>\n",
       "      <td>False</td>\n",
       "      <td>GROCERY I</td>\n",
       "      <td>1126.859626</td>\n",
       "      <td>0</td>\n",
       "      <td>0</td>\n",
       "      <td>0</td>\n",
       "      <td>0</td>\n",
       "      <td>0</td>\n",
       "      <td>...</td>\n",
       "      <td>0</td>\n",
       "      <td>0</td>\n",
       "      <td>0</td>\n",
       "      <td>0</td>\n",
       "      <td>0</td>\n",
       "      <td>0</td>\n",
       "      <td>0</td>\n",
       "      <td>0</td>\n",
       "      <td>0</td>\n",
       "      <td>0</td>\n",
       "    </tr>\n",
       "    <tr>\n",
       "      <th>6</th>\n",
       "      <td>127051173</td>\n",
       "      <td>21</td>\n",
       "      <td>False</td>\n",
       "      <td>BREAD/BAKERY</td>\n",
       "      <td>1126.859626</td>\n",
       "      <td>0</td>\n",
       "      <td>0</td>\n",
       "      <td>0</td>\n",
       "      <td>0</td>\n",
       "      <td>0</td>\n",
       "      <td>...</td>\n",
       "      <td>0</td>\n",
       "      <td>0</td>\n",
       "      <td>0</td>\n",
       "      <td>0</td>\n",
       "      <td>0</td>\n",
       "      <td>0</td>\n",
       "      <td>0</td>\n",
       "      <td>0</td>\n",
       "      <td>0</td>\n",
       "      <td>0</td>\n",
       "    </tr>\n",
       "    <tr>\n",
       "      <th>7</th>\n",
       "      <td>128527645</td>\n",
       "      <td>21</td>\n",
       "      <td>False</td>\n",
       "      <td>GROCERY I</td>\n",
       "      <td>1126.859626</td>\n",
       "      <td>0</td>\n",
       "      <td>0</td>\n",
       "      <td>0</td>\n",
       "      <td>0</td>\n",
       "      <td>0</td>\n",
       "      <td>...</td>\n",
       "      <td>0</td>\n",
       "      <td>0</td>\n",
       "      <td>0</td>\n",
       "      <td>0</td>\n",
       "      <td>0</td>\n",
       "      <td>0</td>\n",
       "      <td>0</td>\n",
       "      <td>0</td>\n",
       "      <td>0</td>\n",
       "      <td>0</td>\n",
       "    </tr>\n",
       "    <tr>\n",
       "      <th>8</th>\n",
       "      <td>128738299</td>\n",
       "      <td>21</td>\n",
       "      <td>False</td>\n",
       "      <td>GROCERY I</td>\n",
       "      <td>1126.859626</td>\n",
       "      <td>0</td>\n",
       "      <td>0</td>\n",
       "      <td>0</td>\n",
       "      <td>0</td>\n",
       "      <td>0</td>\n",
       "      <td>...</td>\n",
       "      <td>0</td>\n",
       "      <td>0</td>\n",
       "      <td>0</td>\n",
       "      <td>0</td>\n",
       "      <td>0</td>\n",
       "      <td>0</td>\n",
       "      <td>0</td>\n",
       "      <td>0</td>\n",
       "      <td>0</td>\n",
       "      <td>0</td>\n",
       "    </tr>\n",
       "    <tr>\n",
       "      <th>9</th>\n",
       "      <td>125576596</td>\n",
       "      <td>21</td>\n",
       "      <td>False</td>\n",
       "      <td>DAIRY</td>\n",
       "      <td>1126.859626</td>\n",
       "      <td>0</td>\n",
       "      <td>0</td>\n",
       "      <td>0</td>\n",
       "      <td>0</td>\n",
       "      <td>0</td>\n",
       "      <td>...</td>\n",
       "      <td>0</td>\n",
       "      <td>0</td>\n",
       "      <td>0</td>\n",
       "      <td>0</td>\n",
       "      <td>0</td>\n",
       "      <td>0</td>\n",
       "      <td>0</td>\n",
       "      <td>0</td>\n",
       "      <td>0</td>\n",
       "      <td>0</td>\n",
       "    </tr>\n",
       "    <tr>\n",
       "      <th>10</th>\n",
       "      <td>127263722</td>\n",
       "      <td>21</td>\n",
       "      <td>False</td>\n",
       "      <td>GROCERY I</td>\n",
       "      <td>1126.859626</td>\n",
       "      <td>0</td>\n",
       "      <td>0</td>\n",
       "      <td>0</td>\n",
       "      <td>0</td>\n",
       "      <td>0</td>\n",
       "      <td>...</td>\n",
       "      <td>0</td>\n",
       "      <td>0</td>\n",
       "      <td>0</td>\n",
       "      <td>0</td>\n",
       "      <td>0</td>\n",
       "      <td>0</td>\n",
       "      <td>0</td>\n",
       "      <td>0</td>\n",
       "      <td>0</td>\n",
       "      <td>0</td>\n",
       "    </tr>\n",
       "  </tbody>\n",
       "</table>\n",
       "<p>11 rows × 38 columns</p>\n",
       "</div>"
      ],
      "text/plain": [
       "           id  store_nbr  onpromotion        family  transactions  \\\n",
       "0   126419211         21         True  BREAD/BAKERY   1126.859626   \n",
       "1   127895683         21        False     GROCERY I   1126.859626   \n",
       "2   126629865         21        False  BREAD/BAKERY   1126.859626   \n",
       "3   128106337         21        False     GROCERY I   1126.859626   \n",
       "4   126840519         21        False  BREAD/BAKERY   1126.859626   \n",
       "5   128316991         21        False     GROCERY I   1126.859626   \n",
       "6   127051173         21        False  BREAD/BAKERY   1126.859626   \n",
       "7   128527645         21        False     GROCERY I   1126.859626   \n",
       "8   128738299         21        False     GROCERY I   1126.859626   \n",
       "9   125576596         21        False         DAIRY   1126.859626   \n",
       "10  127263722         21        False     GROCERY I   1126.859626   \n",
       "\n",
       "    family_AUTOMOTIVE  family_BABY CARE  family_BEAUTY  family_BEVERAGES  \\\n",
       "0                   0                 0              0                 0   \n",
       "1                   0                 0              0                 0   \n",
       "2                   0                 0              0                 0   \n",
       "3                   0                 0              0                 0   \n",
       "4                   0                 0              0                 0   \n",
       "5                   0                 0              0                 0   \n",
       "6                   0                 0              0                 0   \n",
       "7                   0                 0              0                 0   \n",
       "8                   0                 0              0                 0   \n",
       "9                   0                 0              0                 0   \n",
       "10                  0                 0              0                 0   \n",
       "\n",
       "    family_BOOKS       ...        family_MAGAZINES  family_MEATS  \\\n",
       "0              0       ...                       0             0   \n",
       "1              0       ...                       0             0   \n",
       "2              0       ...                       0             0   \n",
       "3              0       ...                       0             0   \n",
       "4              0       ...                       0             0   \n",
       "5              0       ...                       0             0   \n",
       "6              0       ...                       0             0   \n",
       "7              0       ...                       0             0   \n",
       "8              0       ...                       0             0   \n",
       "9              0       ...                       0             0   \n",
       "10             0       ...                       0             0   \n",
       "\n",
       "    family_PERSONAL CARE  family_PET SUPPLIES  family_PLAYERS AND ELECTRONICS  \\\n",
       "0                      0                    0                               0   \n",
       "1                      0                    0                               0   \n",
       "2                      0                    0                               0   \n",
       "3                      0                    0                               0   \n",
       "4                      0                    0                               0   \n",
       "5                      0                    0                               0   \n",
       "6                      0                    0                               0   \n",
       "7                      0                    0                               0   \n",
       "8                      0                    0                               0   \n",
       "9                      0                    0                               0   \n",
       "10                     0                    0                               0   \n",
       "\n",
       "    family_POULTRY  family_PREPARED FOODS  family_PRODUCE  \\\n",
       "0                0                      0               0   \n",
       "1                0                      0               0   \n",
       "2                0                      0               0   \n",
       "3                0                      0               0   \n",
       "4                0                      0               0   \n",
       "5                0                      0               0   \n",
       "6                0                      0               0   \n",
       "7                0                      0               0   \n",
       "8                0                      0               0   \n",
       "9                0                      0               0   \n",
       "10               0                      0               0   \n",
       "\n",
       "    family_SCHOOL AND OFFICE SUPPLIES  family_SEAFOOD  \n",
       "0                                   0               0  \n",
       "1                                   0               0  \n",
       "2                                   0               0  \n",
       "3                                   0               0  \n",
       "4                                   0               0  \n",
       "5                                   0               0  \n",
       "6                                   0               0  \n",
       "7                                   0               0  \n",
       "8                                   0               0  \n",
       "9                                   0               0  \n",
       "10                                  0               0  \n",
       "\n",
       "[11 rows x 38 columns]"
      ]
     },
     "execution_count": 78,
     "metadata": {},
     "output_type": "execute_result"
    }
   ],
   "source": [
    "test2.iloc[range(11), :]"
   ]
  },
  {
   "cell_type": "code",
   "execution_count": 64,
   "metadata": {},
   "outputs": [
    {
     "data": {
      "text/plain": [
       "Index(['id', 'date', 'store_nbr', 'onpromotion', 'family', 'transactions',\n",
       "       'family_AUTOMOTIVE', 'family_BABY CARE', 'family_BEAUTY',\n",
       "       'family_BEVERAGES', 'family_BOOKS', 'family_BREAD/BAKERY',\n",
       "       'family_CELEBRATION', 'family_CLEANING', 'family_DAIRY', 'family_DELI',\n",
       "       'family_EGGS', 'family_FROZEN FOODS', 'family_GROCERY I',\n",
       "       'family_GROCERY II', 'family_HARDWARE', 'family_HOME AND KITCHEN I',\n",
       "       'family_HOME AND KITCHEN II', 'family_HOME APPLIANCES',\n",
       "       'family_HOME CARE', 'family_LADIESWEAR', 'family_LAWN AND GARDEN',\n",
       "       'family_LINGERIE', 'family_LIQUOR,WINE,BEER', 'family_MAGAZINES',\n",
       "       'family_MEATS', 'family_PERSONAL CARE', 'family_PET SUPPLIES',\n",
       "       'family_PLAYERS AND ELECTRONICS', 'family_POULTRY',\n",
       "       'family_PREPARED FOODS', 'family_PRODUCE',\n",
       "       'family_SCHOOL AND OFFICE SUPPLIES', 'family_SEAFOOD'],\n",
       "      dtype='object')"
      ]
     },
     "execution_count": 64,
     "metadata": {},
     "output_type": "execute_result"
    }
   ],
   "source": [
    "test.columns"
   ]
  },
  {
   "cell_type": "code",
   "execution_count": 79,
   "metadata": {},
   "outputs": [],
   "source": [
    "out = lin_reg.predict(test2.loc[:, v_train_cols])"
   ]
  },
  {
   "cell_type": "code",
   "execution_count": 80,
   "metadata": {},
   "outputs": [
    {
     "data": {
      "text/plain": [
       "3370464"
      ]
     },
     "execution_count": 80,
     "metadata": {},
     "output_type": "execute_result"
    }
   ],
   "source": [
    "len(out)"
   ]
  },
  {
   "cell_type": "code",
   "execution_count": 67,
   "metadata": {},
   "outputs": [
    {
     "data": {
      "text/plain": [
       "array([[  5.79394531],\n",
       "       [  5.79394531],\n",
       "       [  4.56542969],\n",
       "       [  2.29736328],\n",
       "       [  2.29736328],\n",
       "       [ 15.04101562],\n",
       "       [ 23.12744141],\n",
       "       [  5.79394531],\n",
       "       [  5.79394531],\n",
       "       [  5.79394531]])"
      ]
     },
     "execution_count": 67,
     "metadata": {},
     "output_type": "execute_result"
    }
   ],
   "source": [
    "out[:10]"
   ]
  },
  {
   "cell_type": "code",
   "execution_count": 85,
   "metadata": {},
   "outputs": [],
   "source": [
    "out_pd = pd.DataFrame(out, columns = ['unit_sales'], index = test2.id)"
   ]
  },
  {
   "cell_type": "code",
   "execution_count": 87,
   "metadata": {},
   "outputs": [
    {
     "data": {
      "text/html": [
       "<div>\n",
       "<style scoped>\n",
       "    .dataframe tbody tr th:only-of-type {\n",
       "        vertical-align: middle;\n",
       "    }\n",
       "\n",
       "    .dataframe tbody tr th {\n",
       "        vertical-align: top;\n",
       "    }\n",
       "\n",
       "    .dataframe thead th {\n",
       "        text-align: right;\n",
       "    }\n",
       "</style>\n",
       "<table border=\"1\" class=\"dataframe\">\n",
       "  <thead>\n",
       "    <tr style=\"text-align: right;\">\n",
       "      <th></th>\n",
       "      <th>unit_sales</th>\n",
       "    </tr>\n",
       "    <tr>\n",
       "      <th>id</th>\n",
       "      <th></th>\n",
       "    </tr>\n",
       "  </thead>\n",
       "  <tbody>\n",
       "    <tr>\n",
       "      <th>126419211</th>\n",
       "      <td>10.142678</td>\n",
       "    </tr>\n",
       "    <tr>\n",
       "      <th>127895683</th>\n",
       "      <td>3.922153</td>\n",
       "    </tr>\n",
       "    <tr>\n",
       "      <th>126629865</th>\n",
       "      <td>5.574921</td>\n",
       "    </tr>\n",
       "    <tr>\n",
       "      <th>128106337</th>\n",
       "      <td>3.922153</td>\n",
       "    </tr>\n",
       "    <tr>\n",
       "      <th>126840519</th>\n",
       "      <td>5.574921</td>\n",
       "    </tr>\n",
       "  </tbody>\n",
       "</table>\n",
       "</div>"
      ],
      "text/plain": [
       "           unit_sales\n",
       "id                   \n",
       "126419211   10.142678\n",
       "127895683    3.922153\n",
       "126629865    5.574921\n",
       "128106337    3.922153\n",
       "126840519    5.574921"
      ]
     },
     "execution_count": 87,
     "metadata": {},
     "output_type": "execute_result"
    }
   ],
   "source": [
    "\n",
    "out_pd.head()"
   ]
  },
  {
   "cell_type": "code",
   "execution_count": 88,
   "metadata": {},
   "outputs": [],
   "source": [
    "out_pd.to_csv('../data/first_lin_reg.csv')"
   ]
  }
 ],
 "metadata": {
  "kernelspec": {
   "display_name": "Python 3",
   "language": "python",
   "name": "python3"
  },
  "language_info": {
   "codemirror_mode": {
    "name": "ipython",
    "version": 3
   },
   "file_extension": ".py",
   "mimetype": "text/x-python",
   "name": "python",
   "nbconvert_exporter": "python",
   "pygments_lexer": "ipython3",
   "version": "3.5.4"
  }
 },
 "nbformat": 4,
 "nbformat_minor": 2
}
