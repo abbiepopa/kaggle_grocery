{
 "cells": [
  {
   "cell_type": "code",
   "execution_count": 15,
   "metadata": {},
   "outputs": [
    {
     "name": "stdout",
     "output_type": "stream",
     "text": [
      "Checking whether there is an H2O instance running at http://localhost:54321. connected.\n"
     ]
    },
    {
     "data": {
      "text/html": [
       "<div style=\"overflow:auto\"><table style=\"width:50%\"><tr><td>H2O cluster uptime:</td>\n",
       "<td>10 mins 56 secs</td></tr>\n",
       "<tr><td>H2O cluster version:</td>\n",
       "<td>3.16.0.2</td></tr>\n",
       "<tr><td>H2O cluster version age:</td>\n",
       "<td>1 month and 9 days </td></tr>\n",
       "<tr><td>H2O cluster name:</td>\n",
       "<td>H2O_from_python_abbiepopa_t292e1</td></tr>\n",
       "<tr><td>H2O cluster total nodes:</td>\n",
       "<td>1</td></tr>\n",
       "<tr><td>H2O cluster free memory:</td>\n",
       "<td>6.970 Gb</td></tr>\n",
       "<tr><td>H2O cluster total cores:</td>\n",
       "<td>4</td></tr>\n",
       "<tr><td>H2O cluster allowed cores:</td>\n",
       "<td>4</td></tr>\n",
       "<tr><td>H2O cluster status:</td>\n",
       "<td>locked, healthy</td></tr>\n",
       "<tr><td>H2O connection url:</td>\n",
       "<td>http://localhost:54321</td></tr>\n",
       "<tr><td>H2O connection proxy:</td>\n",
       "<td>None</td></tr>\n",
       "<tr><td>H2O internal security:</td>\n",
       "<td>False</td></tr>\n",
       "<tr><td>H2O API Extensions:</td>\n",
       "<td>XGBoost, Algos, AutoML, Core V3, Core V4</td></tr>\n",
       "<tr><td>Python version:</td>\n",
       "<td>3.5.4 final</td></tr></table></div>"
      ],
      "text/plain": [
       "--------------------------  ----------------------------------------\n",
       "H2O cluster uptime:         10 mins 56 secs\n",
       "H2O cluster version:        3.16.0.2\n",
       "H2O cluster version age:    1 month and 9 days\n",
       "H2O cluster name:           H2O_from_python_abbiepopa_t292e1\n",
       "H2O cluster total nodes:    1\n",
       "H2O cluster free memory:    6.970 Gb\n",
       "H2O cluster total cores:    4\n",
       "H2O cluster allowed cores:  4\n",
       "H2O cluster status:         locked, healthy\n",
       "H2O connection url:         http://localhost:54321\n",
       "H2O connection proxy:\n",
       "H2O internal security:      False\n",
       "H2O API Extensions:         XGBoost, Algos, AutoML, Core V3, Core V4\n",
       "Python version:             3.5.4 final\n",
       "--------------------------  ----------------------------------------"
      ]
     },
     "metadata": {},
     "output_type": "display_data"
    }
   ],
   "source": [
    "import h2o\n",
    "from h2o.estimators.random_forest import H2ORandomForestEstimator\n",
    "%matplotlib inline\n",
    "# Number of threads, nthreads = -1, means use all cores on your machine\n",
    "# max_mem_size is the maximum memory (in GB) to allocate to H2O\n",
    "h2o.init(nthreads = -1, max_mem_size = 8)"
   ]
  },
  {
   "cell_type": "code",
   "execution_count": 2,
   "metadata": {},
   "outputs": [
    {
     "name": "stdout",
     "output_type": "stream",
     "text": [
      "Parse progress: |█████████████████████████████████████████████████████████| 100%\n"
     ]
    }
   ],
   "source": [
    "d = h2o.import_file('../data/2016_subset_all_tables.csv')"
   ]
  },
  {
   "cell_type": "code",
   "execution_count": 3,
   "metadata": {},
   "outputs": [
    {
     "data": {
      "text/plain": [
       "(6937, 16)"
      ]
     },
     "execution_count": 3,
     "metadata": {},
     "output_type": "execute_result"
    }
   ],
   "source": [
    "d.shape"
   ]
  },
  {
   "cell_type": "code",
   "execution_count": 4,
   "metadata": {},
   "outputs": [
    {
     "data": {
      "text/html": [
       "<table>\n",
       "<thead>\n",
       "<tr><th style=\"text-align: right;\">         id</th><th>date               </th><th style=\"text-align: right;\">  store_nbr</th><th style=\"text-align: right;\">        item_nbr</th><th style=\"text-align: right;\">  unit_sales</th><th>onpromotion  </th><th>family       </th><th style=\"text-align: right;\">  class</th><th style=\"text-align: right;\">  perishable</th><th style=\"text-align: right;\">  dcoilwtico</th><th>city  </th><th>state    </th><th>type  </th><th style=\"text-align: right;\">  cluster</th><th style=\"text-align: right;\">  transactions</th><th>holitype  </th></tr>\n",
       "</thead>\n",
       "<tbody>\n",
       "<tr><td style=\"text-align: right;\">7.1279e+07 </td><td>2016-02-22 00:00:00</td><td style=\"text-align: right;\">          6</td><td style=\"text-align: right;\">     1.46403e+06</td><td style=\"text-align: right;\">       3    </td><td>False        </td><td>BEVERAGES    </td><td style=\"text-align: right;\">   1148</td><td style=\"text-align: right;\">           0</td><td style=\"text-align: right;\">       31.37</td><td>Quito </td><td>Pichincha</td><td>D     </td><td style=\"text-align: right;\">       13</td><td style=\"text-align: right;\">          1630</td><td>No_Holiday</td></tr>\n",
       "<tr><td style=\"text-align: right;\">8.2078e+07 </td><td>2016-06-14 00:00:00</td><td style=\"text-align: right;\">          6</td><td style=\"text-align: right;\">     1.9136e+06 </td><td style=\"text-align: right;\">       1    </td><td>False        </td><td>PERSONAL CARE</td><td style=\"text-align: right;\">   4118</td><td style=\"text-align: right;\">           0</td><td style=\"text-align: right;\">       48.49</td><td>Quito </td><td>Pichincha</td><td>D     </td><td style=\"text-align: right;\">       13</td><td style=\"text-align: right;\">          1603</td><td>No_Holiday</td></tr>\n",
       "<tr><td style=\"text-align: right;\">9.28523e+07</td><td>2016-10-04 00:00:00</td><td style=\"text-align: right;\">          6</td><td style=\"text-align: right;\">881701          </td><td style=\"text-align: right;\">       2    </td><td>False        </td><td>GROCERY I    </td><td style=\"text-align: right;\">   1042</td><td style=\"text-align: right;\">           0</td><td style=\"text-align: right;\">       48.67</td><td>Quito </td><td>Pichincha</td><td>D     </td><td style=\"text-align: right;\">       13</td><td style=\"text-align: right;\">          1605</td><td>No_Holiday</td></tr>\n",
       "<tr><td style=\"text-align: right;\">7.27136e+07</td><td>2016-03-08 00:00:00</td><td style=\"text-align: right;\">          6</td><td style=\"text-align: right;\">     1.15095e+06</td><td style=\"text-align: right;\">       2    </td><td>False        </td><td>BEVERAGES    </td><td style=\"text-align: right;\">   1124</td><td style=\"text-align: right;\">           0</td><td style=\"text-align: right;\">       36.67</td><td>Quito </td><td>Pichincha</td><td>D     </td><td style=\"text-align: right;\">       13</td><td style=\"text-align: right;\">          1732</td><td>No_Holiday</td></tr>\n",
       "<tr><td style=\"text-align: right;\">7.27143e+07</td><td>2016-03-08 00:00:00</td><td style=\"text-align: right;\">          6</td><td style=\"text-align: right;\">     1.89896e+06</td><td style=\"text-align: right;\">       5    </td><td>False        </td><td>BEVERAGES    </td><td style=\"text-align: right;\">   1126</td><td style=\"text-align: right;\">           0</td><td style=\"text-align: right;\">       36.67</td><td>Quito </td><td>Pichincha</td><td>D     </td><td style=\"text-align: right;\">       13</td><td style=\"text-align: right;\">          1732</td><td>No_Holiday</td></tr>\n",
       "<tr><td style=\"text-align: right;\">8.50331e+07</td><td>2016-07-15 00:00:00</td><td style=\"text-align: right;\">          6</td><td style=\"text-align: right;\">     1.47191e+06</td><td style=\"text-align: right;\">       4    </td><td>False        </td><td>PET SUPPLIES </td><td style=\"text-align: right;\">   6516</td><td style=\"text-align: right;\">           0</td><td style=\"text-align: right;\">       45.93</td><td>Quito </td><td>Pichincha</td><td>D     </td><td style=\"text-align: right;\">       13</td><td style=\"text-align: right;\">          1785</td><td>No_Holiday</td></tr>\n",
       "<tr><td style=\"text-align: right;\">9.65588e+07</td><td>2016-11-11 00:00:00</td><td style=\"text-align: right;\">          6</td><td style=\"text-align: right;\">841612          </td><td style=\"text-align: right;\">       9    </td><td>False        </td><td>CLEANING     </td><td style=\"text-align: right;\">   3038</td><td style=\"text-align: right;\">           0</td><td style=\"text-align: right;\">       43.39</td><td>Quito </td><td>Pichincha</td><td>D     </td><td style=\"text-align: right;\">       13</td><td style=\"text-align: right;\">          1574</td><td>No_Holiday</td></tr>\n",
       "<tr><td style=\"text-align: right;\">9.64669e+07</td><td>2016-11-10 00:00:00</td><td style=\"text-align: right;\">          6</td><td style=\"text-align: right;\">270522          </td><td style=\"text-align: right;\">       1    </td><td>False        </td><td>AUTOMOTIVE   </td><td style=\"text-align: right;\">   6806</td><td style=\"text-align: right;\">           0</td><td style=\"text-align: right;\">       44.62</td><td>Quito </td><td>Pichincha</td><td>D     </td><td style=\"text-align: right;\">       13</td><td style=\"text-align: right;\">          1497</td><td>No_Holiday</td></tr>\n",
       "<tr><td style=\"text-align: right;\">7.21284e+07</td><td>2016-03-02 00:00:00</td><td style=\"text-align: right;\">          6</td><td style=\"text-align: right;\">     2.0104e+06 </td><td style=\"text-align: right;\">       1    </td><td>False        </td><td>GROCERY I    </td><td style=\"text-align: right;\">   1072</td><td style=\"text-align: right;\">           0</td><td style=\"text-align: right;\">       34.57</td><td>Quito </td><td>Pichincha</td><td>D     </td><td style=\"text-align: right;\">       13</td><td style=\"text-align: right;\">          1817</td><td>No_Holiday</td></tr>\n",
       "<tr><td style=\"text-align: right;\">7.41329e+07</td><td>2016-03-23 00:00:00</td><td style=\"text-align: right;\">          6</td><td style=\"text-align: right;\">     1.95466e+06</td><td style=\"text-align: right;\">      16.636</td><td>True         </td><td>PRODUCE      </td><td style=\"text-align: right;\">   2008</td><td style=\"text-align: right;\">           1</td><td style=\"text-align: right;\">       38.28</td><td>Quito </td><td>Pichincha</td><td>D     </td><td style=\"text-align: right;\">       13</td><td style=\"text-align: right;\">          1850</td><td>No_Holiday</td></tr>\n",
       "</tbody>\n",
       "</table>"
      ]
     },
     "metadata": {},
     "output_type": "display_data"
    },
    {
     "data": {
      "text/plain": []
     },
     "execution_count": 4,
     "metadata": {},
     "output_type": "execute_result"
    }
   ],
   "source": [
    "d.head()"
   ]
  },
  {
   "cell_type": "code",
   "execution_count": 5,
   "metadata": {},
   "outputs": [
    {
     "name": "stdout",
     "output_type": "stream",
     "text": [
      "drf Model Build progress: |███████████████████████████████████████████████| 100%\n"
     ]
    }
   ],
   "source": [
    "#to start, lets go with on_promotion, transactions, and family since those were best last time\n",
    "x = ['onpromotion', 'transactions', 'family']\n",
    "y = 'unit_sales'\n",
    "\n",
    "rf_fit1 = H2ORandomForestEstimator(model_id='rf_fit1', seed=1)\n",
    "rf_fit1.train(x=x, y=y, training_frame = d)"
   ]
  },
  {
   "cell_type": "code",
   "execution_count": 6,
   "metadata": {},
   "outputs": [
    {
     "name": "stdout",
     "output_type": "stream",
     "text": [
      "\n",
      "ModelMetricsRegression: drf\n",
      "** Reported on train data. **\n",
      "\n",
      "MSE: 323.13404382020303\n",
      "RMSE: 17.975929567624675\n",
      "MAE: 6.446356345737289\n",
      "RMSLE: 0.8938706956256336\n",
      "Mean Residual Deviance: 323.13404382020303\n"
     ]
    },
    {
     "data": {
      "text/plain": []
     },
     "execution_count": 6,
     "metadata": {},
     "output_type": "execute_result"
    }
   ],
   "source": [
    "rf_fit1.model_performance()"
   ]
  },
  {
   "cell_type": "code",
   "execution_count": 7,
   "metadata": {},
   "outputs": [],
   "source": [
    "#granted, it's not really taking advantage of the random forest to only feed it three features\n",
    "#but this is kinda a proof of concept!"
   ]
  },
  {
   "cell_type": "code",
   "execution_count": 8,
   "metadata": {},
   "outputs": [
    {
     "name": "stdout",
     "output_type": "stream",
     "text": [
      "Parse progress: |█████████████████████████████████████████████████████████| 100%\n"
     ]
    }
   ],
   "source": [
    "test = h2o.import_file('../data/test_concatted.csv')"
   ]
  },
  {
   "cell_type": "code",
   "execution_count": 9,
   "metadata": {},
   "outputs": [
    {
     "name": "stdout",
     "output_type": "stream",
     "text": [
      "drf prediction progress: |████████████████████████████████████████████████| 100%\n"
     ]
    },
    {
     "name": "stderr",
     "output_type": "stream",
     "text": [
      "/anaconda/lib/python3.5/site-packages/h2o/job.py:69: UserWarning: Test/Validation dataset column 'family' has levels not trained on: [HOME APPLIANCES]\n",
      "  warnings.warn(w)\n"
     ]
    }
   ],
   "source": [
    "pred = rf_fit1.predict(test)"
   ]
  },
  {
   "cell_type": "code",
   "execution_count": 10,
   "metadata": {},
   "outputs": [],
   "source": [
    "out = test[['id']].cbind(pred)"
   ]
  },
  {
   "cell_type": "code",
   "execution_count": 11,
   "metadata": {},
   "outputs": [],
   "source": [
    "out.columns = ['id', 'unit_sales']"
   ]
  },
  {
   "cell_type": "code",
   "execution_count": 12,
   "metadata": {},
   "outputs": [],
   "source": [
    "out_df = out.as_data_frame()"
   ]
  },
  {
   "cell_type": "code",
   "execution_count": 13,
   "metadata": {},
   "outputs": [],
   "source": [
    "out_df.to_csv('../data/3f_rf_pred.csv', index = False)"
   ]
  },
  {
   "cell_type": "code",
   "execution_count": 14,
   "metadata": {},
   "outputs": [
    {
     "data": {
      "text/html": [
       "<table>\n",
       "<thead>\n",
       "<tr><th style=\"text-align: right;\">  C1</th><th style=\"text-align: right;\">         id</th><th style=\"text-align: right;\">  store_nbr</th><th>onpromotion  </th><th>family   </th><th style=\"text-align: right;\">  transactions</th></tr>\n",
       "</thead>\n",
       "<tbody>\n",
       "<tr><td style=\"text-align: right;\">   0</td><td style=\"text-align: right;\">1.25497e+08</td><td style=\"text-align: right;\">          1</td><td>False        </td><td>GROCERY I</td><td style=\"text-align: right;\">       1523.84</td></tr>\n",
       "<tr><td style=\"text-align: right;\">   1</td><td style=\"text-align: right;\">1.27395e+08</td><td style=\"text-align: right;\">          1</td><td>False        </td><td>DAIRY    </td><td style=\"text-align: right;\">       1523.84</td></tr>\n",
       "<tr><td style=\"text-align: right;\">   2</td><td style=\"text-align: right;\">1.25708e+08</td><td style=\"text-align: right;\">          1</td><td>False        </td><td>GROCERY I</td><td style=\"text-align: right;\">       1523.84</td></tr>\n",
       "<tr><td style=\"text-align: right;\">   3</td><td style=\"text-align: right;\">1.27605e+08</td><td style=\"text-align: right;\">          1</td><td>False        </td><td>DAIRY    </td><td style=\"text-align: right;\">       1523.84</td></tr>\n",
       "<tr><td style=\"text-align: right;\">   4</td><td style=\"text-align: right;\">1.25918e+08</td><td style=\"text-align: right;\">          1</td><td>False        </td><td>GROCERY I</td><td style=\"text-align: right;\">       1523.84</td></tr>\n",
       "<tr><td style=\"text-align: right;\">   5</td><td style=\"text-align: right;\">1.27816e+08</td><td style=\"text-align: right;\">          1</td><td>False        </td><td>DAIRY    </td><td style=\"text-align: right;\">       1523.84</td></tr>\n",
       "<tr><td style=\"text-align: right;\">   6</td><td style=\"text-align: right;\">1.26129e+08</td><td style=\"text-align: right;\">          1</td><td>False        </td><td>GROCERY I</td><td style=\"text-align: right;\">       1523.84</td></tr>\n",
       "<tr><td style=\"text-align: right;\">   7</td><td style=\"text-align: right;\">1.28027e+08</td><td style=\"text-align: right;\">          1</td><td>False        </td><td>DAIRY    </td><td style=\"text-align: right;\">       1523.84</td></tr>\n",
       "<tr><td style=\"text-align: right;\">   8</td><td style=\"text-align: right;\">1.2634e+08 </td><td style=\"text-align: right;\">          1</td><td>False        </td><td>GROCERY I</td><td style=\"text-align: right;\">       1523.84</td></tr>\n",
       "<tr><td style=\"text-align: right;\">   9</td><td style=\"text-align: right;\">1.28237e+08</td><td style=\"text-align: right;\">          1</td><td>False        </td><td>DAIRY    </td><td style=\"text-align: right;\">       1523.84</td></tr>\n",
       "</tbody>\n",
       "</table>"
      ]
     },
     "metadata": {},
     "output_type": "display_data"
    },
    {
     "data": {
      "text/plain": []
     },
     "execution_count": 14,
     "metadata": {},
     "output_type": "execute_result"
    }
   ],
   "source": [
    "test.head()"
   ]
  },
  {
   "cell_type": "code",
   "execution_count": 5,
   "metadata": {},
   "outputs": [],
   "source": [
    "# Partition data into 70%, 15%, 15% chunks\n",
    "# Setting a seed will guarantee reproducibility\n",
    "\n",
    "splits = d.split_frame(ratios=[0.7, 0.15], seed=1)  \n",
    "\n",
    "train = splits[0]\n",
    "valid = splits[1]\n",
    "test = splits[2]"
   ]
  },
  {
   "cell_type": "code",
   "execution_count": 9,
   "metadata": {},
   "outputs": [],
   "source": [
    "#random forest with many more features!\n",
    "\n",
    "y = 'unit_sales'\n",
    "x = d.columns\n",
    "x.remove(y)\n",
    "x.remove('date')\n",
    "x.remove('id')"
   ]
  },
  {
   "cell_type": "code",
   "execution_count": 10,
   "metadata": {},
   "outputs": [
    {
     "name": "stdout",
     "output_type": "stream",
     "text": [
      "unit_sales\n",
      "['store_nbr', 'item_nbr', 'onpromotion', 'family', 'class', 'perishable', 'dcoilwtico', 'city', 'state', 'type', 'cluster', 'transactions', 'holitype']\n"
     ]
    }
   ],
   "source": [
    "print(y)\n",
    "print(x)"
   ]
  },
  {
   "cell_type": "code",
   "execution_count": 11,
   "metadata": {},
   "outputs": [
    {
     "name": "stdout",
     "output_type": "stream",
     "text": [
      "drf Model Build progress: |███████████████████████████████████████████████| 100%\n"
     ]
    }
   ],
   "source": [
    "rf_fit2 = H2ORandomForestEstimator(model_id='rf_fit2', seed=1)\n",
    "rf_fit2.train(x=x, y=y, training_frame = train)"
   ]
  },
  {
   "cell_type": "code",
   "execution_count": 12,
   "metadata": {},
   "outputs": [
    {
     "name": "stdout",
     "output_type": "stream",
     "text": [
      "\n",
      "ModelMetricsRegression: drf\n",
      "** Reported on test data. **\n",
      "\n",
      "MSE: 162.09955748874248\n",
      "RMSE: 12.731832448188378\n",
      "MAE: 6.96519715047453\n",
      "RMSLE: 0.9484009594898246\n",
      "Mean Residual Deviance: 162.09955748874248\n"
     ]
    },
    {
     "data": {
      "text/plain": []
     },
     "execution_count": 12,
     "metadata": {},
     "output_type": "execute_result"
    }
   ],
   "source": [
    "rf_fit2.model_performance(test)"
   ]
  },
  {
   "cell_type": "code",
   "execution_count": 13,
   "metadata": {},
   "outputs": [
    {
     "data": {
      "text/plain": [
       "[('transactions', 14382196.0, 1.0, 0.23959768071081483),\n",
       " ('dcoilwtico', 10919443.0, 0.7592333604687351, 0.18191055228658698),\n",
       " ('item_nbr', 8136660.5, 0.5657453493193946, 0.13555127356985672),\n",
       " ('family', 7610045.0, 0.5291295571274373, 0.12677821468327458),\n",
       " ('class', 5112136.0, 0.35544891753665436, 0.08516473625295207),\n",
       " ('cluster', 2456731.5, 0.17081755108886015, 0.040927489065592015),\n",
       " ('holitype', 2407381.25, 0.16738620791984757, 0.0401053472005737),\n",
       " ('store_nbr', 2021540.5, 0.1405585419639671, 0.033677500658660264),\n",
       " ('city', 1877656.0, 0.13055419353205866, 0.03128048197735212),\n",
       " ('onpromotion', 1666297.5, 0.11585835014346905, 0.027759391985356686),\n",
       " ('type', 1345028.125, 0.09352035843483152, 0.02240726098022972),\n",
       " ('perishable', 1339899.25, 0.09316374564774392, 0.022321817383531714),\n",
       " ('state', 751426.1875, 0.05224697170724137, 0.012518253245218594)]"
      ]
     },
     "execution_count": 13,
     "metadata": {},
     "output_type": "execute_result"
    }
   ],
   "source": [
    "rf_fit2.varimp()"
   ]
  },
  {
   "cell_type": "code",
   "execution_count": 16,
   "metadata": {},
   "outputs": [
    {
     "data": {
      "image/png": "[encoded data removed]",
      "text/plain": [
       "<matplotlib.figure.Figure at 0x110d97c50>"
      ]
     },
     "metadata": {},
     "output_type": "display_data"
    }
   ],
   "source": [
    "rf_fit2.varimp_plot()"
   ]
  },
  {
   "cell_type": "code",
   "execution_count": null,
   "metadata": {},
   "outputs": [],
   "source": []
  }
 ],
 "metadata": {
  "kernelspec": {
   "display_name": "Python 3",
   "language": "python",
   "name": "python3"
  },
  "language_info": {
   "codemirror_mode": {
    "name": "ipython",
    "version": 3
   },
   "file_extension": ".py",
   "mimetype": "text/x-python",
   "name": "python",
   "nbconvert_exporter": "python",
   "pygments_lexer": "ipython3",
   "version": "3.5.4"
  }
 },
 "nbformat": 4,
 "nbformat_minor": 2
}
