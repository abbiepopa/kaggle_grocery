{
 "cells": [
  {
   "cell_type": "code",
   "execution_count": 1,
   "metadata": {},
   "outputs": [
    {
     "name": "stdout",
     "output_type": "stream",
     "text": [
      "Checking whether there is an H2O instance running at http://localhost:54321..... not found.\n",
      "Attempting to start a local H2O server...\n",
      "  Java Version: openjdk version \"1.8.0_121\"; OpenJDK Runtime Environment (Zulu 8.20.0.5-macosx) (build 1.8.0_121-b15); OpenJDK 64-Bit Server VM (Zulu 8.20.0.5-macosx) (build 25.121-b15, mixed mode)\n",
      "  Starting server from /anaconda/lib/python3.5/site-packages/h2o/backend/bin/h2o.jar\n",
      "  Ice root: /var/folders/0p/99_2wyss4231_ch878lbbnqh0000gn/T/tmp04sz45yl\n",
      "  JVM stdout: /var/folders/0p/99_2wyss4231_ch878lbbnqh0000gn/T/tmp04sz45yl/h2o_abbiepopa_started_from_python.out\n",
      "  JVM stderr: /var/folders/0p/99_2wyss4231_ch878lbbnqh0000gn/T/tmp04sz45yl/h2o_abbiepopa_started_from_python.err\n",
      "  Server is running at http://127.0.0.1:54321\n",
      "Connecting to H2O server at http://127.0.0.1:54321... successful.\n"
     ]
    },
    {
     "data": {
      "text/html": [
       "<div style=\"overflow:auto\"><table style=\"width:50%\"><tr><td>H2O cluster uptime:</td>\n",
       "<td>04 secs</td></tr>\n",
       "<tr><td>H2O cluster version:</td>\n",
       "<td>3.16.0.2</td></tr>\n",
       "<tr><td>H2O cluster version age:</td>\n",
       "<td>1 month and 8 days </td></tr>\n",
       "<tr><td>H2O cluster name:</td>\n",
       "<td>H2O_from_python_abbiepopa_djs4eh</td></tr>\n",
       "<tr><td>H2O cluster total nodes:</td>\n",
       "<td>1</td></tr>\n",
       "<tr><td>H2O cluster free memory:</td>\n",
       "<td>7.111 Gb</td></tr>\n",
       "<tr><td>H2O cluster total cores:</td>\n",
       "<td>4</td></tr>\n",
       "<tr><td>H2O cluster allowed cores:</td>\n",
       "<td>4</td></tr>\n",
       "<tr><td>H2O cluster status:</td>\n",
       "<td>accepting new members, healthy</td></tr>\n",
       "<tr><td>H2O connection url:</td>\n",
       "<td>http://127.0.0.1:54321</td></tr>\n",
       "<tr><td>H2O connection proxy:</td>\n",
       "<td>None</td></tr>\n",
       "<tr><td>H2O internal security:</td>\n",
       "<td>False</td></tr>\n",
       "<tr><td>H2O API Extensions:</td>\n",
       "<td>XGBoost, Algos, AutoML, Core V3, Core V4</td></tr>\n",
       "<tr><td>Python version:</td>\n",
       "<td>3.5.4 final</td></tr></table></div>"
      ],
      "text/plain": [
       "--------------------------  ----------------------------------------\n",
       "H2O cluster uptime:         04 secs\n",
       "H2O cluster version:        3.16.0.2\n",
       "H2O cluster version age:    1 month and 8 days\n",
       "H2O cluster name:           H2O_from_python_abbiepopa_djs4eh\n",
       "H2O cluster total nodes:    1\n",
       "H2O cluster free memory:    7.111 Gb\n",
       "H2O cluster total cores:    4\n",
       "H2O cluster allowed cores:  4\n",
       "H2O cluster status:         accepting new members, healthy\n",
       "H2O connection url:         http://127.0.0.1:54321\n",
       "H2O connection proxy:\n",
       "H2O internal security:      False\n",
       "H2O API Extensions:         XGBoost, Algos, AutoML, Core V3, Core V4\n",
       "Python version:             3.5.4 final\n",
       "--------------------------  ----------------------------------------"
      ]
     },
     "metadata": {},
     "output_type": "display_data"
    }
   ],
   "source": [
    "import h2o\n",
    "from h2o.estimators.random_forest import H2ORandomForestEstimator\n",
    "\n",
    "# Number of threads, nthreads = -1, means use all cores on your machine\n",
    "# max_mem_size is the maximum memory (in GB) to allocate to H2O\n",
    "h2o.init(nthreads = -1, max_mem_size = 8)"
   ]
  },
  {
   "cell_type": "code",
   "execution_count": 2,
   "metadata": {},
   "outputs": [
    {
     "name": "stdout",
     "output_type": "stream",
     "text": [
      "Parse progress: |█████████████████████████████████████████████████████████| 100%\n"
     ]
    }
   ],
   "source": [
    "d = h2o.import_file('../data/2016_subset_all_tables.csv')"
   ]
  },
  {
   "cell_type": "code",
   "execution_count": 3,
   "metadata": {},
   "outputs": [
    {
     "data": {
      "text/plain": [
       "(6937, 16)"
      ]
     },
     "execution_count": 3,
     "metadata": {},
     "output_type": "execute_result"
    }
   ],
   "source": [
    "d.shape"
   ]
  },
  {
   "cell_type": "code",
   "execution_count": 4,
   "metadata": {},
   "outputs": [
    {
     "data": {
      "text/html": [
       "<table>\n",
       "<thead>\n",
       "<tr><th style=\"text-align: right;\">         id</th><th>date               </th><th style=\"text-align: right;\">  store_nbr</th><th style=\"text-align: right;\">        item_nbr</th><th style=\"text-align: right;\">  unit_sales</th><th>onpromotion  </th><th>family       </th><th style=\"text-align: right;\">  class</th><th style=\"text-align: right;\">  perishable</th><th style=\"text-align: right;\">  dcoilwtico</th><th>city  </th><th>state    </th><th>type  </th><th style=\"text-align: right;\">  cluster</th><th style=\"text-align: right;\">  transactions</th><th>holitype  </th></tr>\n",
       "</thead>\n",
       "<tbody>\n",
       "<tr><td style=\"text-align: right;\">7.1279e+07 </td><td>2016-02-22 00:00:00</td><td style=\"text-align: right;\">          6</td><td style=\"text-align: right;\">     1.46403e+06</td><td style=\"text-align: right;\">       3    </td><td>False        </td><td>BEVERAGES    </td><td style=\"text-align: right;\">   1148</td><td style=\"text-align: right;\">           0</td><td style=\"text-align: right;\">       31.37</td><td>Quito </td><td>Pichincha</td><td>D     </td><td style=\"text-align: right;\">       13</td><td style=\"text-align: right;\">          1630</td><td>No_Holiday</td></tr>\n",
       "<tr><td style=\"text-align: right;\">8.2078e+07 </td><td>2016-06-14 00:00:00</td><td style=\"text-align: right;\">          6</td><td style=\"text-align: right;\">     1.9136e+06 </td><td style=\"text-align: right;\">       1    </td><td>False        </td><td>PERSONAL CARE</td><td style=\"text-align: right;\">   4118</td><td style=\"text-align: right;\">           0</td><td style=\"text-align: right;\">       48.49</td><td>Quito </td><td>Pichincha</td><td>D     </td><td style=\"text-align: right;\">       13</td><td style=\"text-align: right;\">          1603</td><td>No_Holiday</td></tr>\n",
       "<tr><td style=\"text-align: right;\">9.28523e+07</td><td>2016-10-04 00:00:00</td><td style=\"text-align: right;\">          6</td><td style=\"text-align: right;\">881701          </td><td style=\"text-align: right;\">       2    </td><td>False        </td><td>GROCERY I    </td><td style=\"text-align: right;\">   1042</td><td style=\"text-align: right;\">           0</td><td style=\"text-align: right;\">       48.67</td><td>Quito </td><td>Pichincha</td><td>D     </td><td style=\"text-align: right;\">       13</td><td style=\"text-align: right;\">          1605</td><td>No_Holiday</td></tr>\n",
       "<tr><td style=\"text-align: right;\">7.27136e+07</td><td>2016-03-08 00:00:00</td><td style=\"text-align: right;\">          6</td><td style=\"text-align: right;\">     1.15095e+06</td><td style=\"text-align: right;\">       2    </td><td>False        </td><td>BEVERAGES    </td><td style=\"text-align: right;\">   1124</td><td style=\"text-align: right;\">           0</td><td style=\"text-align: right;\">       36.67</td><td>Quito </td><td>Pichincha</td><td>D     </td><td style=\"text-align: right;\">       13</td><td style=\"text-align: right;\">          1732</td><td>No_Holiday</td></tr>\n",
       "<tr><td style=\"text-align: right;\">7.27143e+07</td><td>2016-03-08 00:00:00</td><td style=\"text-align: right;\">          6</td><td style=\"text-align: right;\">     1.89896e+06</td><td style=\"text-align: right;\">       5    </td><td>False        </td><td>BEVERAGES    </td><td style=\"text-align: right;\">   1126</td><td style=\"text-align: right;\">           0</td><td style=\"text-align: right;\">       36.67</td><td>Quito </td><td>Pichincha</td><td>D     </td><td style=\"text-align: right;\">       13</td><td style=\"text-align: right;\">          1732</td><td>No_Holiday</td></tr>\n",
       "<tr><td style=\"text-align: right;\">8.50331e+07</td><td>2016-07-15 00:00:00</td><td style=\"text-align: right;\">          6</td><td style=\"text-align: right;\">     1.47191e+06</td><td style=\"text-align: right;\">       4    </td><td>False        </td><td>PET SUPPLIES </td><td style=\"text-align: right;\">   6516</td><td style=\"text-align: right;\">           0</td><td style=\"text-align: right;\">       45.93</td><td>Quito </td><td>Pichincha</td><td>D     </td><td style=\"text-align: right;\">       13</td><td style=\"text-align: right;\">          1785</td><td>No_Holiday</td></tr>\n",
       "<tr><td style=\"text-align: right;\">9.65588e+07</td><td>2016-11-11 00:00:00</td><td style=\"text-align: right;\">          6</td><td style=\"text-align: right;\">841612          </td><td style=\"text-align: right;\">       9    </td><td>False        </td><td>CLEANING     </td><td style=\"text-align: right;\">   3038</td><td style=\"text-align: right;\">           0</td><td style=\"text-align: right;\">       43.39</td><td>Quito </td><td>Pichincha</td><td>D     </td><td style=\"text-align: right;\">       13</td><td style=\"text-align: right;\">          1574</td><td>No_Holiday</td></tr>\n",
       "<tr><td style=\"text-align: right;\">9.64669e+07</td><td>2016-11-10 00:00:00</td><td style=\"text-align: right;\">          6</td><td style=\"text-align: right;\">270522          </td><td style=\"text-align: right;\">       1    </td><td>False        </td><td>AUTOMOTIVE   </td><td style=\"text-align: right;\">   6806</td><td style=\"text-align: right;\">           0</td><td style=\"text-align: right;\">       44.62</td><td>Quito </td><td>Pichincha</td><td>D     </td><td style=\"text-align: right;\">       13</td><td style=\"text-align: right;\">          1497</td><td>No_Holiday</td></tr>\n",
       "<tr><td style=\"text-align: right;\">7.21284e+07</td><td>2016-03-02 00:00:00</td><td style=\"text-align: right;\">          6</td><td style=\"text-align: right;\">     2.0104e+06 </td><td style=\"text-align: right;\">       1    </td><td>False        </td><td>GROCERY I    </td><td style=\"text-align: right;\">   1072</td><td style=\"text-align: right;\">           0</td><td style=\"text-align: right;\">       34.57</td><td>Quito </td><td>Pichincha</td><td>D     </td><td style=\"text-align: right;\">       13</td><td style=\"text-align: right;\">          1817</td><td>No_Holiday</td></tr>\n",
       "<tr><td style=\"text-align: right;\">7.41329e+07</td><td>2016-03-23 00:00:00</td><td style=\"text-align: right;\">          6</td><td style=\"text-align: right;\">     1.95466e+06</td><td style=\"text-align: right;\">      16.636</td><td>True         </td><td>PRODUCE      </td><td style=\"text-align: right;\">   2008</td><td style=\"text-align: right;\">           1</td><td style=\"text-align: right;\">       38.28</td><td>Quito </td><td>Pichincha</td><td>D     </td><td style=\"text-align: right;\">       13</td><td style=\"text-align: right;\">          1850</td><td>No_Holiday</td></tr>\n",
       "</tbody>\n",
       "</table>"
      ]
     },
     "metadata": {},
     "output_type": "display_data"
    },
    {
     "data": {
      "text/plain": []
     },
     "execution_count": 4,
     "metadata": {},
     "output_type": "execute_result"
    }
   ],
   "source": [
    "d.head()"
   ]
  },
  {
   "cell_type": "code",
   "execution_count": 5,
   "metadata": {},
   "outputs": [
    {
     "name": "stdout",
     "output_type": "stream",
     "text": [
      "drf Model Build progress: |███████████████████████████████████████████████| 100%\n"
     ]
    }
   ],
   "source": [
    "#to start, lets go with on_promotion, transactions, and family since those were best last time\n",
    "x = ['onpromotion', 'transactions', 'family']\n",
    "y = 'unit_sales'\n",
    "\n",
    "rf_fit1 = H2ORandomForestEstimator(model_id='rf_fit1', seed=1)\n",
    "rf_fit1.train(x=x, y=y, training_frame = d)"
   ]
  },
  {
   "cell_type": "code",
   "execution_count": 6,
   "metadata": {},
   "outputs": [
    {
     "name": "stdout",
     "output_type": "stream",
     "text": [
      "\n",
      "ModelMetricsRegression: drf\n",
      "** Reported on train data. **\n",
      "\n",
      "MSE: 323.13404382020303\n",
      "RMSE: 17.975929567624675\n",
      "MAE: 6.446356345737289\n",
      "RMSLE: 0.8938706956256336\n",
      "Mean Residual Deviance: 323.13404382020303\n"
     ]
    },
    {
     "data": {
      "text/plain": []
     },
     "execution_count": 6,
     "metadata": {},
     "output_type": "execute_result"
    }
   ],
   "source": [
    "rf_fit1.model_performance()"
   ]
  },
  {
   "cell_type": "code",
   "execution_count": 7,
   "metadata": {},
   "outputs": [],
   "source": [
    "#granted, it's not really taking advantage of the random forest to only feed it three features\n",
    "#but this is kinda a proof of concept!"
   ]
  },
  {
   "cell_type": "code",
   "execution_count": 8,
   "metadata": {},
   "outputs": [
    {
     "name": "stdout",
     "output_type": "stream",
     "text": [
      "Parse progress: |█████████████████████████████████████████████████████████| 100%\n"
     ]
    }
   ],
   "source": [
    "test = h2o.import_file('../data/test_concatted.csv')"
   ]
  },
  {
   "cell_type": "code",
   "execution_count": 9,
   "metadata": {},
   "outputs": [
    {
     "name": "stdout",
     "output_type": "stream",
     "text": [
      "drf prediction progress: |████████████████████████████████████████████████| 100%\n"
     ]
    },
    {
     "name": "stderr",
     "output_type": "stream",
     "text": [
      "/anaconda/lib/python3.5/site-packages/h2o/job.py:69: UserWarning: Test/Validation dataset column 'family' has levels not trained on: [HOME APPLIANCES]\n",
      "  warnings.warn(w)\n"
     ]
    }
   ],
   "source": [
    "pred = rf_fit1.predict(test)"
   ]
  },
  {
   "cell_type": "code",
   "execution_count": 10,
   "metadata": {},
   "outputs": [],
   "source": [
    "out = test[['id']].cbind(pred)"
   ]
  },
  {
   "cell_type": "code",
   "execution_count": 11,
   "metadata": {},
   "outputs": [],
   "source": [
    "out.columns = ['id', 'unit_sales']"
   ]
  },
  {
   "cell_type": "code",
   "execution_count": 12,
   "metadata": {},
   "outputs": [],
   "source": [
    "out_df = out.as_data_frame()"
   ]
  },
  {
   "cell_type": "code",
   "execution_count": 13,
   "metadata": {},
   "outputs": [],
   "source": [
    "out_df.to_csv('../data/3f_rf_pred.csv', index = False)"
   ]
  },
  {
   "cell_type": "code",
   "execution_count": 14,
   "metadata": {},
   "outputs": [
    {
     "data": {
      "text/html": [
       "<table>\n",
       "<thead>\n",
       "<tr><th style=\"text-align: right;\">  C1</th><th style=\"text-align: right;\">         id</th><th style=\"text-align: right;\">  store_nbr</th><th>onpromotion  </th><th>family   </th><th style=\"text-align: right;\">  transactions</th></tr>\n",
       "</thead>\n",
       "<tbody>\n",
       "<tr><td style=\"text-align: right;\">   0</td><td style=\"text-align: right;\">1.25497e+08</td><td style=\"text-align: right;\">          1</td><td>False        </td><td>GROCERY I</td><td style=\"text-align: right;\">       1523.84</td></tr>\n",
       "<tr><td style=\"text-align: right;\">   1</td><td style=\"text-align: right;\">1.27395e+08</td><td style=\"text-align: right;\">          1</td><td>False        </td><td>DAIRY    </td><td style=\"text-align: right;\">       1523.84</td></tr>\n",
       "<tr><td style=\"text-align: right;\">   2</td><td style=\"text-align: right;\">1.25708e+08</td><td style=\"text-align: right;\">          1</td><td>False        </td><td>GROCERY I</td><td style=\"text-align: right;\">       1523.84</td></tr>\n",
       "<tr><td style=\"text-align: right;\">   3</td><td style=\"text-align: right;\">1.27605e+08</td><td style=\"text-align: right;\">          1</td><td>False        </td><td>DAIRY    </td><td style=\"text-align: right;\">       1523.84</td></tr>\n",
       "<tr><td style=\"text-align: right;\">   4</td><td style=\"text-align: right;\">1.25918e+08</td><td style=\"text-align: right;\">          1</td><td>False        </td><td>GROCERY I</td><td style=\"text-align: right;\">       1523.84</td></tr>\n",
       "<tr><td style=\"text-align: right;\">   5</td><td style=\"text-align: right;\">1.27816e+08</td><td style=\"text-align: right;\">          1</td><td>False        </td><td>DAIRY    </td><td style=\"text-align: right;\">       1523.84</td></tr>\n",
       "<tr><td style=\"text-align: right;\">   6</td><td style=\"text-align: right;\">1.26129e+08</td><td style=\"text-align: right;\">          1</td><td>False        </td><td>GROCERY I</td><td style=\"text-align: right;\">       1523.84</td></tr>\n",
       "<tr><td style=\"text-align: right;\">   7</td><td style=\"text-align: right;\">1.28027e+08</td><td style=\"text-align: right;\">          1</td><td>False        </td><td>DAIRY    </td><td style=\"text-align: right;\">       1523.84</td></tr>\n",
       "<tr><td style=\"text-align: right;\">   8</td><td style=\"text-align: right;\">1.2634e+08 </td><td style=\"text-align: right;\">          1</td><td>False        </td><td>GROCERY I</td><td style=\"text-align: right;\">       1523.84</td></tr>\n",
       "<tr><td style=\"text-align: right;\">   9</td><td style=\"text-align: right;\">1.28237e+08</td><td style=\"text-align: right;\">          1</td><td>False        </td><td>DAIRY    </td><td style=\"text-align: right;\">       1523.84</td></tr>\n",
       "</tbody>\n",
       "</table>"
      ]
     },
     "metadata": {},
     "output_type": "display_data"
    },
    {
     "data": {
      "text/plain": []
     },
     "execution_count": 14,
     "metadata": {},
     "output_type": "execute_result"
    }
   ],
   "source": [
    "test.head()"
   ]
  },
  {
   "cell_type": "code",
   "execution_count": null,
   "metadata": {},
   "outputs": [],
   "source": []
  }
 ],
 "metadata": {
  "kernelspec": {
   "display_name": "Python 3",
   "language": "python",
   "name": "python3"
  },
  "language_info": {
   "codemirror_mode": {
    "name": "ipython",
    "version": 3
   },
   "file_extension": ".py",
   "mimetype": "text/x-python",
   "name": "python",
   "nbconvert_exporter": "python",
   "pygments_lexer": "ipython3",
   "version": "3.5.4"
  }
 },
 "nbformat": 4,
 "nbformat_minor": 2
}
